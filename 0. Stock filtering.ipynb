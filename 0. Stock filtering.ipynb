{
 "cells": [
  {
   "cell_type": "markdown",
   "source": [
    "# Filter out the stocks that does not have 10 years of data"
   ],
   "metadata": {
    "collapsed": false,
    "pycharm": {
     "name": "#%% md\n"
    }
   }
  },
  {
   "cell_type": "code",
   "execution_count": 2,
   "metadata": {
    "collapsed": true
   },
   "outputs": [],
   "source": [
    "import yfinance as yf\n",
    "import pandas as pd"
   ]
  },
  {
   "cell_type": "markdown",
   "source": [
    "## Find shortlisted list in HK stock"
   ],
   "metadata": {
    "collapsed": false,
    "pycharm": {
     "name": "#%% md\n"
    }
   }
  },
  {
   "cell_type": "code",
   "execution_count": null,
   "outputs": [],
   "source": [
    "def lpad_string(x):\n",
    "    x = x.replace(\".HK\", \"\")\n",
    "    x = int(x)\n",
    "    return \"{}.HK\".format(str(x).zfill(4))"
   ],
   "metadata": {
    "collapsed": false,
    "pycharm": {
     "name": "#%%\n"
    }
   }
  },
  {
   "cell_type": "code",
   "execution_count": 81,
   "outputs": [
    {
     "name": "stdout",
     "output_type": "stream",
     "text": [
      "Pandas(Index=15, Name='WH GROUP', Symbol='0288.HK', Last=5.47, _4=0.03, _5='+0.551%', _6='24.79M', _7='135.88M', _8='12.55', _9=1.04, Yield='3.20%', _11='70.18B')\n",
      "Pandas(Index=29, Name='XINYI SOLAR', Symbol='0968.HK', Last=14.06, _4=-0.24, _5='-1.678%', _6='23.45M', _7='332.73M', _8='25.38', _9=4.67, Yield='1.81%', _11='125.00B')\n",
      "Pandas(Index=34, Name='CK ASSET', Symbol='1113.HK', Last=47.8, _4=-0.4, _5='-0.830%', _6='3.50M', _7='167.50M', _8='10.81', _9=0.5, Yield='3.77%', _11='174.16B')\n",
      "Pandas(Index=39, Name='XIAOMI-W', Symbol='1810.HK', Last=20.4, _4=-0.35, _5='-1.687%', _6='64.42M', _7='1.32B', _8='20.16', _9=3.49, Yield='0.00%', _11='511.95B')\n",
      "Pandas(Index=40, Name='BUD APAC', Symbol='1876.HK', Last=21.05, _4=0.15, _5='+0.718%', _6='4.52M', _7='94.73M', _8='69.80', _9=3.37, Yield='1.04%', _11='278.77B')\n",
      "Pandas(Index=42, Name='WHARF REIC', Symbol='1997.HK', Last=43.3, _4=0.35, _5='+0.815%', _6='2.67M', _7='114.77M', _8='No Profit', _9=0.64, Yield='3.40%', _11='131.47B')\n",
      "Pandas(Index=46, Name='WUXI BIO', Symbol='2269.HK', Last=101.9, _4=-2.9, _5='-2.767%', _6='30.61M', _7='3.13B', _8='198.82', _9=16.98, Yield='0.00%', _11='432.34B')\n",
      "Pandas(Index=54, Name='MEITUAN-W', Symbol='3690.HK', Last=276.8, _4=-9.2, _5='-3.217%', _6='14.73M', _7='4.11B', _8='286.71', _9=13.99, Yield='0.00%', _11='1,698.12B')\n",
      "Pandas(Index=57, Name='CG SERVICES', Symbol='6098.HK', Last=55.05, _4=-1.35, _5='-2.394%', _6='18.49M', _7='1.02B', _8='47.31', _9=9.3, Yield='0.47%', _11='177.16B')\n",
      "Pandas(Index=58, Name='HAIDILAO', Symbol='6862.HK', Last=21.05, _4=1.09, _5='+5.461%', _6='25.64M', _7='531.48M', _8='294.35', _9=9.15, Yield='0.10%', _11='114.91B')\n",
      "Pandas(Index=59, Name='BABA-SW', Symbol='9988.HK', Last=159.9, _4=-5.7, _5='-3.442%', _6='26.17M', _7='4.20B', _8='19.43', _9=3.13, Yield='0.00%', _11='3,431.74B')\n"
     ]
    },
    {
     "data": {
      "text/plain": "               Name   Symbol    Last   Chg.   Chg. %     Vol.    Turn.  \\\n0      CKH HOLDINGS  0001.HK   51.95   0.15  +0.290%    2.78M  144.77M   \n1      CLP HOLDINGS  0002.HK   75.65  -0.20  -0.264%    2.82M  213.51M   \n2    HK & CHINA GAS  0003.HK   11.86   0.02  +0.169%   12.32M  146.43M   \n3     HSBC HOLDINGS  0005.HK   45.45  -1.70  -3.606%   32.93M    1.48B   \n4      POWER ASSETS  0006.HK   47.15  -0.15  -0.317%    2.00M   94.27M   \n5    HANG SENG BANK  0011.HK  147.70   0.40  +0.272%    1.06M  155.94M   \n6    HENDERSON LAND  0012.HK   32.80   0.95  +2.983%    4.47M  145.41M   \n7           SHK PPT  0016.HK  103.30   0.40  +0.389%    3.64M  374.40M   \n8     NEW WORLD DEV  0017.HK   33.55   0.00   0.000%    2.27M   75.85M   \n9        GALAXY ENT  0027.HK   41.95   0.20  +0.479%   10.50M  438.50M   \n10  MTR CORPORATION  0066.HK   42.95   0.25  +0.585%    3.65M  156.40M   \n11    HANG LUNG PPT  0101.HK   17.88   0.18  +1.017%    6.02M  106.91M   \n12       GEELY AUTO  0175.HK   26.50   0.30  +1.145%   55.78M    1.48B   \n13       ALI HEALTH  0241.HK    9.07   0.11  +1.228%   23.13M  210.93M   \n14            CITIC  0267.HK    7.18  -0.10  -1.374%   13.48M   96.82M   \n15     SINOPEC CORP  0386.HK    3.74  -0.08  -2.094%  109.17M  409.47M   \n16             HKEX  0388.HK  466.00   1.60  +0.345%    2.73M    1.26B   \n17   TECHTRONIC IND  0669.HK  159.10   0.30  +0.189%    1.79M  284.40M   \n18   CHINA OVERSEAS  0688.HK   16.36  -0.16  -0.969%   17.80M  290.71M   \n19          TENCENT  0700.HK  467.40 -13.40  -2.787%   20.02M    9.39B   \n20     CHINA UNICOM  0762.HK    3.97  -0.02  -0.501%   28.61M  113.47M   \n21        LINK REIT  0823.HK   68.70  -0.05  -0.073%  838.06K   57.52M   \n22       PETROCHINA  0857.HK    3.44  -0.18  -4.972%  179.54M  622.36M   \n23      XINYI GLASS  0868.HK   20.05  -0.70  -3.373%   12.69M  255.40M   \n24            CNOOC  0883.HK    8.16  -0.18  -2.158%   75.73M  619.11M   \n25              CCB  0939.HK    5.17  -0.08  -1.524%  324.09M    1.68B   \n26     CHINA MOBILE  0941.HK   48.70   0.25  +0.516%   13.20M  638.56M   \n27    LONGFOR GROUP  0960.HK   33.75  -0.60  -1.747%    3.78M  127.67M   \n28     CKI HOLDINGS  1038.HK   46.40   0.20  +0.433%    1.13M   52.26M   \n29     HENGAN INT'L  1044.HK   39.50  -0.35  -0.878%  791.83K   31.36M   \n30      CSPC PHARMA  1093.HK    7.89  -0.28  -3.427%   32.06M  255.12M   \n31   CHINA RES LAND  1109.HK   28.45  -0.35  -1.215%   12.03M  343.41M   \n32    SINO BIOPHARM  1177.HK    5.49  -0.15  -2.660%   32.19M  177.65M   \n33      BYD COMPANY  1211.HK  311.00  -4.60  -1.458%   10.92M    3.40B   \n34              AIA  1299.HK   86.15   0.55  +0.643%   28.31M    2.45B   \n35             ICBC  1398.HK    4.19  -0.07  -1.643%  252.89M    1.06B   \n36  SANDS CHINA LTD  1928.HK   17.12  -0.10  -0.581%   12.71M  216.81M   \n37   COUNTRY GARDEN  2007.HK    6.85  -0.20  -2.837%   53.16M  364.66M   \n38         AAC TECH  2018.HK   32.00   0.00   0.000%    4.24M  135.49M   \n39      ANTA SPORTS  2020.HK  125.10   0.40  +0.321%    7.85M  985.26M   \n40    SHENZHOU INTL  2313.HK  159.70   0.30  +0.188%    3.14M  496.64M   \n41          PING AN  2318.HK   54.05  -0.95  -1.727%   23.09M    1.26B   \n42    MENGNIU DAIRY  2319.HK   48.75   0.30  +0.619%   11.29M  553.79M   \n43          LI NING  2331.HK   93.00   2.25  +2.479%   21.04M    1.96B   \n44    SUNNY OPTICAL  2382.HK  221.20   8.20  +3.850%    6.20M    1.37B   \n45    BOC HONG KONG  2388.HK   24.45  -0.40  -1.610%    7.82M  191.03M   \n46       CHINA LIFE  2628.HK   13.40  -0.10  -0.741%   21.27M  284.83M   \n47          CM BANK  3968.HK   63.45  -0.65  -1.014%    8.50M  539.66M   \n48    BANK OF CHINA  3988.HK    2.73  -0.02  -0.727%  237.50M  649.27M   \n\n          P/E    P/B  Yield Market Cap  \n0        6.87   0.41  4.45%    199.30B  \n1       16.70   1.70  4.10%    191.13B  \n2       36.84   3.32  2.81%    221.31B  \n3       30.85   0.62  2.56%    942.58B  \n4       16.43   1.19  5.96%    100.63B  \n5       17.67   1.54  3.72%    282.38B  \n6       15.55   0.49  5.49%    158.80B  \n7       11.22   0.50  4.79%    299.34B  \n8       72.94   0.38  6.14%     84.43B  \n9   No Profit   2.70  0.00%    182.73B  \n10  No Profit   1.50  2.86%    266.01B  \n11  No Profit   0.58  4.25%     80.44B  \n12      39.70   3.62  0.76%    260.26B  \n13     291.20   7.22  0.00%    122.35B  \n14       3.68   0.31  6.80%    208.87B  \n15      11.49   0.51  6.37%     95.42B  \n16      51.15  12.08  1.75%    590.81B  \n17      46.85   9.64  0.85%    291.79B  \n18       3.42   0.48  7.21%    179.06B  \n19      23.28   5.34  0.34%  4,485.29B  \n20       8.12   0.31  4.92%    121.47B  \n21     120.53   0.90  4.22%    143.63B  \n22      28.86   0.44  6.06%     72.58B  \n23      12.57   2.91  3.94%     80.74B  \n24      12.23   0.71  5.52%    364.32B  \n25       4.09   0.47  7.52%  1,242.96B  \n26       7.75   0.73  6.76%    997.16B  \n27       8.30   1.58  5.05%    204.96B  \n28      15.95   1.10  5.32%    122.99B  \n29       8.58   2.03  7.54%     46.42B  \n30      15.34   3.55  1.62%     94.47B  \n31       5.71   0.84  5.24%    202.88B  \n32      31.25   5.19  1.33%    103.48B  \n33     177.50  12.76  0.06%    325.93B  \n34      23.15   2.13  1.57%  1,042.13B  \n35       4.09   0.45  7.57%    363.67B  \n36  No Profit   9.26  0.00%    138.56B  \n37       3.55   0.72  7.92%    153.99B  \n38      21.48   1.53  0.94%     38.67B  \n39      54.69  11.82  0.54%    338.19B  \n40      39.41   7.38  1.25%    240.06B  \n41       5.60   1.09  4.85%    402.54B  \n42      45.60   4.90  0.66%    192.71B  \n43     112.74  22.22  0.26%    243.31B  \n44      41.63  12.27  0.48%    242.62B  \n45       9.76   0.89  5.08%    258.50B  \n46       6.35   0.71  5.69%     99.71B  \n47      14.05   1.86  2.35%    291.29B  \n48       3.76   0.33  8.60%    228.29B  ",
      "text/html": "<div>\n<style scoped>\n    .dataframe tbody tr th:only-of-type {\n        vertical-align: middle;\n    }\n\n    .dataframe tbody tr th {\n        vertical-align: top;\n    }\n\n    .dataframe thead th {\n        text-align: right;\n    }\n</style>\n<table border=\"1\" class=\"dataframe\">\n  <thead>\n    <tr style=\"text-align: right;\">\n      <th></th>\n      <th>Name</th>\n      <th>Symbol</th>\n      <th>Last</th>\n      <th>Chg.</th>\n      <th>Chg. %</th>\n      <th>Vol.</th>\n      <th>Turn.</th>\n      <th>P/E</th>\n      <th>P/B</th>\n      <th>Yield</th>\n      <th>Market Cap</th>\n    </tr>\n  </thead>\n  <tbody>\n    <tr>\n      <th>0</th>\n      <td>CKH HOLDINGS</td>\n      <td>0001.HK</td>\n      <td>51.95</td>\n      <td>0.15</td>\n      <td>+0.290%</td>\n      <td>2.78M</td>\n      <td>144.77M</td>\n      <td>6.87</td>\n      <td>0.41</td>\n      <td>4.45%</td>\n      <td>199.30B</td>\n    </tr>\n    <tr>\n      <th>1</th>\n      <td>CLP HOLDINGS</td>\n      <td>0002.HK</td>\n      <td>75.65</td>\n      <td>-0.20</td>\n      <td>-0.264%</td>\n      <td>2.82M</td>\n      <td>213.51M</td>\n      <td>16.70</td>\n      <td>1.70</td>\n      <td>4.10%</td>\n      <td>191.13B</td>\n    </tr>\n    <tr>\n      <th>2</th>\n      <td>HK &amp; CHINA GAS</td>\n      <td>0003.HK</td>\n      <td>11.86</td>\n      <td>0.02</td>\n      <td>+0.169%</td>\n      <td>12.32M</td>\n      <td>146.43M</td>\n      <td>36.84</td>\n      <td>3.32</td>\n      <td>2.81%</td>\n      <td>221.31B</td>\n    </tr>\n    <tr>\n      <th>3</th>\n      <td>HSBC HOLDINGS</td>\n      <td>0005.HK</td>\n      <td>45.45</td>\n      <td>-1.70</td>\n      <td>-3.606%</td>\n      <td>32.93M</td>\n      <td>1.48B</td>\n      <td>30.85</td>\n      <td>0.62</td>\n      <td>2.56%</td>\n      <td>942.58B</td>\n    </tr>\n    <tr>\n      <th>4</th>\n      <td>POWER ASSETS</td>\n      <td>0006.HK</td>\n      <td>47.15</td>\n      <td>-0.15</td>\n      <td>-0.317%</td>\n      <td>2.00M</td>\n      <td>94.27M</td>\n      <td>16.43</td>\n      <td>1.19</td>\n      <td>5.96%</td>\n      <td>100.63B</td>\n    </tr>\n    <tr>\n      <th>5</th>\n      <td>HANG SENG BANK</td>\n      <td>0011.HK</td>\n      <td>147.70</td>\n      <td>0.40</td>\n      <td>+0.272%</td>\n      <td>1.06M</td>\n      <td>155.94M</td>\n      <td>17.67</td>\n      <td>1.54</td>\n      <td>3.72%</td>\n      <td>282.38B</td>\n    </tr>\n    <tr>\n      <th>6</th>\n      <td>HENDERSON LAND</td>\n      <td>0012.HK</td>\n      <td>32.80</td>\n      <td>0.95</td>\n      <td>+2.983%</td>\n      <td>4.47M</td>\n      <td>145.41M</td>\n      <td>15.55</td>\n      <td>0.49</td>\n      <td>5.49%</td>\n      <td>158.80B</td>\n    </tr>\n    <tr>\n      <th>7</th>\n      <td>SHK PPT</td>\n      <td>0016.HK</td>\n      <td>103.30</td>\n      <td>0.40</td>\n      <td>+0.389%</td>\n      <td>3.64M</td>\n      <td>374.40M</td>\n      <td>11.22</td>\n      <td>0.50</td>\n      <td>4.79%</td>\n      <td>299.34B</td>\n    </tr>\n    <tr>\n      <th>8</th>\n      <td>NEW WORLD DEV</td>\n      <td>0017.HK</td>\n      <td>33.55</td>\n      <td>0.00</td>\n      <td>0.000%</td>\n      <td>2.27M</td>\n      <td>75.85M</td>\n      <td>72.94</td>\n      <td>0.38</td>\n      <td>6.14%</td>\n      <td>84.43B</td>\n    </tr>\n    <tr>\n      <th>9</th>\n      <td>GALAXY ENT</td>\n      <td>0027.HK</td>\n      <td>41.95</td>\n      <td>0.20</td>\n      <td>+0.479%</td>\n      <td>10.50M</td>\n      <td>438.50M</td>\n      <td>No Profit</td>\n      <td>2.70</td>\n      <td>0.00%</td>\n      <td>182.73B</td>\n    </tr>\n    <tr>\n      <th>10</th>\n      <td>MTR CORPORATION</td>\n      <td>0066.HK</td>\n      <td>42.95</td>\n      <td>0.25</td>\n      <td>+0.585%</td>\n      <td>3.65M</td>\n      <td>156.40M</td>\n      <td>No Profit</td>\n      <td>1.50</td>\n      <td>2.86%</td>\n      <td>266.01B</td>\n    </tr>\n    <tr>\n      <th>11</th>\n      <td>HANG LUNG PPT</td>\n      <td>0101.HK</td>\n      <td>17.88</td>\n      <td>0.18</td>\n      <td>+1.017%</td>\n      <td>6.02M</td>\n      <td>106.91M</td>\n      <td>No Profit</td>\n      <td>0.58</td>\n      <td>4.25%</td>\n      <td>80.44B</td>\n    </tr>\n    <tr>\n      <th>12</th>\n      <td>GEELY AUTO</td>\n      <td>0175.HK</td>\n      <td>26.50</td>\n      <td>0.30</td>\n      <td>+1.145%</td>\n      <td>55.78M</td>\n      <td>1.48B</td>\n      <td>39.70</td>\n      <td>3.62</td>\n      <td>0.76%</td>\n      <td>260.26B</td>\n    </tr>\n    <tr>\n      <th>13</th>\n      <td>ALI HEALTH</td>\n      <td>0241.HK</td>\n      <td>9.07</td>\n      <td>0.11</td>\n      <td>+1.228%</td>\n      <td>23.13M</td>\n      <td>210.93M</td>\n      <td>291.20</td>\n      <td>7.22</td>\n      <td>0.00%</td>\n      <td>122.35B</td>\n    </tr>\n    <tr>\n      <th>14</th>\n      <td>CITIC</td>\n      <td>0267.HK</td>\n      <td>7.18</td>\n      <td>-0.10</td>\n      <td>-1.374%</td>\n      <td>13.48M</td>\n      <td>96.82M</td>\n      <td>3.68</td>\n      <td>0.31</td>\n      <td>6.80%</td>\n      <td>208.87B</td>\n    </tr>\n    <tr>\n      <th>15</th>\n      <td>SINOPEC CORP</td>\n      <td>0386.HK</td>\n      <td>3.74</td>\n      <td>-0.08</td>\n      <td>-2.094%</td>\n      <td>109.17M</td>\n      <td>409.47M</td>\n      <td>11.49</td>\n      <td>0.51</td>\n      <td>6.37%</td>\n      <td>95.42B</td>\n    </tr>\n    <tr>\n      <th>16</th>\n      <td>HKEX</td>\n      <td>0388.HK</td>\n      <td>466.00</td>\n      <td>1.60</td>\n      <td>+0.345%</td>\n      <td>2.73M</td>\n      <td>1.26B</td>\n      <td>51.15</td>\n      <td>12.08</td>\n      <td>1.75%</td>\n      <td>590.81B</td>\n    </tr>\n    <tr>\n      <th>17</th>\n      <td>TECHTRONIC IND</td>\n      <td>0669.HK</td>\n      <td>159.10</td>\n      <td>0.30</td>\n      <td>+0.189%</td>\n      <td>1.79M</td>\n      <td>284.40M</td>\n      <td>46.85</td>\n      <td>9.64</td>\n      <td>0.85%</td>\n      <td>291.79B</td>\n    </tr>\n    <tr>\n      <th>18</th>\n      <td>CHINA OVERSEAS</td>\n      <td>0688.HK</td>\n      <td>16.36</td>\n      <td>-0.16</td>\n      <td>-0.969%</td>\n      <td>17.80M</td>\n      <td>290.71M</td>\n      <td>3.42</td>\n      <td>0.48</td>\n      <td>7.21%</td>\n      <td>179.06B</td>\n    </tr>\n    <tr>\n      <th>19</th>\n      <td>TENCENT</td>\n      <td>0700.HK</td>\n      <td>467.40</td>\n      <td>-13.40</td>\n      <td>-2.787%</td>\n      <td>20.02M</td>\n      <td>9.39B</td>\n      <td>23.28</td>\n      <td>5.34</td>\n      <td>0.34%</td>\n      <td>4,485.29B</td>\n    </tr>\n    <tr>\n      <th>20</th>\n      <td>CHINA UNICOM</td>\n      <td>0762.HK</td>\n      <td>3.97</td>\n      <td>-0.02</td>\n      <td>-0.501%</td>\n      <td>28.61M</td>\n      <td>113.47M</td>\n      <td>8.12</td>\n      <td>0.31</td>\n      <td>4.92%</td>\n      <td>121.47B</td>\n    </tr>\n    <tr>\n      <th>21</th>\n      <td>LINK REIT</td>\n      <td>0823.HK</td>\n      <td>68.70</td>\n      <td>-0.05</td>\n      <td>-0.073%</td>\n      <td>838.06K</td>\n      <td>57.52M</td>\n      <td>120.53</td>\n      <td>0.90</td>\n      <td>4.22%</td>\n      <td>143.63B</td>\n    </tr>\n    <tr>\n      <th>22</th>\n      <td>PETROCHINA</td>\n      <td>0857.HK</td>\n      <td>3.44</td>\n      <td>-0.18</td>\n      <td>-4.972%</td>\n      <td>179.54M</td>\n      <td>622.36M</td>\n      <td>28.86</td>\n      <td>0.44</td>\n      <td>6.06%</td>\n      <td>72.58B</td>\n    </tr>\n    <tr>\n      <th>23</th>\n      <td>XINYI GLASS</td>\n      <td>0868.HK</td>\n      <td>20.05</td>\n      <td>-0.70</td>\n      <td>-3.373%</td>\n      <td>12.69M</td>\n      <td>255.40M</td>\n      <td>12.57</td>\n      <td>2.91</td>\n      <td>3.94%</td>\n      <td>80.74B</td>\n    </tr>\n    <tr>\n      <th>24</th>\n      <td>CNOOC</td>\n      <td>0883.HK</td>\n      <td>8.16</td>\n      <td>-0.18</td>\n      <td>-2.158%</td>\n      <td>75.73M</td>\n      <td>619.11M</td>\n      <td>12.23</td>\n      <td>0.71</td>\n      <td>5.52%</td>\n      <td>364.32B</td>\n    </tr>\n    <tr>\n      <th>25</th>\n      <td>CCB</td>\n      <td>0939.HK</td>\n      <td>5.17</td>\n      <td>-0.08</td>\n      <td>-1.524%</td>\n      <td>324.09M</td>\n      <td>1.68B</td>\n      <td>4.09</td>\n      <td>0.47</td>\n      <td>7.52%</td>\n      <td>1,242.96B</td>\n    </tr>\n    <tr>\n      <th>26</th>\n      <td>CHINA MOBILE</td>\n      <td>0941.HK</td>\n      <td>48.70</td>\n      <td>0.25</td>\n      <td>+0.516%</td>\n      <td>13.20M</td>\n      <td>638.56M</td>\n      <td>7.75</td>\n      <td>0.73</td>\n      <td>6.76%</td>\n      <td>997.16B</td>\n    </tr>\n    <tr>\n      <th>27</th>\n      <td>LONGFOR GROUP</td>\n      <td>0960.HK</td>\n      <td>33.75</td>\n      <td>-0.60</td>\n      <td>-1.747%</td>\n      <td>3.78M</td>\n      <td>127.67M</td>\n      <td>8.30</td>\n      <td>1.58</td>\n      <td>5.05%</td>\n      <td>204.96B</td>\n    </tr>\n    <tr>\n      <th>28</th>\n      <td>CKI HOLDINGS</td>\n      <td>1038.HK</td>\n      <td>46.40</td>\n      <td>0.20</td>\n      <td>+0.433%</td>\n      <td>1.13M</td>\n      <td>52.26M</td>\n      <td>15.95</td>\n      <td>1.10</td>\n      <td>5.32%</td>\n      <td>122.99B</td>\n    </tr>\n    <tr>\n      <th>29</th>\n      <td>HENGAN INT'L</td>\n      <td>1044.HK</td>\n      <td>39.50</td>\n      <td>-0.35</td>\n      <td>-0.878%</td>\n      <td>791.83K</td>\n      <td>31.36M</td>\n      <td>8.58</td>\n      <td>2.03</td>\n      <td>7.54%</td>\n      <td>46.42B</td>\n    </tr>\n    <tr>\n      <th>30</th>\n      <td>CSPC PHARMA</td>\n      <td>1093.HK</td>\n      <td>7.89</td>\n      <td>-0.28</td>\n      <td>-3.427%</td>\n      <td>32.06M</td>\n      <td>255.12M</td>\n      <td>15.34</td>\n      <td>3.55</td>\n      <td>1.62%</td>\n      <td>94.47B</td>\n    </tr>\n    <tr>\n      <th>31</th>\n      <td>CHINA RES LAND</td>\n      <td>1109.HK</td>\n      <td>28.45</td>\n      <td>-0.35</td>\n      <td>-1.215%</td>\n      <td>12.03M</td>\n      <td>343.41M</td>\n      <td>5.71</td>\n      <td>0.84</td>\n      <td>5.24%</td>\n      <td>202.88B</td>\n    </tr>\n    <tr>\n      <th>32</th>\n      <td>SINO BIOPHARM</td>\n      <td>1177.HK</td>\n      <td>5.49</td>\n      <td>-0.15</td>\n      <td>-2.660%</td>\n      <td>32.19M</td>\n      <td>177.65M</td>\n      <td>31.25</td>\n      <td>5.19</td>\n      <td>1.33%</td>\n      <td>103.48B</td>\n    </tr>\n    <tr>\n      <th>33</th>\n      <td>BYD COMPANY</td>\n      <td>1211.HK</td>\n      <td>311.00</td>\n      <td>-4.60</td>\n      <td>-1.458%</td>\n      <td>10.92M</td>\n      <td>3.40B</td>\n      <td>177.50</td>\n      <td>12.76</td>\n      <td>0.06%</td>\n      <td>325.93B</td>\n    </tr>\n    <tr>\n      <th>34</th>\n      <td>AIA</td>\n      <td>1299.HK</td>\n      <td>86.15</td>\n      <td>0.55</td>\n      <td>+0.643%</td>\n      <td>28.31M</td>\n      <td>2.45B</td>\n      <td>23.15</td>\n      <td>2.13</td>\n      <td>1.57%</td>\n      <td>1,042.13B</td>\n    </tr>\n    <tr>\n      <th>35</th>\n      <td>ICBC</td>\n      <td>1398.HK</td>\n      <td>4.19</td>\n      <td>-0.07</td>\n      <td>-1.643%</td>\n      <td>252.89M</td>\n      <td>1.06B</td>\n      <td>4.09</td>\n      <td>0.45</td>\n      <td>7.57%</td>\n      <td>363.67B</td>\n    </tr>\n    <tr>\n      <th>36</th>\n      <td>SANDS CHINA LTD</td>\n      <td>1928.HK</td>\n      <td>17.12</td>\n      <td>-0.10</td>\n      <td>-0.581%</td>\n      <td>12.71M</td>\n      <td>216.81M</td>\n      <td>No Profit</td>\n      <td>9.26</td>\n      <td>0.00%</td>\n      <td>138.56B</td>\n    </tr>\n    <tr>\n      <th>37</th>\n      <td>COUNTRY GARDEN</td>\n      <td>2007.HK</td>\n      <td>6.85</td>\n      <td>-0.20</td>\n      <td>-2.837%</td>\n      <td>53.16M</td>\n      <td>364.66M</td>\n      <td>3.55</td>\n      <td>0.72</td>\n      <td>7.92%</td>\n      <td>153.99B</td>\n    </tr>\n    <tr>\n      <th>38</th>\n      <td>AAC TECH</td>\n      <td>2018.HK</td>\n      <td>32.00</td>\n      <td>0.00</td>\n      <td>0.000%</td>\n      <td>4.24M</td>\n      <td>135.49M</td>\n      <td>21.48</td>\n      <td>1.53</td>\n      <td>0.94%</td>\n      <td>38.67B</td>\n    </tr>\n    <tr>\n      <th>39</th>\n      <td>ANTA SPORTS</td>\n      <td>2020.HK</td>\n      <td>125.10</td>\n      <td>0.40</td>\n      <td>+0.321%</td>\n      <td>7.85M</td>\n      <td>985.26M</td>\n      <td>54.69</td>\n      <td>11.82</td>\n      <td>0.54%</td>\n      <td>338.19B</td>\n    </tr>\n    <tr>\n      <th>40</th>\n      <td>SHENZHOU INTL</td>\n      <td>2313.HK</td>\n      <td>159.70</td>\n      <td>0.30</td>\n      <td>+0.188%</td>\n      <td>3.14M</td>\n      <td>496.64M</td>\n      <td>39.41</td>\n      <td>7.38</td>\n      <td>1.25%</td>\n      <td>240.06B</td>\n    </tr>\n    <tr>\n      <th>41</th>\n      <td>PING AN</td>\n      <td>2318.HK</td>\n      <td>54.05</td>\n      <td>-0.95</td>\n      <td>-1.727%</td>\n      <td>23.09M</td>\n      <td>1.26B</td>\n      <td>5.60</td>\n      <td>1.09</td>\n      <td>4.85%</td>\n      <td>402.54B</td>\n    </tr>\n    <tr>\n      <th>42</th>\n      <td>MENGNIU DAIRY</td>\n      <td>2319.HK</td>\n      <td>48.75</td>\n      <td>0.30</td>\n      <td>+0.619%</td>\n      <td>11.29M</td>\n      <td>553.79M</td>\n      <td>45.60</td>\n      <td>4.90</td>\n      <td>0.66%</td>\n      <td>192.71B</td>\n    </tr>\n    <tr>\n      <th>43</th>\n      <td>LI NING</td>\n      <td>2331.HK</td>\n      <td>93.00</td>\n      <td>2.25</td>\n      <td>+2.479%</td>\n      <td>21.04M</td>\n      <td>1.96B</td>\n      <td>112.74</td>\n      <td>22.22</td>\n      <td>0.26%</td>\n      <td>243.31B</td>\n    </tr>\n    <tr>\n      <th>44</th>\n      <td>SUNNY OPTICAL</td>\n      <td>2382.HK</td>\n      <td>221.20</td>\n      <td>8.20</td>\n      <td>+3.850%</td>\n      <td>6.20M</td>\n      <td>1.37B</td>\n      <td>41.63</td>\n      <td>12.27</td>\n      <td>0.48%</td>\n      <td>242.62B</td>\n    </tr>\n    <tr>\n      <th>45</th>\n      <td>BOC HONG KONG</td>\n      <td>2388.HK</td>\n      <td>24.45</td>\n      <td>-0.40</td>\n      <td>-1.610%</td>\n      <td>7.82M</td>\n      <td>191.03M</td>\n      <td>9.76</td>\n      <td>0.89</td>\n      <td>5.08%</td>\n      <td>258.50B</td>\n    </tr>\n    <tr>\n      <th>46</th>\n      <td>CHINA LIFE</td>\n      <td>2628.HK</td>\n      <td>13.40</td>\n      <td>-0.10</td>\n      <td>-0.741%</td>\n      <td>21.27M</td>\n      <td>284.83M</td>\n      <td>6.35</td>\n      <td>0.71</td>\n      <td>5.69%</td>\n      <td>99.71B</td>\n    </tr>\n    <tr>\n      <th>47</th>\n      <td>CM BANK</td>\n      <td>3968.HK</td>\n      <td>63.45</td>\n      <td>-0.65</td>\n      <td>-1.014%</td>\n      <td>8.50M</td>\n      <td>539.66M</td>\n      <td>14.05</td>\n      <td>1.86</td>\n      <td>2.35%</td>\n      <td>291.29B</td>\n    </tr>\n    <tr>\n      <th>48</th>\n      <td>BANK OF CHINA</td>\n      <td>3988.HK</td>\n      <td>2.73</td>\n      <td>-0.02</td>\n      <td>-0.727%</td>\n      <td>237.50M</td>\n      <td>649.27M</td>\n      <td>3.76</td>\n      <td>0.33</td>\n      <td>8.60%</td>\n      <td>228.29B</td>\n    </tr>\n  </tbody>\n</table>\n</div>"
     },
     "execution_count": 81,
     "metadata": {},
     "output_type": "execute_result"
    }
   ],
   "source": [
    "hk_len = 2464\n",
    "hk_stock_list_file_name = \"data/raw/original stock list/HSI Constituents list.csv\"\n",
    "\n",
    "hk_stock_codes = pd.read_csv(hk_stock_list_file_name)\n",
    "hk_stock_codes[\"Symbol\"] = hk_stock_codes[\"Symbol\"].apply(lpad_string)\n",
    "\n",
    "# print(\"The following stocks are unwanted, filter it manually if needed\")\n",
    "# for symbol in hk_stock_codes[\"Symbol\"]:\n",
    "#     # print(symbol)\n",
    "#     stock = yf.Ticker(symbol)\n",
    "#     hist = stock.history(start=\"2011-10-1\", end=\"2021-10-1\")\n",
    "#     if len(hist) < hk_len: # if does not have 2464 data\n",
    "#         print(symbol)\n",
    "\n",
    "def filter_hk_stock(symbol):\n",
    "    stock = yf.Ticker(symbol)\n",
    "    hist = stock.history(start=\"2011-10-1\", end=\"2021-10-1\")\n",
    "    return len(hist) >= hk_len\n",
    "\n",
    "new_hk_stock_codes = pd.DataFrame(columns=hk_stock_codes.columns)\n",
    "\n",
    "for row in hk_stock_codes.itertuples(index=True, name=\"Pandas\"):\n",
    "    if filter_hk_stock(row.Symbol):\n",
    "        new_hk_stock_codes = new_hk_stock_codes.append(hk_stock_codes.iloc[row.Index], ignore_index=True)\n",
    "    else:\n",
    "        print(row)\n",
    "\n",
    "new_hk_stock_codes.to_csv(\"data/raw/HSI Constituents list_filtered.csv\")\n",
    "new_hk_stock_codes\n",
    "\n",
    "# hist = stock.history(period=\"max\")\n",
    "# len(hist)"
   ],
   "metadata": {
    "collapsed": false,
    "pycharm": {
     "name": "#%%\n"
    }
   }
  },
  {
   "cell_type": "markdown",
   "source": [
    "## Find shortlisted list in US stock"
   ],
   "metadata": {
    "collapsed": false,
    "pycharm": {
     "name": "#%% md\n"
    }
   }
  },
  {
   "cell_type": "code",
   "execution_count": 66,
   "outputs": [
    {
     "name": "stdout",
     "output_type": "stream",
     "text": [
      "Pandas(Index=3, Symbol='ABBV', Name='AbbVie', Sector='Health Care')\n",
      "Pandas(Index=20, Symbol='ALLE', Name='Allegion', Sector='Industrials')\n",
      "Pandas(Index=27, Symbol='AMCR', Name='Amcor', Sector='Materials')\n",
      "Pandas(Index=47, Symbol='APTV', Name='Aptiv', Sector='Consumer Discretionary')\n",
      "Pandas(Index=48, Symbol='ANET', Name='Arista Networks', Sector='Information Technology')\n",
      "- BRK.B: No data found, symbol may be delisted\n",
      "Pandas(Index=64, Symbol='BRK.B', Name='Berkshire Hathaway', Sector='Financials')\n",
      "- BF.B: None\n",
      "Pandas(Index=80, Symbol='BF.B', Name='Brown–Forman', Sector='Consumer Staples')\n",
      "Pandas(Index=83, Symbol='CZR', Name='Caesars Entertainment', Sector='Consumer Discretionary')\n",
      "Pandas(Index=89, Symbol='CARR', Name='Carrier Global', Sector='Industrials')\n",
      "Pandas(Index=90, Symbol='CTLT', Name='Catalent', Sector='Health Care')\n",
      "Pandas(Index=94, Symbol='CDW', Name='CDW', Sector='Information Technology')\n",
      "Pandas(Index=98, Symbol='CDAY', Name='Ceridian', Sector='Information Technology')\n",
      "Pandas(Index=113, Symbol='CFG', Name='Citizens Financial Group', Sector='Financials')\n",
      "Pandas(Index=129, Symbol='CTVA', Name='Corteva', Sector='Materials')\n",
      "Pandas(Index=145, Symbol='FANG', Name='Diamondback Energy', Sector='Energy')\n",
      "Pandas(Index=156, Symbol='DOW', Name='Dow', Sector='Materials')\n",
      "Pandas(Index=171, Symbol='ENPH', Name='Enphase Energy', Sector='Information Technology')\n",
      "Pandas(Index=179, Symbol='ETSY', Name='Etsy', Sector='Consumer Discretionary')\n",
      "Pandas(Index=189, Symbol='FB', Name='Facebook', Sector='Communication Services')\n",
      "Pandas(Index=202, Symbol='FTV', Name='Fortive', Sector='Industrials')\n",
      "Pandas(Index=204, Symbol='FOXA', Name='Fox Corporation (Class A)', Sector='Communication Services')\n",
      "Pandas(Index=205, Symbol='FOX', Name='Fox Corporation (Class B)', Sector='Communication Services')\n",
      "Pandas(Index=228, Symbol='HPE', Name='Hewlett Packard Enterprise', Sector='Information Technology')\n",
      "Pandas(Index=229, Symbol='HLT', Name='Hilton Worldwide', Sector='Consumer Discretionary')\n",
      "Pandas(Index=235, Symbol='HWM', Name='Howmet Aerospace', Sector='Industrials')\n",
      "Pandas(Index=243, Symbol='INFO', Name='IHS Markit', Sector='Industrials')\n",
      "Pandas(Index=247, Symbol='IR', Name='Ingersoll Rand', Sector='Industrials')\n",
      "Pandas(Index=257, Symbol='IQV', Name='IQVIA', Sector='Health Care')\n",
      "Pandas(Index=270, Symbol='KEYS', Name='Keysight Technologies', Sector='Information Technology')\n",
      "Pandas(Index=275, Symbol='KHC', Name='Kraft Heinz', Sector='Consumer Staples')\n",
      "Pandas(Index=280, Symbol='LW', Name='Lamb Weston', Sector='Consumer Staples')\n",
      "Pandas(Index=316, Symbol='MRNA', Name='Moderna', Sector='Health Care')\n",
      "Pandas(Index=331, Symbol='NWSA', Name='News Corp (Class A)', Sector='Communication Services')\n",
      "Pandas(Index=332, Symbol='NWS', Name='News Corp (Class B)', Sector='Communication Services')\n",
      "Pandas(Index=341, Symbol='NCLH', Name='Norwegian Cruise Line Holdings', Sector='Consumer Discretionary')\n",
      "Pandas(Index=353, Symbol='OGN', Name='Organon & Co.', Sector='Health Care')\n",
      "Pandas(Index=354, Symbol='OTIS', Name='Otis Worldwide', Sector='Industrials')\n",
      "Pandas(Index=359, Symbol='PAYC', Name='Paycom', Sector='Information Technology')\n",
      "Pandas(Index=360, Symbol='PYPL', Name='PayPal', Sector='Information Technology')\n",
      "Pandas(Index=368, Symbol='PSX', Name='Phillips 66', Sector='Energy')\n",
      "Pandas(Index=385, Symbol='QRVO', Name='Qorvo', Sector='Information Technology')\n",
      "Pandas(Index=411, Symbol='NOW', Name='ServiceNow', Sector='Information Technology')\n",
      "Pandas(Index=424, Symbol='SYF', Name='Synchrony Financial', Sector='Financials')\n",
      "Pandas(Index=452, Symbol='TWTR', Name='Twitter', Sector='Communication Services')\n",
      "Pandas(Index=459, Symbol='UA', Name='Under Armour (Class C)', Sector='Consumer Discretionary')\n",
      "Pandas(Index=491, Symbol='WRK', Name='WestRock', Sector='Materials')\n",
      "Pandas(Index=499, Symbol='XYL', Name='Xylem', Sector='Industrials')\n",
      "Pandas(Index=504, Symbol='ZTS', Name='Zoetis', Sector='Health Care')\n"
     ]
    },
    {
     "data": {
      "text/plain": "    Symbol                 Name                  Sector\n0      MMM                   3M             Industrials\n1      AOS          A. O. Smith             Industrials\n2      ABT  Abbott Laboratories             Health Care\n3     ABMD              Abiomed             Health Care\n4      ACN            Accenture  Information Technology\n..     ...                  ...                     ...\n452   XLNX               Xilinx  Information Technology\n453    YUM          Yum! Brands  Consumer Discretionary\n454   ZBRA   Zebra Technologies  Information Technology\n455    ZBH        Zimmer Biomet             Health Care\n456   ZION        Zions Bancorp              Financials\n\n[457 rows x 3 columns]",
      "text/html": "<div>\n<style scoped>\n    .dataframe tbody tr th:only-of-type {\n        vertical-align: middle;\n    }\n\n    .dataframe tbody tr th {\n        vertical-align: top;\n    }\n\n    .dataframe thead th {\n        text-align: right;\n    }\n</style>\n<table border=\"1\" class=\"dataframe\">\n  <thead>\n    <tr style=\"text-align: right;\">\n      <th></th>\n      <th>Symbol</th>\n      <th>Name</th>\n      <th>Sector</th>\n    </tr>\n  </thead>\n  <tbody>\n    <tr>\n      <th>0</th>\n      <td>MMM</td>\n      <td>3M</td>\n      <td>Industrials</td>\n    </tr>\n    <tr>\n      <th>1</th>\n      <td>AOS</td>\n      <td>A. O. Smith</td>\n      <td>Industrials</td>\n    </tr>\n    <tr>\n      <th>2</th>\n      <td>ABT</td>\n      <td>Abbott Laboratories</td>\n      <td>Health Care</td>\n    </tr>\n    <tr>\n      <th>3</th>\n      <td>ABMD</td>\n      <td>Abiomed</td>\n      <td>Health Care</td>\n    </tr>\n    <tr>\n      <th>4</th>\n      <td>ACN</td>\n      <td>Accenture</td>\n      <td>Information Technology</td>\n    </tr>\n    <tr>\n      <th>...</th>\n      <td>...</td>\n      <td>...</td>\n      <td>...</td>\n    </tr>\n    <tr>\n      <th>452</th>\n      <td>XLNX</td>\n      <td>Xilinx</td>\n      <td>Information Technology</td>\n    </tr>\n    <tr>\n      <th>453</th>\n      <td>YUM</td>\n      <td>Yum! Brands</td>\n      <td>Consumer Discretionary</td>\n    </tr>\n    <tr>\n      <th>454</th>\n      <td>ZBRA</td>\n      <td>Zebra Technologies</td>\n      <td>Information Technology</td>\n    </tr>\n    <tr>\n      <th>455</th>\n      <td>ZBH</td>\n      <td>Zimmer Biomet</td>\n      <td>Health Care</td>\n    </tr>\n    <tr>\n      <th>456</th>\n      <td>ZION</td>\n      <td>Zions Bancorp</td>\n      <td>Financials</td>\n    </tr>\n  </tbody>\n</table>\n<p>457 rows × 3 columns</p>\n</div>"
     },
     "execution_count": 66,
     "metadata": {},
     "output_type": "execute_result"
    }
   ],
   "source": [
    "us_len = 2517\n",
    "us_stock_list_file_name = \"data/raw/original stock list/S&P 500 Constituents.csv\"\n",
    "\n",
    "us_stock_codes = pd.read_csv(us_stock_list_file_name)\n",
    "\n",
    "def filter_us_stock(symbol):\n",
    "    stock = yf.Ticker(symbol)\n",
    "    hist = stock.history(start=\"2011-10-1\", end=\"2021-10-1\")\n",
    "    # print(symbol + \" \" + str(len(hist)))\n",
    "    return len(hist) >= us_len # check if it has us_len data\n",
    "\n",
    "new_us_stock_codes = pd.DataFrame(columns=us_stock_codes.columns)\n",
    "\n",
    "for row in us_stock_codes.itertuples(index=True, name='Pandas'):\n",
    "    if filter_us_stock(row.Symbol):\n",
    "        new_us_stock_codes = new_us_stock_codes.append(us_stock_codes.iloc[row.Index], ignore_index=True)\n",
    "    else:\n",
    "        print(row)\n",
    "\n",
    "new_us_stock_codes"
   ],
   "metadata": {
    "collapsed": false,
    "pycharm": {
     "name": "#%%\n"
    }
   }
  },
  {
   "cell_type": "markdown",
   "source": [
    "### Randomly select stocks for US (to reduce the dataset and match with HK stocks)"
   ],
   "metadata": {
    "collapsed": false,
    "pycharm": {
     "name": "#%% md\n"
    }
   }
  },
  {
   "cell_type": "code",
   "execution_count": 84,
   "outputs": [
    {
     "data": {
      "text/plain": "    Symbol                                Name                  Sector\n435    WAB                              Wabtec             Industrials\n361   ROST                         Ross Stores  Consumer Discretionary\n412    UDR                                 UDR             Real Estate\n269    MLM           Martin Marietta Materials               Materials\n180    FMC                     FMC Corporation               Materials\n45     AIZ                            Assurant              Financials\n292    MSI                  Motorola Solutions  Information Technology\n393   TSLA                               Tesla  Consumer Discretionary\n389    TEL                     TE Connectivity  Information Technology\n395    TXT                             Textron             Industrials\n196    GPN                     Global Payments  Information Technology\n444    WDC                     Western Digital  Information Technology\n297    NWL                       Newell Brands  Consumer Discretionary\n1      AOS                         A. O. Smith             Industrials\n194    GPC                       Genuine Parts  Consumer Discretionary\n6      ADM                                 ADM        Consumer Staples\n102    CLX                              Clorox        Consumer Staples\n365   SBAC                  SBA Communications             Real Estate\n122    DHI                        D. R. Horton  Consumer Discretionary\n348     RL            Ralph Lauren Corporation  Consumer Discretionary\n261   LUMN                  Lumen Technologies  Communication Services\n9      AMD              Advanced Micro Devices  Information Technology\n401    DIS             The Walt Disney Company  Communication Services\n190     GD                    General Dynamics             Industrials\n17     ARE     Alexandria Real Estate Equities             Real Estate\n417    UPS               United Parcel Service             Industrials\n223    IFF  International Flavors & Fragrances               Materials\n253    LEN                              Lennar  Consumer Discretionary\n157    EFX                             Equifax             Industrials\n416    UAL                     United Airlines             Industrials\n68     BXP                   Boston Properties             Real Estate\n445     WU                       Western Union  Information Technology\n430      V                                Visa  Information Technology\n238   JNPR                    Juniper Networks  Information Technology\n182   FTNT                            Fortinet  Information Technology\n42    AAPL                               Apple  Information Technology\n185    FCX                    Freeport-McMoRan               Materials\n315    OMC                       Omnicom Group  Communication Services\n344    PVH                                 PVH  Consumer Discretionary\n420    UHS           Universal Health Services             Health Care\n166   EXPE                       Expedia Group  Consumer Discretionary\n283   MSFT                           Microsoft  Information Technology\n257    LKQ                     LKQ Corporation  Consumer Discretionary\n252   LDOS                              Leidos             Industrials\n35    AMGN                               Amgen             Health Care\n353   REGN           Regeneron Pharmaceuticals             Health Care\n396    COO                The Cooper Companies             Health Care\n455    ZBH                       Zimmer Biomet             Health Care\n105     KO                   Coca-Cola Company        Consumer Staples",
      "text/html": "<div>\n<style scoped>\n    .dataframe tbody tr th:only-of-type {\n        vertical-align: middle;\n    }\n\n    .dataframe tbody tr th {\n        vertical-align: top;\n    }\n\n    .dataframe thead th {\n        text-align: right;\n    }\n</style>\n<table border=\"1\" class=\"dataframe\">\n  <thead>\n    <tr style=\"text-align: right;\">\n      <th></th>\n      <th>Symbol</th>\n      <th>Name</th>\n      <th>Sector</th>\n    </tr>\n  </thead>\n  <tbody>\n    <tr>\n      <th>435</th>\n      <td>WAB</td>\n      <td>Wabtec</td>\n      <td>Industrials</td>\n    </tr>\n    <tr>\n      <th>361</th>\n      <td>ROST</td>\n      <td>Ross Stores</td>\n      <td>Consumer Discretionary</td>\n    </tr>\n    <tr>\n      <th>412</th>\n      <td>UDR</td>\n      <td>UDR</td>\n      <td>Real Estate</td>\n    </tr>\n    <tr>\n      <th>269</th>\n      <td>MLM</td>\n      <td>Martin Marietta Materials</td>\n      <td>Materials</td>\n    </tr>\n    <tr>\n      <th>180</th>\n      <td>FMC</td>\n      <td>FMC Corporation</td>\n      <td>Materials</td>\n    </tr>\n    <tr>\n      <th>45</th>\n      <td>AIZ</td>\n      <td>Assurant</td>\n      <td>Financials</td>\n    </tr>\n    <tr>\n      <th>292</th>\n      <td>MSI</td>\n      <td>Motorola Solutions</td>\n      <td>Information Technology</td>\n    </tr>\n    <tr>\n      <th>393</th>\n      <td>TSLA</td>\n      <td>Tesla</td>\n      <td>Consumer Discretionary</td>\n    </tr>\n    <tr>\n      <th>389</th>\n      <td>TEL</td>\n      <td>TE Connectivity</td>\n      <td>Information Technology</td>\n    </tr>\n    <tr>\n      <th>395</th>\n      <td>TXT</td>\n      <td>Textron</td>\n      <td>Industrials</td>\n    </tr>\n    <tr>\n      <th>196</th>\n      <td>GPN</td>\n      <td>Global Payments</td>\n      <td>Information Technology</td>\n    </tr>\n    <tr>\n      <th>444</th>\n      <td>WDC</td>\n      <td>Western Digital</td>\n      <td>Information Technology</td>\n    </tr>\n    <tr>\n      <th>297</th>\n      <td>NWL</td>\n      <td>Newell Brands</td>\n      <td>Consumer Discretionary</td>\n    </tr>\n    <tr>\n      <th>1</th>\n      <td>AOS</td>\n      <td>A. O. Smith</td>\n      <td>Industrials</td>\n    </tr>\n    <tr>\n      <th>194</th>\n      <td>GPC</td>\n      <td>Genuine Parts</td>\n      <td>Consumer Discretionary</td>\n    </tr>\n    <tr>\n      <th>6</th>\n      <td>ADM</td>\n      <td>ADM</td>\n      <td>Consumer Staples</td>\n    </tr>\n    <tr>\n      <th>102</th>\n      <td>CLX</td>\n      <td>Clorox</td>\n      <td>Consumer Staples</td>\n    </tr>\n    <tr>\n      <th>365</th>\n      <td>SBAC</td>\n      <td>SBA Communications</td>\n      <td>Real Estate</td>\n    </tr>\n    <tr>\n      <th>122</th>\n      <td>DHI</td>\n      <td>D. R. Horton</td>\n      <td>Consumer Discretionary</td>\n    </tr>\n    <tr>\n      <th>348</th>\n      <td>RL</td>\n      <td>Ralph Lauren Corporation</td>\n      <td>Consumer Discretionary</td>\n    </tr>\n    <tr>\n      <th>261</th>\n      <td>LUMN</td>\n      <td>Lumen Technologies</td>\n      <td>Communication Services</td>\n    </tr>\n    <tr>\n      <th>9</th>\n      <td>AMD</td>\n      <td>Advanced Micro Devices</td>\n      <td>Information Technology</td>\n    </tr>\n    <tr>\n      <th>401</th>\n      <td>DIS</td>\n      <td>The Walt Disney Company</td>\n      <td>Communication Services</td>\n    </tr>\n    <tr>\n      <th>190</th>\n      <td>GD</td>\n      <td>General Dynamics</td>\n      <td>Industrials</td>\n    </tr>\n    <tr>\n      <th>17</th>\n      <td>ARE</td>\n      <td>Alexandria Real Estate Equities</td>\n      <td>Real Estate</td>\n    </tr>\n    <tr>\n      <th>417</th>\n      <td>UPS</td>\n      <td>United Parcel Service</td>\n      <td>Industrials</td>\n    </tr>\n    <tr>\n      <th>223</th>\n      <td>IFF</td>\n      <td>International Flavors &amp; Fragrances</td>\n      <td>Materials</td>\n    </tr>\n    <tr>\n      <th>253</th>\n      <td>LEN</td>\n      <td>Lennar</td>\n      <td>Consumer Discretionary</td>\n    </tr>\n    <tr>\n      <th>157</th>\n      <td>EFX</td>\n      <td>Equifax</td>\n      <td>Industrials</td>\n    </tr>\n    <tr>\n      <th>416</th>\n      <td>UAL</td>\n      <td>United Airlines</td>\n      <td>Industrials</td>\n    </tr>\n    <tr>\n      <th>68</th>\n      <td>BXP</td>\n      <td>Boston Properties</td>\n      <td>Real Estate</td>\n    </tr>\n    <tr>\n      <th>445</th>\n      <td>WU</td>\n      <td>Western Union</td>\n      <td>Information Technology</td>\n    </tr>\n    <tr>\n      <th>430</th>\n      <td>V</td>\n      <td>Visa</td>\n      <td>Information Technology</td>\n    </tr>\n    <tr>\n      <th>238</th>\n      <td>JNPR</td>\n      <td>Juniper Networks</td>\n      <td>Information Technology</td>\n    </tr>\n    <tr>\n      <th>182</th>\n      <td>FTNT</td>\n      <td>Fortinet</td>\n      <td>Information Technology</td>\n    </tr>\n    <tr>\n      <th>42</th>\n      <td>AAPL</td>\n      <td>Apple</td>\n      <td>Information Technology</td>\n    </tr>\n    <tr>\n      <th>185</th>\n      <td>FCX</td>\n      <td>Freeport-McMoRan</td>\n      <td>Materials</td>\n    </tr>\n    <tr>\n      <th>315</th>\n      <td>OMC</td>\n      <td>Omnicom Group</td>\n      <td>Communication Services</td>\n    </tr>\n    <tr>\n      <th>344</th>\n      <td>PVH</td>\n      <td>PVH</td>\n      <td>Consumer Discretionary</td>\n    </tr>\n    <tr>\n      <th>420</th>\n      <td>UHS</td>\n      <td>Universal Health Services</td>\n      <td>Health Care</td>\n    </tr>\n    <tr>\n      <th>166</th>\n      <td>EXPE</td>\n      <td>Expedia Group</td>\n      <td>Consumer Discretionary</td>\n    </tr>\n    <tr>\n      <th>283</th>\n      <td>MSFT</td>\n      <td>Microsoft</td>\n      <td>Information Technology</td>\n    </tr>\n    <tr>\n      <th>257</th>\n      <td>LKQ</td>\n      <td>LKQ Corporation</td>\n      <td>Consumer Discretionary</td>\n    </tr>\n    <tr>\n      <th>252</th>\n      <td>LDOS</td>\n      <td>Leidos</td>\n      <td>Industrials</td>\n    </tr>\n    <tr>\n      <th>35</th>\n      <td>AMGN</td>\n      <td>Amgen</td>\n      <td>Health Care</td>\n    </tr>\n    <tr>\n      <th>353</th>\n      <td>REGN</td>\n      <td>Regeneron Pharmaceuticals</td>\n      <td>Health Care</td>\n    </tr>\n    <tr>\n      <th>396</th>\n      <td>COO</td>\n      <td>The Cooper Companies</td>\n      <td>Health Care</td>\n    </tr>\n    <tr>\n      <th>455</th>\n      <td>ZBH</td>\n      <td>Zimmer Biomet</td>\n      <td>Health Care</td>\n    </tr>\n    <tr>\n      <th>105</th>\n      <td>KO</td>\n      <td>Coca-Cola Company</td>\n      <td>Consumer Staples</td>\n    </tr>\n  </tbody>\n</table>\n</div>"
     },
     "execution_count": 84,
     "metadata": {},
     "output_type": "execute_result"
    }
   ],
   "source": [
    "import random\n",
    "\n",
    "# generate random index\n",
    "# random.seed(55121)\n",
    "# random_index = random.sample(list(new_us_stock_codes.index), 49)\n",
    "# random_index\n",
    "\n",
    "#generated index\n",
    "random_index = [435, 361, 412, 269, 180, 45, 292, 393, 389, 395,\n",
    "                196, 444, 297, 1, 194, 6, 102, 365, 122, 348, 261, 9,\n",
    "                401, 190, 17, 417, 223, 253, 157, 416, 68, 445, 430,\n",
    "                238, 182, 42, 185, 315, 344, 420, 166, 283, 257, 252,\n",
    "                35, 353, 396, 455, 105]\n",
    "\n",
    "# save to csv\n",
    "new_us_stock_codes.iloc[random_index].to_csv(\"data/raw/S&P 500 Constituents_filtered.csv\")\n",
    "new_us_stock_codes.iloc[random_index]"
   ],
   "metadata": {
    "collapsed": false,
    "pycharm": {
     "name": "#%%\n"
    }
   }
  },
  {
   "cell_type": "markdown",
   "source": [
    "## Also includes the two stocks for evaluating the generalizability"
   ],
   "metadata": {
    "collapsed": false,
    "pycharm": {
     "name": "#%% md\n"
    }
   }
  },
  {
   "cell_type": "code",
   "execution_count": 85,
   "outputs": [
    {
     "data": {
      "text/plain": "    Symbol                    Name\n0  2888.HK  Standard Chartered PLC\n1     TEAM               Atlassian",
      "text/html": "<div>\n<style scoped>\n    .dataframe tbody tr th:only-of-type {\n        vertical-align: middle;\n    }\n\n    .dataframe tbody tr th {\n        vertical-align: top;\n    }\n\n    .dataframe thead th {\n        text-align: right;\n    }\n</style>\n<table border=\"1\" class=\"dataframe\">\n  <thead>\n    <tr style=\"text-align: right;\">\n      <th></th>\n      <th>Symbol</th>\n      <th>Name</th>\n    </tr>\n  </thead>\n  <tbody>\n    <tr>\n      <th>0</th>\n      <td>2888.HK</td>\n      <td>Standard Chartered PLC</td>\n    </tr>\n    <tr>\n      <th>1</th>\n      <td>TEAM</td>\n      <td>Atlassian</td>\n    </tr>\n  </tbody>\n</table>\n</div>"
     },
     "execution_count": 85,
     "metadata": {},
     "output_type": "execute_result"
    }
   ],
   "source": [
    "gnr_stock = {\n",
    "    \"Symbol\": [\"2888.HK\", \"TEAM\"],\n",
    "    \"Name\": [\"Standard Chartered PLC\", \"Atlassian\"]\n",
    "}\n",
    "\n",
    "gnr_df = pd.DataFrame(data=gnr_stock)\n",
    "gnr_df.to_csv(\"data/raw/Stocks for evaluation.csv\")\n",
    "gnr_df"
   ],
   "metadata": {
    "collapsed": false,
    "pycharm": {
     "name": "#%%\n"
    }
   }
  }
 ],
 "metadata": {
  "kernelspec": {
   "display_name": "Python 3",
   "language": "python",
   "name": "python3"
  },
  "language_info": {
   "codemirror_mode": {
    "name": "ipython",
    "version": 2
   },
   "file_extension": ".py",
   "mimetype": "text/x-python",
   "name": "python",
   "nbconvert_exporter": "python",
   "pygments_lexer": "ipython2",
   "version": "2.7.6"
  }
 },
 "nbformat": 4,
 "nbformat_minor": 0
}