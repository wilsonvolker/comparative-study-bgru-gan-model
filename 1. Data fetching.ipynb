{
 "cells": [
  {
   "cell_type": "markdown",
   "metadata": {
    "collapsed": true,
    "pycharm": {
     "name": "#%% md\n"
    }
   },
   "source": [
    "# Fetch the stock data from Yahoo! finance"
   ]
  },
  {
   "cell_type": "code",
   "execution_count": 30,
   "outputs": [],
   "source": [
    "import yfinance as yf\n",
    "import pandas as pd\n",
    "import os"
   ],
   "metadata": {
    "collapsed": false,
    "pycharm": {
     "name": "#%%\n"
    }
   }
  },
  {
   "cell_type": "markdown",
   "source": [
    "### import and read the filtered stock list"
   ],
   "metadata": {
    "collapsed": false,
    "pycharm": {
     "name": "#%% md\n"
    }
   }
  },
  {
   "cell_type": "code",
   "execution_count": 31,
   "outputs": [],
   "source": [
    "filtered_stock_list_hk = pd.read_csv(\"data/raw/HSI Constituents list_filtered.csv\")\n",
    "filtered_stock_list_us = pd.read_csv(\"data/raw/S&P 500 Constituents_filtered.csv\")\n",
    "filtered_stock_list_evaluation = pd.read_csv(\"data/raw/Stocks for evaluation.csv\")"
   ],
   "metadata": {
    "collapsed": false,
    "pycharm": {
     "name": "#%%\n"
    }
   }
  },
  {
   "cell_type": "markdown",
   "source": [
    "### Define fetch stocks function"
   ],
   "metadata": {
    "collapsed": false,
    "pycharm": {
     "name": "#%% md\n"
    }
   }
  },
  {
   "cell_type": "code",
   "execution_count": 32,
   "outputs": [],
   "source": [
    "# data start / end day\n",
    "start_day=\"2011-10-1\"\n",
    "end_day=\"2021-10-1\"\n",
    "path_prefix = \"./data/raw/market_data/\"\n",
    "\n",
    "def get_stock_data(symbol, start=start_day, end=end_day):\n",
    "    stock = yf.Ticker(symbol)\n",
    "    hist = stock.history(start=start, end=end)\n",
    "\n",
    "    if not os.path.exists(path_prefix):\n",
    "        os.mkdir(path_prefix)\n",
    "\n",
    "    save_path = os.path.join(path_prefix, symbol + \".csv\")\n",
    "    hist.to_csv(save_path)\n",
    "    print(symbol + \" OK\")\n"
   ],
   "metadata": {
    "collapsed": false,
    "pycharm": {
     "name": "#%%\n"
    }
   }
  },
  {
   "cell_type": "markdown",
   "source": [
    "### Fetch HK stock data"
   ],
   "metadata": {
    "collapsed": false,
    "pycharm": {
     "name": "#%% md\n"
    }
   }
  },
  {
   "cell_type": "code",
   "execution_count": 33,
   "outputs": [
    {
     "name": "stdout",
     "output_type": "stream",
     "text": [
      "0001.HK OK\n",
      "0002.HK OK\n",
      "0003.HK OK\n",
      "0005.HK OK\n",
      "0006.HK OK\n",
      "0011.HK OK\n",
      "0012.HK OK\n",
      "0016.HK OK\n",
      "0017.HK OK\n",
      "0027.HK OK\n",
      "0066.HK OK\n",
      "0101.HK OK\n",
      "0175.HK OK\n",
      "0241.HK OK\n",
      "0267.HK OK\n",
      "0386.HK OK\n",
      "0388.HK OK\n",
      "0669.HK OK\n",
      "0688.HK OK\n",
      "0700.HK OK\n",
      "0762.HK OK\n",
      "0823.HK OK\n",
      "0857.HK OK\n",
      "0868.HK OK\n",
      "0883.HK OK\n",
      "0939.HK OK\n",
      "0941.HK OK\n",
      "0960.HK OK\n",
      "1038.HK OK\n",
      "1044.HK OK\n",
      "1093.HK OK\n",
      "1109.HK OK\n",
      "1177.HK OK\n",
      "1211.HK OK\n",
      "1299.HK OK\n",
      "1398.HK OK\n",
      "1928.HK OK\n",
      "2007.HK OK\n",
      "2018.HK OK\n",
      "2020.HK OK\n",
      "2313.HK OK\n",
      "2318.HK OK\n",
      "2319.HK OK\n",
      "2331.HK OK\n",
      "2382.HK OK\n",
      "2388.HK OK\n",
      "2628.HK OK\n",
      "3968.HK OK\n",
      "3988.HK OK\n"
     ]
    }
   ],
   "source": [
    "for row in filtered_stock_list_hk.itertuples(index=True, name='Pandas'):\n",
    "    get_stock_data(row.Symbol)\n"
   ],
   "metadata": {
    "collapsed": false,
    "pycharm": {
     "name": "#%%\n"
    }
   }
  },
  {
   "cell_type": "markdown",
   "source": [
    "### Fetch US stock data"
   ],
   "metadata": {
    "collapsed": false,
    "pycharm": {
     "name": "#%% md\n"
    }
   }
  },
  {
   "cell_type": "code",
   "execution_count": 34,
   "outputs": [
    {
     "name": "stdout",
     "output_type": "stream",
     "text": [
      "WAB OK\n",
      "ROST OK\n",
      "UDR OK\n",
      "MLM OK\n",
      "FMC OK\n",
      "AIZ OK\n",
      "MSI OK\n",
      "TSLA OK\n",
      "TEL OK\n",
      "TXT OK\n",
      "GPN OK\n",
      "WDC OK\n",
      "NWL OK\n",
      "AOS OK\n",
      "GPC OK\n",
      "ADM OK\n",
      "CLX OK\n",
      "SBAC OK\n",
      "DHI OK\n",
      "RL OK\n",
      "LUMN OK\n",
      "AMD OK\n",
      "DIS OK\n",
      "GD OK\n",
      "ARE OK\n",
      "UPS OK\n",
      "IFF OK\n",
      "LEN OK\n",
      "EFX OK\n",
      "UAL OK\n",
      "BXP OK\n",
      "WU OK\n",
      "V OK\n",
      "JNPR OK\n",
      "FTNT OK\n",
      "AAPL OK\n",
      "FCX OK\n",
      "OMC OK\n",
      "PVH OK\n",
      "UHS OK\n",
      "EXPE OK\n",
      "MSFT OK\n",
      "LKQ OK\n",
      "LDOS OK\n",
      "AMGN OK\n",
      "REGN OK\n",
      "COO OK\n",
      "ZBH OK\n",
      "KO OK\n"
     ]
    }
   ],
   "source": [
    "for row in filtered_stock_list_us.itertuples(index=True, name='Pandas'):\n",
    "    get_stock_data(row.Symbol)"
   ],
   "metadata": {
    "collapsed": false,
    "pycharm": {
     "name": "#%%\n"
    }
   }
  },
  {
   "cell_type": "markdown",
   "source": [
    "### Fetch stocks for evaluating the generalizability"
   ],
   "metadata": {
    "collapsed": false,
    "pycharm": {
     "name": "#%% md\n"
    }
   }
  },
  {
   "cell_type": "code",
   "execution_count": 35,
   "outputs": [
    {
     "name": "stdout",
     "output_type": "stream",
     "text": [
      "2888.HK OK\n",
      "TEAM OK\n"
     ]
    }
   ],
   "source": [
    "eva_start_day = \"2019-10-1\"\n",
    "for row in filtered_stock_list_evaluation.itertuples(index=True, name='Pandas'):\n",
    "    get_stock_data(row.Symbol, start=eva_start_day)"
   ],
   "metadata": {
    "collapsed": false,
    "pycharm": {
     "name": "#%%\n"
    }
   }
  }
 ],
 "metadata": {
  "kernelspec": {
   "display_name": "Python 3",
   "language": "python",
   "name": "python3"
  },
  "language_info": {
   "codemirror_mode": {
    "name": "ipython",
    "version": 2
   },
   "file_extension": ".py",
   "mimetype": "text/x-python",
   "name": "python",
   "nbconvert_exporter": "python",
   "pygments_lexer": "ipython2",
   "version": "2.7.6"
  }
 },
 "nbformat": 4,
 "nbformat_minor": 0
}