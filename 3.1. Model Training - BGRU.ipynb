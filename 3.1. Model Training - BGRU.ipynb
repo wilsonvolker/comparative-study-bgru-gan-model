{
 "cells": [
  {
   "cell_type": "markdown",
   "metadata": {
    "id": "SG4y-bi3GyqV"
   },
   "source": [
    "#### Setup for Google Colab (Optional)"
   ]
  },
  {
   "cell_type": "code",
   "execution_count": 1,
   "metadata": {
    "colab": {
     "base_uri": "https://localhost:8080/"
    },
    "executionInfo": {
     "elapsed": 37242,
     "status": "ok",
     "timestamp": 1640514845271,
     "user": {
      "displayName": "Wilson Lee",
      "photoUrl": "https://lh3.googleusercontent.com/a/default-user=s64",
      "userId": "12240555497150083704"
     },
     "user_tz": -480
    },
    "id": "0Xmi3AJgGyqX",
    "outputId": "d8caaddd-b44f-4ee4-ffe3-936470a20be5",
    "pycharm": {
     "name": "#%%\n"
    }
   },
   "outputs": [
    {
     "ename": "ModuleNotFoundError",
     "evalue": "No module named 'google.colab'",
     "output_type": "error",
     "traceback": [
      "\u001B[0;31m---------------------------------------------------------------------------\u001B[0m",
      "\u001B[0;31mModuleNotFoundError\u001B[0m                       Traceback (most recent call last)",
      "\u001B[0;32m<ipython-input-1-b80391d2b2cf>\u001B[0m in \u001B[0;36m<module>\u001B[0;34m\u001B[0m\n\u001B[0;32m----> 1\u001B[0;31m \u001B[0;32mfrom\u001B[0m \u001B[0mgoogle\u001B[0m\u001B[0;34m.\u001B[0m\u001B[0mcolab\u001B[0m \u001B[0;32mimport\u001B[0m \u001B[0mdrive\u001B[0m\u001B[0;34m\u001B[0m\u001B[0;34m\u001B[0m\u001B[0m\n\u001B[0m\u001B[1;32m      2\u001B[0m \u001B[0mdrive\u001B[0m\u001B[0;34m.\u001B[0m\u001B[0mmount\u001B[0m\u001B[0;34m(\u001B[0m\u001B[0;34m'/content/drive'\u001B[0m\u001B[0;34m)\u001B[0m\u001B[0;34m\u001B[0m\u001B[0;34m\u001B[0m\u001B[0m\n\u001B[1;32m      3\u001B[0m \u001B[0;34m\u001B[0m\u001B[0m\n",
      "\u001B[0;31mModuleNotFoundError\u001B[0m: No module named 'google.colab'"
     ]
    }
   ],
   "source": [
    "from google.colab import drive\n",
    "drive.mount('/content/drive')"
   ]
  },
  {
   "cell_type": "markdown",
   "metadata": {
    "id": "dWlYdoF5HdRH"
   },
   "source": [
    "##### UPDATE IT IF NEEDED"
   ]
  },
  {
   "cell_type": "code",
   "execution_count": null,
   "metadata": {
    "colab": {
     "base_uri": "https://localhost:8080/"
    },
    "executionInfo": {
     "elapsed": 611,
     "status": "ok",
     "timestamp": 1640514848596,
     "user": {
      "displayName": "Wilson Lee",
      "photoUrl": "https://lh3.googleusercontent.com/a/default-user=s64",
      "userId": "12240555497150083704"
     },
     "user_tz": -480
    },
    "id": "Q1Od0SluGyqY",
    "outputId": "46d11251-5a09-4674-8202-6286d303f6d9",
    "pycharm": {
     "name": "#%%\n"
    }
   },
   "outputs": [],
   "source": [
    "cd 'drive/MyDrive/Colab Notebooks/comparative-study-bgru-gan-model'"
   ]
  },
  {
   "cell_type": "code",
   "execution_count": null,
   "metadata": {
    "colab": {
     "base_uri": "https://localhost:8080/"
    },
    "executionInfo": {
     "elapsed": 738,
     "status": "ok",
     "timestamp": 1640514850722,
     "user": {
      "displayName": "Wilson Lee",
      "photoUrl": "https://lh3.googleusercontent.com/a/default-user=s64",
      "userId": "12240555497150083704"
     },
     "user_tz": -480
    },
    "id": "5TpFcWnXGyqY",
    "outputId": "26370253-7a9d-478e-eeb5-671bea9d38fd",
    "pycharm": {
     "name": "#%%\n"
    }
   },
   "outputs": [],
   "source": [
    "ls"
   ]
  },
  {
   "cell_type": "markdown",
   "metadata": {
    "id": "ZefRgBrZGyqY",
    "pycharm": {
     "name": "#%% md\n"
    }
   },
   "source": [
    "# Model Training\n",
    "Train BGRU models for HK and US stock market, repectively"
   ]
  },
  {
   "cell_type": "code",
   "execution_count": 8,
   "metadata": {
    "executionInfo": {
     "elapsed": 478,
     "status": "ok",
     "timestamp": 1640610539432,
     "user": {
      "displayName": "Wilson Lee",
      "photoUrl": "https://lh3.googleusercontent.com/a/default-user=s64",
      "userId": "12240555497150083704"
     },
     "user_tz": -480
    },
    "id": "GHDFK7fp1SK3",
    "pycharm": {
     "name": "#%%\n"
    }
   },
   "outputs": [],
   "source": [
    "import os\n",
    "import numpy as np\n",
    "import csv\n",
    "import pandas as pd\n",
    "import matplotlib.pyplot as plt\n",
    "%matplotlib inline\n",
    "import tensorflow as tf\n",
    "from tensorflow.keras.models import Sequential, load_model\n",
    "from tensorflow.keras.layers import Input, Dense, Dropout, Bidirectional\n",
    "from tensorflow.keras.layers import GRU\n",
    "from tensorflow.keras.optimizers import Adam\n",
    "from keras.utils.vis_utils import plot_model\n",
    "from keras.metrics import Accuracy, MeanAbsoluteError, RootMeanSquaredError, MeanAbsolutePercentageError, MeanSquaredError\n",
    "from keras.callbacks import ModelCheckpoint, EarlyStopping, CSVLogger"
   ]
  },
  {
   "cell_type": "markdown",
   "metadata": {
    "id": "cnwcBKNd1SK8",
    "pycharm": {
     "name": "#%% md\n"
    }
   },
   "source": [
    "### Common variables and functions"
   ]
  },
  {
   "cell_type": "code",
   "execution_count": 9,
   "metadata": {
    "executionInfo": {
     "elapsed": 332,
     "status": "ok",
     "timestamp": 1640615114662,
     "user": {
      "displayName": "Wilson Lee",
      "photoUrl": "https://lh3.googleusercontent.com/a/default-user=s64",
      "userId": "12240555497150083704"
     },
     "user_tz": -480
    },
    "id": "PXJCbw501SK9",
    "pycharm": {
     "name": "#%%\n"
    }
   },
   "outputs": [],
   "source": [
    "MODEL_STRUCTURE_PATH = \"./diagrams/model/structures\"\n",
    "MODEL_TRAIN_HISTORY_DIAGRAMS_PATH = \"./diagrams/model/training\"\n",
    "PROCESSED_STOCKS_PATH = \"./data/processed/training_data\"\n",
    "# TRAINING_STOCKS_PATH = \"./data/processed/training_data\"\n",
    "# EVALUATE_STOCKS_PATH = \"./data/processed/stocks_for_evaluate\"\n",
    "# TRAIN_STOCK_NAMES_PATH = \"./data/processed/stock_names_for_training\"\n",
    "\n",
    "# stocks model checkpoint paths\n",
    "HK_MODELS_CHECKPOINT_PATH = \"./model/hk\"\n",
    "US_MODELS_CHECKPOINT_PATH = \"./model/us\"\n",
    "\n",
    "hk_bgru_file_path = \"{}/bgru.h5\".format(HK_MODELS_CHECKPOINT_PATH)\n",
    "hk_bgru_training_progress_history_path = \"{}/bgru_training_progress_history.csv\".format(HK_MODELS_CHECKPOINT_PATH)\n",
    "hk_bgru_train_history_file_path = \"{}/bgru_training_history.npy\".format(HK_MODELS_CHECKPOINT_PATH)\n",
    "# hk_bgru_train_history_file_path = \"{}/bgru_history/{}_bgru_training_history.npy\"\n",
    "\n",
    "us_bgru_file_path = \"{}/bgru.h5\".format(US_MODELS_CHECKPOINT_PATH)\n",
    "us_bgru_training_progress_history = \"{}/bgru_training_progress_history.csv\".format(US_MODELS_CHECKPOINT_PATH)\n",
    "us_bgru_train_history_file_path = \"{}/bgru_training_history.npy\".format(US_MODELS_CHECKPOINT_PATH)\n",
    "\n",
    "TRAIN_EPOCHS = 100\n",
    "\n",
    "def create_dir_if_not_exist(dirname):\n",
    "    if not os.path.exists(dirname):\n",
    "        os.makedirs(dirname, exist_ok=True)"
   ]
  },
  {
   "cell_type": "markdown",
   "metadata": {
    "id": "nJBSBRnF1SK_",
    "pycharm": {
     "name": "#%% md\n"
    }
   },
   "source": [
    "### Import datasets"
   ]
  },
  {
   "cell_type": "code",
   "execution_count": 10,
   "metadata": {
    "executionInfo": {
     "elapsed": 5694,
     "status": "ok",
     "timestamp": 1640610545122,
     "user": {
      "displayName": "Wilson Lee",
      "photoUrl": "https://lh3.googleusercontent.com/a/default-user=s64",
      "userId": "12240555497150083704"
     },
     "user_tz": -480
    },
    "id": "FWNVI-Qo1SLA",
    "pycharm": {
     "name": "#%%\n"
    }
   },
   "outputs": [],
   "source": [
    "# stock names\n",
    "# template_filename_train_x = \"{}/{}_train_X.npy\"\n",
    "# template_filename_train_y = \"{}/{}_train_y.npy\"\n",
    "#\n",
    "# template_filename_test_x = \"{}/{}_test_X.npy\"\n",
    "# template_filename_test_y = \"{}/{}_test_y.npy\"\n",
    "#\n",
    "# fns_hk = np.load(\"{}/hk_train_stock_names.npy\".format(TRAIN_STOCK_NAMES_PATH))\n",
    "# fns_us = np.load(\"{}/us_train_stock_names.npy\".format(TRAIN_STOCK_NAMES_PATH))\n",
    "#\n",
    "# X_train_hk = {}\n",
    "# y_train_hk = {}\n",
    "# X_test_hk = {}\n",
    "# y_test_hk = {}\n",
    "# for i in range(len(fns_hk)):\n",
    "#     X_train_hk[fns_hk[i]] = np.load(template_filename_train_x.format(\n",
    "#         TRAINING_STOCKS_PATH,\n",
    "#         fns_hk[i]\n",
    "#     ))\n",
    "#\n",
    "#     y_train_hk[fns_hk[i]] = np.load(template_filename_train_y.format(\n",
    "#         TRAINING_STOCKS_PATH,\n",
    "#         fns_hk[i]\n",
    "#     ))\n",
    "#\n",
    "#     X_test_hk[fns_hk[i]] = np.load(template_filename_test_x.format(\n",
    "#         TRAINING_STOCKS_PATH,\n",
    "#         fns_hk[i]\n",
    "#     ))\n",
    "#\n",
    "#     y_test_hk[fns_hk[i]] = np.load(template_filename_test_y.format(\n",
    "#         TRAINING_STOCKS_PATH,\n",
    "#         fns_hk[i]\n",
    "#     ))\n",
    "#\n",
    "# X_train_us = {}\n",
    "# y_train_us = {}\n",
    "# X_test_us = {}\n",
    "# y_test_us = {}\n",
    "# for i in range(len(fns_us)):\n",
    "#     X_train_us[fns_us[i]] = np.load(template_filename_train_x.format(\n",
    "#         TRAINING_STOCKS_PATH,\n",
    "#         fns_us[i]\n",
    "#     ))\n",
    "#\n",
    "#     y_train_us[fns_us[i]] = np.load(template_filename_train_y.format(\n",
    "#         TRAINING_STOCKS_PATH,\n",
    "#         fns_us[i]\n",
    "#     ))\n",
    "#\n",
    "#     X_test_us[fns_us[i]] = np.load(template_filename_test_x.format(\n",
    "#         TRAINING_STOCKS_PATH,\n",
    "#         fns_us[i]\n",
    "#     ))\n",
    "#\n",
    "#     y_test_us[fns_us[i]] = np.load(template_filename_test_y.format(\n",
    "#         TRAINING_STOCKS_PATH,\n",
    "#         fns_us[i]\n",
    "#     ))\n",
    "#\n",
    "# # Check the imports, minus the one stock that used to test generalizability\n",
    "# assert len(X_train_hk) == 49\n",
    "# assert len(y_train_hk) == 49\n",
    "# assert len(X_test_hk) == 49\n",
    "# assert len(X_test_hk) == 49\n",
    "#\n",
    "# assert len(X_train_us) == 49\n",
    "# assert len(y_train_us) == 49\n",
    "# assert len(X_test_us) == 49\n",
    "# assert len(X_test_us) == 49\n",
    "\n",
    "# hk datasets\n",
    "X_train_hk = np.load(\"{}/train_X_hk.npy\".format(PROCESSED_STOCKS_PATH))\n",
    "X_test_hk = np.load(\"{}/test_X_hk.npy\".format(PROCESSED_STOCKS_PATH))\n",
    "y_train_hk = np.load(\"{}/train_y_hk.npy\".format(PROCESSED_STOCKS_PATH))\n",
    "y_test_hk = np.load(\"{}/test_y_hk.npy\".format(PROCESSED_STOCKS_PATH))\n",
    "\n",
    "# us datasets\n",
    "X_train_us = np.load(\"{}/train_X_us.npy\".format(PROCESSED_STOCKS_PATH))\n",
    "X_test_us = np.load(\"{}/test_X_us.npy\".format(PROCESSED_STOCKS_PATH))\n",
    "y_train_us = np.load(\"{}/train_y_us.npy\".format(PROCESSED_STOCKS_PATH))\n",
    "y_test_us = np.load(\"{}/test_y_us.npy\".format(PROCESSED_STOCKS_PATH))\n",
    "\n",
    "# Check the imports\n",
    "assert X_train_hk is not None\n",
    "assert X_test_hk is not None\n",
    "assert y_train_hk is not None\n",
    "assert y_test_hk is not None\n",
    "\n",
    "assert X_train_us is not None\n",
    "assert X_test_us is not None\n",
    "assert y_train_us is not None\n",
    "assert y_test_us is not None\n"
   ]
  },
  {
   "cell_type": "markdown",
   "metadata": {
    "id": "sK7uZlmj1SLB",
    "pycharm": {
     "name": "#%% md\n"
    }
   },
   "source": [
    "### Define models structure\n",
    "##### BGRU models\n",
    "###### Reference:\n",
    "```\n",
    "Salimath, S., Chatterjee, T., Mathai, T., Kamble, P., & Kolhekar, M. (2021, April). Prediction of Stock Price for Indian Stock Market: A Comparative Study Using LSTM and GRU. In International Conference on Advances in Computing and Data Sciences (pp. 292-302). Springer, Cham.\n",
    "Lin, H., Chen, C., Huang, G., & Jafari, A. (2021). Stock price prediction using Generative Adversarial Networks. Journal of Computer Science, (17(3), 188–196. doi:10.3844/jcssp.2021.188.196\n",
    "https://github.com/grudloff/stock_market_GAN\n",
    "Train with multiple stocks: https://www.kaggle.com/humamfauzi/multiple-stock-prediction-using-single-nn\n",
    "Priya, R. S., & Sruthi, C. (2022). Stock Price Prediction Based on Deep Learning Using Long Short-Term Memory. In Futuristic Communication and Network Technologies (pp. 67-76). Springer, Singapore.\n",
    "```"
   ]
  },
  {
   "cell_type": "code",
   "execution_count": 11,
   "metadata": {
    "executionInfo": {
     "elapsed": 9,
     "status": "ok",
     "timestamp": 1640610545123,
     "user": {
      "displayName": "Wilson Lee",
      "photoUrl": "https://lh3.googleusercontent.com/a/default-user=s64",
      "userId": "12240555497150083704"
     },
     "user_tz": -480
    },
    "id": "lgSxMyoq1SLC",
    "pycharm": {
     "name": "#%%\n"
    }
   },
   "outputs": [],
   "source": [
    "def make_bgru_model(input_dim, feature_cnt) -> tf.keras.models.Model:\n",
    "    model = Sequential()\n",
    "\n",
    "    # input layer\n",
    "    model.add(\n",
    "        Input(\n",
    "            shape=(input_dim, feature_cnt)\n",
    "        )\n",
    "    )\n",
    "\n",
    "    # first gru + dropout layer\n",
    "    model.add(\n",
    "        Bidirectional(\n",
    "            GRU(\n",
    "                # units=128,\n",
    "                units=192,\n",
    "                return_sequences=True,\n",
    "                input_shape=(input_dim, feature_cnt),\n",
    "                activation=\"tanh\"\n",
    "                )\n",
    "        )\n",
    "    )\n",
    "    model.add(\n",
    "        # Dropout(rate=0.3)\n",
    "        #Dropout(rate=0.2)\n",
    "        Dropout(rate=0.1)\n",
    "    )\n",
    "\n",
    "    # second gru + dropout layer\n",
    "    model.add(\n",
    "        Bidirectional(\n",
    "            GRU(\n",
    "                # units=64,\n",
    "                # units=128,\n",
    "                units=320,\n",
    "                return_sequences=False, # important, convert array from 3d to 2d\n",
    "                input_shape=(input_dim, feature_cnt),\n",
    "                activation=\"tanh\"\n",
    "                )\n",
    "        )\n",
    "    )\n",
    "    model.add(\n",
    "        Dropout(rate=0.3)\n",
    "        # Dropout(rate=0.5)\n",
    "        # Dropout(rate=0.2)\n",
    "    )\n",
    "\n",
    "    # output dense layer\n",
    "    model.add(\n",
    "        Dense(units = 1)\n",
    "    )\n",
    "\n",
    "    # compile model and use Adam optimizer\n",
    "    model.compile(\n",
    "        optimizer=Adam(learning_rate=0.001),\n",
    "        # optimizer=Adam(learning_rate=0.0001),\n",
    "        loss=\"mean_squared_error\",\n",
    "        metrics=[\n",
    "            MeanAbsoluteError(),\n",
    "            RootMeanSquaredError(),\n",
    "            MeanAbsolutePercentageError()\n",
    "        ]\n",
    "    )\n",
    "\n",
    "    print(model.summary())\n",
    "    return model"
   ]
  },
  {
   "cell_type": "code",
   "execution_count": 12,
   "metadata": {
    "colab": {
     "base_uri": "https://localhost:8080/",
     "height": 1000
    },
    "executionInfo": {
     "elapsed": 1469,
     "status": "ok",
     "timestamp": 1640610546586,
     "user": {
      "displayName": "Wilson Lee",
      "photoUrl": "https://lh3.googleusercontent.com/a/default-user=s64",
      "userId": "12240555497150083704"
     },
     "user_tz": -480
    },
    "id": "XIx288r_1SLD",
    "outputId": "c4ab11f2-e486-4565-e12f-0d1adc6b2fcd",
    "pycharm": {
     "name": "#%%\n"
    }
   },
   "outputs": [
    {
     "name": "stdout",
     "output_type": "stream",
     "text": [
      "Model: \"sequential_1\"\n",
      "_________________________________________________________________\n",
      "Layer (type)                 Output Shape              Param #   \n",
      "=================================================================\n",
      "bidirectional_2 (Bidirection (None, 30, 384)           233856    \n",
      "_________________________________________________________________\n",
      "dropout_2 (Dropout)          (None, 30, 384)           0         \n",
      "_________________________________________________________________\n",
      "bidirectional_3 (Bidirection (None, 640)               1355520   \n",
      "_________________________________________________________________\n",
      "dropout_3 (Dropout)          (None, 640)               0         \n",
      "_________________________________________________________________\n",
      "dense_1 (Dense)              (None, 1)                 641       \n",
      "=================================================================\n",
      "Total params: 1,590,017\n",
      "Trainable params: 1,590,017\n",
      "Non-trainable params: 0\n",
      "_________________________________________________________________\n",
      "None\n"
     ]
    },
    {
     "data": {
      "image/png": "[encoded data removed]",
      "text/plain": [
       "<IPython.core.display.Image object>"
      ]
     },
     "execution_count": 12,
     "metadata": {},
     "output_type": "execute_result"
    }
   ],
   "source": [
    "# plot model structure\n",
    "create_dir_if_not_exist(MODEL_STRUCTURE_PATH)\n",
    "plot_model(\n",
    "    # make_bgru_model(input_dim=X_train_hk[fns_hk[0]].shape[1],\n",
    "    #                 feature_cnt=X_train_hk[fns_hk[0]].shape[2]\n",
    "    #                 ),\n",
    "    make_bgru_model(input_dim=X_train_hk.shape[1],\n",
    "                    feature_cnt=X_train_hk.shape[2]\n",
    "                    ),\n",
    "    show_shapes=True,\n",
    "    show_layer_names=True,\n",
    "    to_file=\"{}/BGRU_structure.png\".format(MODEL_STRUCTURE_PATH)\n",
    ")\n"
   ]
  },
  {
   "cell_type": "markdown",
   "metadata": {
    "id": "w6CCBHiy1SLE",
    "pycharm": {
     "name": "#%% md\n"
    }
   },
   "source": [
    "### Model training\n",
    "##### Train BGRU model for Hong Kong Stocks"
   ]
  },
  {
   "cell_type": "code",
   "execution_count": 13,
   "metadata": {
    "executionInfo": {
     "elapsed": 17,
     "status": "ok",
     "timestamp": 1640610546587,
     "user": {
      "displayName": "Wilson Lee",
      "photoUrl": "https://lh3.googleusercontent.com/a/default-user=s64",
      "userId": "12240555497150083704"
     },
     "user_tz": -480
    },
    "id": "evmc45Zu1SLE",
    "pycharm": {
     "name": "#%%\n"
    }
   },
   "outputs": [],
   "source": [
    "create_dir_if_not_exist(HK_MODELS_CHECKPOINT_PATH)\n",
    "create_dir_if_not_exist(US_MODELS_CHECKPOINT_PATH)"
   ]
  },
  {
   "cell_type": "code",
   "execution_count": 14,
   "metadata": {
    "colab": {
     "base_uri": "https://localhost:8080/",
     "height": 1000
    },
    "executionInfo": {
     "elapsed": 4533799,
     "status": "error",
     "timestamp": 1640615080371,
     "user": {
      "displayName": "Wilson Lee",
      "photoUrl": "https://lh3.googleusercontent.com/a/default-user=s64",
      "userId": "12240555497150083704"
     },
     "user_tz": -480
    },
    "id": "nAFMa-Tb1SLE",
    "outputId": "4dd40ba5-72f2-45b3-fc79-50404706a4e6",
    "pycharm": {
     "name": "#%%\n"
    },
    "scrolled": true
   },
   "outputs": [
    {
     "name": "stdout",
     "output_type": "stream",
     "text": [
      "No existing model is found\n",
      "Model: \"sequential_2\"\n",
      "_________________________________________________________________\n",
      "Layer (type)                 Output Shape              Param #   \n",
      "=================================================================\n",
      "bidirectional_4 (Bidirection (None, 30, 384)           233856    \n",
      "_________________________________________________________________\n",
      "dropout_4 (Dropout)          (None, 30, 384)           0         \n",
      "_________________________________________________________________\n",
      "bidirectional_5 (Bidirection (None, 640)               1355520   \n",
      "_________________________________________________________________\n",
      "dropout_5 (Dropout)          (None, 640)               0         \n",
      "_________________________________________________________________\n",
      "dense_2 (Dense)              (None, 1)                 641       \n",
      "=================================================================\n",
      "Total params: 1,590,017\n",
      "Trainable params: 1,590,017\n",
      "Non-trainable params: 0\n",
      "_________________________________________________________________\n",
      "None\n",
      "Epoch 1/100\n",
      "2982/2982 [==============================] - 265s 88ms/step - loss: 0.0034 - mean_absolute_error: 0.0400 - root_mean_squared_error: 0.0586 - mean_absolute_percentage_error: 46.4772 - val_loss: 0.0031 - val_mean_absolute_error: 0.0426 - val_root_mean_squared_error: 0.0553 - val_mean_absolute_percentage_error: 43.9346\n",
      "\n",
      "Epoch 00001: val_loss improved from inf to 0.00306, saving model to ./model/hk/bgru.h5\n",
      "Epoch 2/100\n",
      "2982/2982 [==============================] - 262s 88ms/step - loss: 0.0018 - mean_absolute_error: 0.0315 - root_mean_squared_error: 0.0421 - mean_absolute_percentage_error: 37.2591 - val_loss: 0.0017 - val_mean_absolute_error: 0.0284 - val_root_mean_squared_error: 0.0414 - val_mean_absolute_percentage_error: 33.6889\n",
      "\n",
      "Epoch 00002: val_loss improved from 0.00306 to 0.00172, saving model to ./model/hk/bgru.h5\n",
      "Epoch 3/100\n",
      "2982/2982 [==============================] - 261s 88ms/step - loss: 0.0019 - mean_absolute_error: 0.0322 - root_mean_squared_error: 0.0432 - mean_absolute_percentage_error: 46.7821 - val_loss: 0.0024 - val_mean_absolute_error: 0.0357 - val_root_mean_squared_error: 0.0487 - val_mean_absolute_percentage_error: 40.2205\n",
      "\n",
      "Epoch 00003: val_loss did not improve from 0.00172\n",
      "Epoch 4/100\n",
      "2982/2982 [==============================] - 262s 88ms/step - loss: 0.0018 - mean_absolute_error: 0.0318 - root_mean_squared_error: 0.0429 - mean_absolute_percentage_error: 46.9558 - val_loss: 0.0014 - val_mean_absolute_error: 0.0241 - val_root_mean_squared_error: 0.0378 - val_mean_absolute_percentage_error: 27.5296\n",
      "\n",
      "Epoch 00004: val_loss improved from 0.00172 to 0.00143, saving model to ./model/hk/bgru.h5\n",
      "Epoch 5/100\n",
      "2982/2982 [==============================] - 262s 88ms/step - loss: 0.0018 - mean_absolute_error: 0.0310 - root_mean_squared_error: 0.0419 - mean_absolute_percentage_error: 42.1425 - val_loss: 0.0024 - val_mean_absolute_error: 0.0333 - val_root_mean_squared_error: 0.0487 - val_mean_absolute_percentage_error: 29.4173\n",
      "\n",
      "Epoch 00005: val_loss did not improve from 0.00143\n",
      "Epoch 6/100\n",
      "2982/2982 [==============================] - 261s 88ms/step - loss: 0.0019 - mean_absolute_error: 0.0326 - root_mean_squared_error: 0.0438 - mean_absolute_percentage_error: 35.5909 - val_loss: 0.0025 - val_mean_absolute_error: 0.0367 - val_root_mean_squared_error: 0.0496 - val_mean_absolute_percentage_error: 31.5978\n",
      "\n",
      "Epoch 00006: val_loss did not improve from 0.00143\n",
      "Epoch 7/100\n",
      "2982/2982 [==============================] - 261s 88ms/step - loss: 0.0018 - mean_absolute_error: 0.0315 - root_mean_squared_error: 0.0426 - mean_absolute_percentage_error: 39.9874 - val_loss: 0.0025 - val_mean_absolute_error: 0.0353 - val_root_mean_squared_error: 0.0502 - val_mean_absolute_percentage_error: 36.3019\n",
      "\n",
      "Epoch 00007: val_loss did not improve from 0.00143\n",
      "Epoch 8/100\n",
      "2982/2982 [==============================] - 261s 88ms/step - loss: 0.0019 - mean_absolute_error: 0.0321 - root_mean_squared_error: 0.0433 - mean_absolute_percentage_error: 41.3541 - val_loss: 0.0029 - val_mean_absolute_error: 0.0386 - val_root_mean_squared_error: 0.0537 - val_mean_absolute_percentage_error: 28.3900\n",
      "\n",
      "Epoch 00008: val_loss did not improve from 0.00143\n",
      "Epoch 9/100\n",
      "2982/2982 [==============================] - 261s 88ms/step - loss: 0.0018 - mean_absolute_error: 0.0311 - root_mean_squared_error: 0.0422 - mean_absolute_percentage_error: 44.7770 - val_loss: 0.0024 - val_mean_absolute_error: 0.0355 - val_root_mean_squared_error: 0.0491 - val_mean_absolute_percentage_error: 56.8862\n",
      "\n",
      "Epoch 00009: val_loss did not improve from 0.00143\n",
      "Epoch 10/100\n",
      "2982/2982 [==============================] - 262s 88ms/step - loss: 0.0017 - mean_absolute_error: 0.0303 - root_mean_squared_error: 0.0414 - mean_absolute_percentage_error: 37.2735 - val_loss: 0.0014 - val_mean_absolute_error: 0.0232 - val_root_mean_squared_error: 0.0371 - val_mean_absolute_percentage_error: 24.4469\n",
      "\n",
      "Epoch 00010: val_loss improved from 0.00143 to 0.00138, saving model to ./model/hk/bgru.h5\n",
      "Epoch 11/100\n",
      "2982/2982 [==============================] - 261s 87ms/step - loss: 0.0015 - mean_absolute_error: 0.0282 - root_mean_squared_error: 0.0387 - mean_absolute_percentage_error: 27.2081 - val_loss: 0.0023 - val_mean_absolute_error: 0.0351 - val_root_mean_squared_error: 0.0478 - val_mean_absolute_percentage_error: 43.8435\n",
      "\n",
      "Epoch 00011: val_loss did not improve from 0.00138\n",
      "Epoch 12/100\n",
      "2982/2982 [==============================] - 261s 88ms/step - loss: 0.0014 - mean_absolute_error: 0.0270 - root_mean_squared_error: 0.0372 - mean_absolute_percentage_error: 30.3841 - val_loss: 0.0017 - val_mean_absolute_error: 0.0288 - val_root_mean_squared_error: 0.0415 - val_mean_absolute_percentage_error: 23.5925\n",
      "\n",
      "Epoch 00012: val_loss did not improve from 0.00138\n",
      "Epoch 13/100\n",
      "2982/2982 [==============================] - 262s 88ms/step - loss: 0.0014 - mean_absolute_error: 0.0267 - root_mean_squared_error: 0.0368 - mean_absolute_percentage_error: 36.2605 - val_loss: 0.0018 - val_mean_absolute_error: 0.0304 - val_root_mean_squared_error: 0.0422 - val_mean_absolute_percentage_error: 26.9043\n",
      "\n",
      "Epoch 00013: val_loss did not improve from 0.00138\n",
      "Epoch 14/100\n",
      "2982/2982 [==============================] - 261s 88ms/step - loss: 0.0014 - mean_absolute_error: 0.0270 - root_mean_squared_error: 0.0371 - mean_absolute_percentage_error: 32.6122 - val_loss: 0.0016 - val_mean_absolute_error: 0.0268 - val_root_mean_squared_error: 0.0404 - val_mean_absolute_percentage_error: 25.8025\n",
      "\n",
      "Epoch 00014: val_loss did not improve from 0.00138\n",
      "Epoch 00014: early stopping\n",
      "Model Saved\n",
      "History Saved\n"
     ]
    }
   ],
   "source": [
    "hk_bgru_cp = ModelCheckpoint(\n",
    "    filepath=hk_bgru_file_path,\n",
    "    monitor=\"val_loss\",\n",
    "    save_best_only=True,\n",
    "    verbose=1,\n",
    "    mode=\"min\"\n",
    ")\n",
    "\n",
    "hk_bgru_es = EarlyStopping(\n",
    "    monitor=\"val_loss\",\n",
    "    mode=\"min\",\n",
    "    patience=10,\n",
    "    verbose=1,\n",
    "    # restore_best_weights=True, # added to prevent overfitting in iterative fit()\n",
    "    min_delta=0.0001, # https://stackoverflow.com/a/63495687/9500852\n",
    ")\n",
    "\n",
    "# log history per epochs\n",
    "hk_csv_log = CSVLogger(hk_bgru_training_progress_history_path)\n",
    "\n",
    "hk_bgru_model = None\n",
    "# check if we have previously trained model or not, ref: https://stackoverflow.com/a/56425146/9500852\n",
    "if os.path.exists(hk_bgru_file_path):\n",
    "    print(\"Found existing model\")\n",
    "    hk_bgru_model = load_model(hk_bgru_file_path)\n",
    "    # score = hk_bgru_model.evaluate()\n",
    "else:\n",
    "    print(\"No existing model is found\")\n",
    "    # hk_bgru_model = make_bgru_model(\n",
    "    #     input_dim=X_train_hk[fns_hk[0]].shape[1],\n",
    "    #     feature_cnt=X_train_hk[fns_hk[0]].shape[2]\n",
    "    # )\n",
    "    hk_bgru_model = make_bgru_model(\n",
    "        input_dim=X_train_hk.shape[1],\n",
    "        feature_cnt=X_train_hk.shape[2]\n",
    "    )\n",
    "\n",
    "# start fitting the model\n",
    "# hk_bgru_history = None\n",
    "#\n",
    "# for i in range(len(fns_hk)):\n",
    "#     print(\"\\n--- Training {}, {} stocks remains ---\".format(fns_hk[i], len(fns_hk) - i))\n",
    "#     tmp_hk_bgru_history = hk_bgru_model.fit(\n",
    "#         x=X_train_hk[fns_hk[i]],\n",
    "#         y=y_train_hk[fns_hk[i]],\n",
    "#         validation_data=(X_test_hk[fns_hk[i]], y_test_hk[fns_hk[i]]),\n",
    "#         epochs=TRAIN_EPOCHS,\n",
    "#         callbacks=[\n",
    "#             hk_bgru_cp,\n",
    "#             hk_bgru_es\n",
    "#         ]\n",
    "#     )\n",
    "#\n",
    "#     # Append to previous histories\n",
    "#     if hk_bgru_history is None:\n",
    "#         hk_bgru_history = tmp_hk_bgru_history.history\n",
    "#     else:\n",
    "#         for dict_key in hk_bgru_history.keys():\n",
    "#             hk_bgru_history.update({\n",
    "#                 dict_key: hk_bgru_history[dict_key] + tmp_hk_bgru_history.history[dict_key]\n",
    "#             })\n",
    "#\n",
    "#     # Save model per fit() iteration\n",
    "#     hk_bgru_model.save(hk_bgru_file_path)\n",
    "#     print(\"After trained {}, Model Saved\".format(fns_hk[i]))\n",
    "#\n",
    "#     # Save history per fit() iteration\n",
    "#     np.save(hk_bgru_train_history_file_path, hk_bgru_history)\n",
    "#     print(\"After trained {}, History Saved, loss len: {}\".format(fns_hk[i], len(hk_bgru_history[\"loss\"])))\n",
    "#\n",
    "#     # SAVE HISTORY INDIVIUALLY PER fit() interation\n",
    "#     # np.save(hk_bgru_train_history_file_path.format(HK_MODELS_CHECKPOINT_PATH, fns_hk[i]), hk_bgru_history.history)\n",
    "#     # print(\"After trained {}, History Saved\".format(fns_hk[i])))\n",
    "\n",
    "hk_bgru_history = hk_bgru_model.fit(\n",
    "    x=X_train_hk,\n",
    "    y=y_train_hk,\n",
    "    validation_data=(X_test_hk, y_test_hk),\n",
    "    epochs=TRAIN_EPOCHS,\n",
    "    callbacks=[\n",
    "        hk_bgru_cp,\n",
    "        hk_bgru_es,\n",
    "        hk_csv_log\n",
    "    ]\n",
    ")\n",
    "\n",
    "# save the model\n",
    "if hk_bgru_model is not None:\n",
    "    hk_bgru_model.save(hk_bgru_file_path)\n",
    "    print(\"Model Saved\")\n",
    "\n",
    "# save the training history\n",
    "if hk_bgru_history is not None:\n",
    "    np.save(hk_bgru_train_history_file_path, hk_bgru_history.history)\n",
    "    # np.save(hk_bgru_train_history_file_path, hk_bgru_history)\n",
    "    print(\"History Saved\")"
   ]
  },
  {
   "cell_type": "markdown",
   "metadata": {
    "id": "955EAavVAXC5"
   },
   "source": [
    "##### Train BGRU model for United States stocks"
   ]
  },
  {
   "cell_type": "code",
   "execution_count": 15,
   "metadata": {
    "executionInfo": {
     "elapsed": 335,
     "status": "aborted",
     "timestamp": 1640615080053,
     "user": {
      "displayName": "Wilson Lee",
      "photoUrl": "https://lh3.googleusercontent.com/a/default-user=s64",
      "userId": "12240555497150083704"
     },
     "user_tz": -480
    },
    "id": "-1YaYYh8AXC5",
    "pycharm": {
     "name": "#%%\n"
    }
   },
   "outputs": [
    {
     "name": "stdout",
     "output_type": "stream",
     "text": [
      "No existing model is found\n",
      "Model: \"sequential_3\"\n",
      "_________________________________________________________________\n",
      "Layer (type)                 Output Shape              Param #   \n",
      "=================================================================\n",
      "bidirectional_6 (Bidirection (None, 30, 384)           233856    \n",
      "_________________________________________________________________\n",
      "dropout_6 (Dropout)          (None, 30, 384)           0         \n",
      "_________________________________________________________________\n",
      "bidirectional_7 (Bidirection (None, 640)               1355520   \n",
      "_________________________________________________________________\n",
      "dropout_7 (Dropout)          (None, 640)               0         \n",
      "_________________________________________________________________\n",
      "dense_3 (Dense)              (None, 1)                 641       \n",
      "=================================================================\n",
      "Total params: 1,590,017\n",
      "Trainable params: 1,590,017\n",
      "Non-trainable params: 0\n",
      "_________________________________________________________________\n",
      "None\n",
      "Epoch 1/100\n",
      "3046/3046 [==============================] - 269s 88ms/step - loss: 0.0030 - mean_absolute_error: 0.0369 - root_mean_squared_error: 0.0549 - mean_absolute_percentage_error: 62.1597 - val_loss: 0.0034 - val_mean_absolute_error: 0.0437 - val_root_mean_squared_error: 0.0587 - val_mean_absolute_percentage_error: 103.2571\n",
      "\n",
      "Epoch 00001: val_loss improved from inf to 0.00344, saving model to ./model/us/bgru.h5\n",
      "Epoch 2/100\n",
      "3046/3046 [==============================] - 267s 88ms/step - loss: 0.0014 - mean_absolute_error: 0.0278 - root_mean_squared_error: 0.0374 - mean_absolute_percentage_error: 38.0272 - val_loss: 0.0019 - val_mean_absolute_error: 0.0303 - val_root_mean_squared_error: 0.0436 - val_mean_absolute_percentage_error: 82.9735\n",
      "\n",
      "Epoch 00002: val_loss improved from 0.00344 to 0.00190, saving model to ./model/us/bgru.h5\n",
      "Epoch 3/100\n",
      "3046/3046 [==============================] - 267s 88ms/step - loss: 0.0013 - mean_absolute_error: 0.0269 - root_mean_squared_error: 0.0363 - mean_absolute_percentage_error: 46.4659 - val_loss: 0.0024 - val_mean_absolute_error: 0.0358 - val_root_mean_squared_error: 0.0492 - val_mean_absolute_percentage_error: 99.6625\n",
      "\n",
      "Epoch 00003: val_loss did not improve from 0.00190\n",
      "Epoch 4/100\n",
      "3046/3046 [==============================] - 267s 88ms/step - loss: 0.0014 - mean_absolute_error: 0.0274 - root_mean_squared_error: 0.0369 - mean_absolute_percentage_error: 38.7887 - val_loss: 0.0023 - val_mean_absolute_error: 0.0349 - val_root_mean_squared_error: 0.0481 - val_mean_absolute_percentage_error: 130.9048\n",
      "\n",
      "Epoch 00004: val_loss did not improve from 0.00190\n",
      "Epoch 5/100\n",
      "3046/3046 [==============================] - 267s 88ms/step - loss: 0.0014 - mean_absolute_error: 0.0281 - root_mean_squared_error: 0.0378 - mean_absolute_percentage_error: 58.1144 - val_loss: 0.0022 - val_mean_absolute_error: 0.0310 - val_root_mean_squared_error: 0.0465 - val_mean_absolute_percentage_error: 93.2090\n",
      "\n",
      "Epoch 00005: val_loss did not improve from 0.00190\n",
      "Epoch 6/100\n",
      "3046/3046 [==============================] - 267s 88ms/step - loss: 0.0014 - mean_absolute_error: 0.0276 - root_mean_squared_error: 0.0375 - mean_absolute_percentage_error: 34.6898 - val_loss: 0.0032 - val_mean_absolute_error: 0.0438 - val_root_mean_squared_error: 0.0565 - val_mean_absolute_percentage_error: 109.5409\n",
      "\n",
      "Epoch 00006: val_loss did not improve from 0.00190\n",
      "Epoch 7/100\n",
      "3046/3046 [==============================] - 267s 88ms/step - loss: 0.0014 - mean_absolute_error: 0.0272 - root_mean_squared_error: 0.0371 - mean_absolute_percentage_error: 50.3666 - val_loss: 0.0020 - val_mean_absolute_error: 0.0306 - val_root_mean_squared_error: 0.0452 - val_mean_absolute_percentage_error: 77.4271\n",
      "\n",
      "Epoch 00007: val_loss did not improve from 0.00190\n",
      "Epoch 8/100\n",
      "3046/3046 [==============================] - 267s 88ms/step - loss: 0.0013 - mean_absolute_error: 0.0264 - root_mean_squared_error: 0.0359 - mean_absolute_percentage_error: 44.6392 - val_loss: 0.0023 - val_mean_absolute_error: 0.0335 - val_root_mean_squared_error: 0.0481 - val_mean_absolute_percentage_error: 84.8582\n",
      "\n",
      "Epoch 00008: val_loss did not improve from 0.00190\n",
      "Epoch 9/100\n",
      "3046/3046 [==============================] - 267s 88ms/step - loss: 0.0018 - mean_absolute_error: 0.0292 - root_mean_squared_error: 0.0429 - mean_absolute_percentage_error: 64.1001 - val_loss: 0.0026 - val_mean_absolute_error: 0.0359 - val_root_mean_squared_error: 0.0513 - val_mean_absolute_percentage_error: 97.1910\n",
      "\n",
      "Epoch 00009: val_loss did not improve from 0.00190\n",
      "Epoch 10/100\n",
      "3046/3046 [==============================] - 266s 87ms/step - loss: 0.0013 - mean_absolute_error: 0.0266 - root_mean_squared_error: 0.0364 - mean_absolute_percentage_error: 43.0767 - val_loss: 0.0022 - val_mean_absolute_error: 0.0319 - val_root_mean_squared_error: 0.0465 - val_mean_absolute_percentage_error: 97.4175\n",
      "\n",
      "Epoch 00010: val_loss did not improve from 0.00190\n",
      "Epoch 11/100\n",
      "3046/3046 [==============================] - 268s 88ms/step - loss: 0.0012 - mean_absolute_error: 0.0252 - root_mean_squared_error: 0.0345 - mean_absolute_percentage_error: 44.5978 - val_loss: 0.0019 - val_mean_absolute_error: 0.0298 - val_root_mean_squared_error: 0.0440 - val_mean_absolute_percentage_error: 89.0886\n",
      "\n",
      "Epoch 00011: val_loss did not improve from 0.00190\n",
      "Epoch 12/100\n",
      "3046/3046 [==============================] - 267s 88ms/step - loss: 0.0012 - mean_absolute_error: 0.0252 - root_mean_squared_error: 0.0346 - mean_absolute_percentage_error: 41.0457 - val_loss: 0.0017 - val_mean_absolute_error: 0.0265 - val_root_mean_squared_error: 0.0416 - val_mean_absolute_percentage_error: 81.1081\n",
      "\n",
      "Epoch 00012: val_loss improved from 0.00190 to 0.00173, saving model to ./model/us/bgru.h5\n",
      "Epoch 13/100\n",
      "3046/3046 [==============================] - 267s 88ms/step - loss: 0.0013 - mean_absolute_error: 0.0268 - root_mean_squared_error: 0.0367 - mean_absolute_percentage_error: 40.3543 - val_loss: 0.0024 - val_mean_absolute_error: 0.0327 - val_root_mean_squared_error: 0.0487 - val_mean_absolute_percentage_error: 81.2990\n",
      "\n",
      "Epoch 00013: val_loss did not improve from 0.00173\n",
      "Epoch 14/100\n",
      "3046/3046 [==============================] - 267s 88ms/step - loss: 0.0014 - mean_absolute_error: 0.0269 - root_mean_squared_error: 0.0370 - mean_absolute_percentage_error: 48.5184 - val_loss: 0.0052 - val_mean_absolute_error: 0.0553 - val_root_mean_squared_error: 0.0719 - val_mean_absolute_percentage_error: 92.6233\n",
      "\n",
      "Epoch 00014: val_loss did not improve from 0.00173\n",
      "Epoch 15/100\n",
      "3046/3046 [==============================] - 267s 88ms/step - loss: 0.0013 - mean_absolute_error: 0.0266 - root_mean_squared_error: 0.0363 - mean_absolute_percentage_error: 47.4899 - val_loss: 0.0030 - val_mean_absolute_error: 0.0393 - val_root_mean_squared_error: 0.0551 - val_mean_absolute_percentage_error: 175.6293\n",
      "\n",
      "Epoch 00015: val_loss did not improve from 0.00173\n",
      "Epoch 16/100\n",
      "3046/3046 [==============================] - 267s 88ms/step - loss: 0.0012 - mean_absolute_error: 0.0248 - root_mean_squared_error: 0.0343 - mean_absolute_percentage_error: 43.9216 - val_loss: 0.0020 - val_mean_absolute_error: 0.0316 - val_root_mean_squared_error: 0.0452 - val_mean_absolute_percentage_error: 127.7215\n",
      "\n",
      "Epoch 00016: val_loss did not improve from 0.00173\n",
      "Epoch 17/100\n",
      "3046/3046 [==============================] - 267s 88ms/step - loss: 0.0010 - mean_absolute_error: 0.0233 - root_mean_squared_error: 0.0321 - mean_absolute_percentage_error: 54.9185 - val_loss: 0.0031 - val_mean_absolute_error: 0.0425 - val_root_mean_squared_error: 0.0555 - val_mean_absolute_percentage_error: 78.4250\n",
      "\n",
      "Epoch 00017: val_loss did not improve from 0.00173\n",
      "Epoch 18/100\n",
      "3046/3046 [==============================] - 267s 88ms/step - loss: 0.0011 - mean_absolute_error: 0.0233 - root_mean_squared_error: 0.0327 - mean_absolute_percentage_error: 35.9724 - val_loss: 0.0043 - val_mean_absolute_error: 0.0497 - val_root_mean_squared_error: 0.0658 - val_mean_absolute_percentage_error: 78.8196\n",
      "\n",
      "Epoch 00018: val_loss did not improve from 0.00173\n",
      "Epoch 19/100\n"
     ]
    },
    {
     "name": "stdout",
     "output_type": "stream",
     "text": [
      "3046/3046 [==============================] - 267s 88ms/step - loss: 0.0011 - mean_absolute_error: 0.0238 - root_mean_squared_error: 0.0329 - mean_absolute_percentage_error: 36.7404 - val_loss: 0.0015 - val_mean_absolute_error: 0.0245 - val_root_mean_squared_error: 0.0385 - val_mean_absolute_percentage_error: 80.4887\n",
      "\n",
      "Epoch 00019: val_loss improved from 0.00173 to 0.00148, saving model to ./model/us/bgru.h5\n",
      "Epoch 20/100\n",
      "3046/3046 [==============================] - 267s 88ms/step - loss: 9.4522e-04 - mean_absolute_error: 0.0222 - root_mean_squared_error: 0.0307 - mean_absolute_percentage_error: 44.9932 - val_loss: 0.0013 - val_mean_absolute_error: 0.0222 - val_root_mean_squared_error: 0.0356 - val_mean_absolute_percentage_error: 71.5078\n",
      "\n",
      "Epoch 00020: val_loss improved from 0.00148 to 0.00127, saving model to ./model/us/bgru.h5\n",
      "Epoch 21/100\n",
      "3046/3046 [==============================] - 266s 87ms/step - loss: 9.2034e-04 - mean_absolute_error: 0.0218 - root_mean_squared_error: 0.0303 - mean_absolute_percentage_error: 33.3061 - val_loss: 0.0014 - val_mean_absolute_error: 0.0237 - val_root_mean_squared_error: 0.0367 - val_mean_absolute_percentage_error: 94.4056\n",
      "\n",
      "Epoch 00021: val_loss did not improve from 0.00127\n",
      "Epoch 22/100\n",
      "3046/3046 [==============================] - 267s 88ms/step - loss: 8.8814e-04 - mean_absolute_error: 0.0214 - root_mean_squared_error: 0.0298 - mean_absolute_percentage_error: 40.6998 - val_loss: 0.0025 - val_mean_absolute_error: 0.0384 - val_root_mean_squared_error: 0.0498 - val_mean_absolute_percentage_error: 85.2968\n",
      "\n",
      "Epoch 00022: val_loss did not improve from 0.00127\n",
      "Epoch 23/100\n",
      "3046/3046 [==============================] - 268s 88ms/step - loss: 8.7572e-04 - mean_absolute_error: 0.0212 - root_mean_squared_error: 0.0296 - mean_absolute_percentage_error: 40.7090 - val_loss: 0.0013 - val_mean_absolute_error: 0.0218 - val_root_mean_squared_error: 0.0354 - val_mean_absolute_percentage_error: 83.8783\n",
      "\n",
      "Epoch 00023: val_loss improved from 0.00127 to 0.00125, saving model to ./model/us/bgru.h5\n",
      "Epoch 24/100\n",
      "3046/3046 [==============================] - 267s 88ms/step - loss: 8.9279e-04 - mean_absolute_error: 0.0213 - root_mean_squared_error: 0.0299 - mean_absolute_percentage_error: 32.9822 - val_loss: 0.0013 - val_mean_absolute_error: 0.0227 - val_root_mean_squared_error: 0.0359 - val_mean_absolute_percentage_error: 79.6347\n",
      "\n",
      "Epoch 00024: val_loss did not improve from 0.00125\n",
      "Epoch 25/100\n",
      "3046/3046 [==============================] - 267s 88ms/step - loss: 8.3885e-04 - mean_absolute_error: 0.0207 - root_mean_squared_error: 0.0290 - mean_absolute_percentage_error: 36.6448 - val_loss: 0.0028 - val_mean_absolute_error: 0.0421 - val_root_mean_squared_error: 0.0532 - val_mean_absolute_percentage_error: 106.8132\n",
      "\n",
      "Epoch 00025: val_loss did not improve from 0.00125\n",
      "Epoch 26/100\n",
      "3046/3046 [==============================] - 268s 88ms/step - loss: 8.0857e-04 - mean_absolute_error: 0.0203 - root_mean_squared_error: 0.0284 - mean_absolute_percentage_error: 30.6852 - val_loss: 0.0012 - val_mean_absolute_error: 0.0217 - val_root_mean_squared_error: 0.0350 - val_mean_absolute_percentage_error: 70.2355\n",
      "\n",
      "Epoch 00026: val_loss improved from 0.00125 to 0.00123, saving model to ./model/us/bgru.h5\n",
      "Epoch 27/100\n",
      "3046/3046 [==============================] - 267s 88ms/step - loss: 7.9360e-04 - mean_absolute_error: 0.0200 - root_mean_squared_error: 0.0282 - mean_absolute_percentage_error: 34.0691 - val_loss: 0.0013 - val_mean_absolute_error: 0.0222 - val_root_mean_squared_error: 0.0356 - val_mean_absolute_percentage_error: 67.1651\n",
      "\n",
      "Epoch 00027: val_loss did not improve from 0.00123\n",
      "Epoch 28/100\n",
      "3046/3046 [==============================] - 267s 88ms/step - loss: 7.6813e-04 - mean_absolute_error: 0.0197 - root_mean_squared_error: 0.0277 - mean_absolute_percentage_error: 45.2252 - val_loss: 0.0014 - val_mean_absolute_error: 0.0246 - val_root_mean_squared_error: 0.0376 - val_mean_absolute_percentage_error: 74.0931\n",
      "\n",
      "Epoch 00028: val_loss did not improve from 0.00123\n",
      "Epoch 29/100\n",
      "3046/3046 [==============================] - 268s 88ms/step - loss: 7.6647e-04 - mean_absolute_error: 0.0195 - root_mean_squared_error: 0.0277 - mean_absolute_percentage_error: 36.9052 - val_loss: 0.0016 - val_mean_absolute_error: 0.0275 - val_root_mean_squared_error: 0.0397 - val_mean_absolute_percentage_error: 76.0356\n",
      "\n",
      "Epoch 00029: val_loss did not improve from 0.00123\n",
      "Epoch 30/100\n",
      "3046/3046 [==============================] - 267s 88ms/step - loss: 7.5599e-04 - mean_absolute_error: 0.0195 - root_mean_squared_error: 0.0275 - mean_absolute_percentage_error: 34.0520 - val_loss: 0.0014 - val_mean_absolute_error: 0.0239 - val_root_mean_squared_error: 0.0368 - val_mean_absolute_percentage_error: 61.7875\n",
      "\n",
      "Epoch 00030: val_loss did not improve from 0.00123\n",
      "Epoch 00030: early stopping\n",
      "Model Saved\n",
      "History Saved\n"
     ]
    }
   ],
   "source": [
    "us_bgru_cp = ModelCheckpoint(\n",
    "    filepath=us_bgru_file_path,\n",
    "    monitor=\"val_loss\",\n",
    "    save_best_only=True,\n",
    "    verbose=1,\n",
    "    mode=\"min\"\n",
    ")\n",
    "\n",
    "us_bgru_es = EarlyStopping(\n",
    "    monitor=\"val_loss\",\n",
    "    mode=\"min\",\n",
    "    verbose=1,\n",
    "    patience=10,\n",
    "    # restore_best_weights=True, # added to prevent overfitting in iterative fit()\n",
    "    min_delta=0.0001, # https://stackoverflow.com/a/63495687/9500852\n",
    ")\n",
    "\n",
    "# log history per epochs\n",
    "us_csv_log = CSVLogger(us_bgru_training_progress_history)\n",
    "\n",
    "us_bgru_model = None\n",
    "# check if we have previously trained model or not, ref: https://stackoverflow.com/a/56425146/9500852\n",
    "if os.path.exists(us_bgru_file_path):\n",
    "    print(\"Found existing model\")\n",
    "    us_bgru_model = load_model(us_bgru_file_path)\n",
    "\n",
    "else:\n",
    "    print(\"No existing model is found\")\n",
    "    # us_bgru_model = make_bgru_model(\n",
    "    #     input_dim=X_train_us[fns_us[0]].shape[1],\n",
    "    #     feature_cnt=X_train_us[fns_us[0]].shape[2]\n",
    "    # )\n",
    "    us_bgru_model = make_bgru_model(\n",
    "        input_dim=X_train_us.shape[1],\n",
    "        feature_cnt=X_train_us.shape[2]\n",
    "    )\n",
    "\n",
    "# start fitting the model\n",
    "# us_bgru_history = None\n",
    "#\n",
    "# for i in range(len(fns_us)):\n",
    "#     print(\"\\n--- Training {}, {} stocks remains ---\".format(fns_us[i], len(fns_us) - i))\n",
    "#     tmp_us_bgru_history = us_bgru_model.fit(\n",
    "#         x=X_train_us[fns_us[i]],\n",
    "#         y=y_train_us[fns_us[i]],\n",
    "#         validation_data=(X_test_us[fns_us[i]], y_test_us[fns_us[i]]),\n",
    "#         epochs=TRAIN_EPOCHS,\n",
    "#         callbacks=[\n",
    "#             us_bgru_cp,\n",
    "#             us_bgru_es,\n",
    "#         ]\n",
    "#     )\n",
    "#\n",
    "#     # Append to previous histories\n",
    "#     if us_bgru_history is None:\n",
    "#         us_bgru_history = tmp_us_bgru_history.history\n",
    "#     else:\n",
    "#         for dict_key in us_bgru_history.keys():\n",
    "#             # us_bgru_history[dict_key] = us_bgru_history[dict_key] + tmp_us_bgru_history.history[dict_key]\n",
    "#             us_bgru_history.update({\n",
    "#                 dict_key: us_bgru_history[dict_key] + tmp_us_bgru_history.history[dict_key]\n",
    "#             })\n",
    "#\n",
    "#     # Save model per fit() iteration\n",
    "#     us_bgru_model.save(us_bgru_file_path)\n",
    "#     print(\"After trained {}, Model Saved\".format(fns_us[i]))\n",
    "#\n",
    "#     np.save(us_bgru_train_history_file_path, us_bgru_history)\n",
    "#     print(\"After trained {}, History Saved\".format(fns_us[i]))\n",
    "\n",
    "us_bgru_history = us_bgru_model.fit(\n",
    "    x=X_train_us,\n",
    "    y=y_train_us,\n",
    "    validation_data=(X_test_us, y_test_us),\n",
    "    epochs=TRAIN_EPOCHS,\n",
    "    callbacks=[\n",
    "        us_bgru_cp,\n",
    "        us_bgru_es,\n",
    "        us_csv_log\n",
    "    ]\n",
    ")\n",
    "\n",
    "# save the model\n",
    "if us_bgru_model is not None:\n",
    "    us_bgru_model.save(us_bgru_file_path)\n",
    "    print(\"Model Saved\")\n",
    "\n",
    "# save the training history\n",
    "if us_bgru_history is not None:\n",
    "    np.save(us_bgru_train_history_file_path, us_bgru_history.history)\n",
    "    # np.save(us_bgru_train_history_file_path, us_bgru_history)\n",
    "    print(\"History Saved\")\n"
   ]
  },
  {
   "cell_type": "markdown",
   "metadata": {
    "id": "-d0H4tvLAXC9",
    "pycharm": {
     "name": "#%% md\n"
    }
   },
   "source": [
    "### Other testing codes (to be removed)\n"
   ]
  },
  {
   "cell_type": "code",
   "execution_count": 21,
   "metadata": {
    "executionInfo": {
     "elapsed": 8,
     "status": "aborted",
     "timestamp": 1640615080056,
     "user": {
      "displayName": "Wilson Lee",
      "photoUrl": "https://lh3.googleusercontent.com/a/default-user=s64",
      "userId": "12240555497150083704"
     },
     "user_tz": -480
    },
    "id": "nufgyJlZAXC9",
    "pycharm": {
     "name": "#%%\n"
    }
   },
   "outputs": [],
   "source": [
    "# Test train for one stock only\n",
    "\n",
    "# hk_bgru_cp = ModelCheckpoint(\n",
    "#     filepath=hk_bgru_file_path,\n",
    "#     monitor=\"val_loss\",\n",
    "#     save_best_only=True,\n",
    "#     verbose=1,\n",
    "#     mode=\"min\"\n",
    "# )\n",
    "#\n",
    "# hk_bgru_es = EarlyStopping(\n",
    "#     monitor=\"val_loss\",\n",
    "#     mode=\"min\",\n",
    "#     patience=10\n",
    "# )\n",
    "#\n",
    "# hk_bgru_model = None\n",
    "# # check if we have previously trained model or not, ref: https://stackoverflow.com/a/56425146/9500852\n",
    "# if os.path.exists(hk_bgru_file_path):\n",
    "#     print(\"Found existing model\")\n",
    "#     hk_bgru_model = load_model(hk_bgru_file_path)\n",
    "#     # score = hk_bgru_model.evaluate()\n",
    "# else:\n",
    "#     print(\"No existing model is found\")\n",
    "#     hk_bgru_model = make_bgru_model(\n",
    "#         input_dim=X_train_hk[fns_hk[0]].shape[1],\n",
    "#         feature_cnt=X_train_hk[fns_hk[0]].shape[2]\n",
    "#     )\n",
    "#\n",
    "# # from tensorflow.keras.layers import LSTM\n",
    "# # hk_bgru_model = Sequential()\n",
    "# # hk_bgru_model.add(Bidirectional(LSTM(units= 128), input_shape=(X_train_hk[fns_hk[0]].shape[1], X_train_hk[fns_hk[0]].shape[2])))\n",
    "# # hk_bgru_model.add(Dense(64))\n",
    "# # hk_bgru_model.add(Dense(units=1))\n",
    "# #\n",
    "# # hk_bgru_model.compile(optimizer=Adam(lr = 0.001), loss='mean_squared_error',\n",
    "# #                   metrics=[\n",
    "# #                     # MeanAbsoluteError(),\n",
    "# #                     # RootMeanSquaredError(),\n",
    "# #                     # MeanAbsolutePercentageError()\n",
    "# #                 ])\n",
    "#\n",
    "# # print(hk_bgru_model.summary())\n",
    "#\n",
    "# print(\"\\n--- Training {}, {} stocks remains ---\".format(\"1038.HK\", 0))\n",
    "# hk_bgru_history = hk_bgru_model.fit(\n",
    "#     x=X_train_hk[\"1038.HK\"],\n",
    "#     y=y_train_hk[\"1038.HK\"],\n",
    "#     validation_data=(X_test_hk[\"1038.HK\"], y_test_hk[\"1038.HK\"]),\n",
    "#     epochs=TRAIN_EPOCHS,\n",
    "#     # epochs=15,\n",
    "#     # batch_size=150,\n",
    "#     callbacks=[\n",
    "#         hk_bgru_cp,\n",
    "#         hk_bgru_es\n",
    "#     ],\n",
    "#     shuffle=False\n",
    "# )\n",
    "#\n",
    "# hk_bgru_model.save(hk_bgru_file_path)\n",
    "# print(\"After trained {}, Model Saved\".format(\"1038.HK\"))\n",
    "# np.save(hk_bgru_train_history_file_path, hk_bgru_history.history)\n",
    "# print(\"History Saved\")"
   ]
  },
  {
   "cell_type": "code",
   "execution_count": 22,
   "metadata": {
    "executionInfo": {
     "elapsed": 8,
     "status": "aborted",
     "timestamp": 1640615080056,
     "user": {
      "displayName": "Wilson Lee",
      "photoUrl": "https://lh3.googleusercontent.com/a/default-user=s64",
      "userId": "12240555497150083704"
     },
     "user_tz": -480
    },
    "id": "qvjHfLyeAXC9",
    "pycharm": {
     "name": "#%%\n"
    }
   },
   "outputs": [],
   "source": [
    "# X_train_hk[fns_hk[0]].shape"
   ]
  },
  {
   "cell_type": "code",
   "execution_count": 23,
   "metadata": {
    "executionInfo": {
     "elapsed": 8,
     "status": "aborted",
     "timestamp": 1640615080056,
     "user": {
      "displayName": "Wilson Lee",
      "photoUrl": "https://lh3.googleusercontent.com/a/default-user=s64",
      "userId": "12240555497150083704"
     },
     "user_tz": -480
    },
    "id": "YiTpuACwAXC9",
    "pycharm": {
     "name": "#%%\n"
    }
   },
   "outputs": [
    {
     "name": "stdout",
     "output_type": "stream",
     "text": [
      "14\n",
      "28\n",
      "{'loss': [0.0034380070865154266, 0.001773253083229065, 0.0018697429914027452, 0.0018408974865451455, 0.0017538601532578468, 0.0019218591041862965, 0.0018185654189437628, 0.0018715831683948636, 0.0017770979320630431, 0.0017107586609199643, 0.001495918957516551, 0.0013813546393066645, 0.0013567311689257622, 0.0013790815137326717, 0.0034380070865154266, 0.001773253083229065, 0.0018697429914027452, 0.0018408974865451455, 0.0017538601532578468, 0.0019218591041862965, 0.0018185654189437628, 0.0018715831683948636, 0.0017770979320630431, 0.0017107586609199643, 0.001495918957516551, 0.0013813546393066645, 0.0013567311689257622, 0.0013790815137326717], 'mean_absolute_error': [0.039962511509656906, 0.03146572411060333, 0.032192450016736984, 0.03176037594676018, 0.030967343598604202, 0.03256459906697273, 0.03153816610574722, 0.032090310007333755, 0.031070921570062637, 0.03030375763773918, 0.028219422325491905, 0.02704673260450363, 0.026716720312833786, 0.02702338621020317], 'root_mean_squared_error': [0.058634523302316666, 0.04211001098155975, 0.04324052482843399, 0.04290568083524704, 0.041879113763570786, 0.04383901134133339, 0.04264464229345322, 0.04326179623603821, 0.042155638337135315, 0.04136132076382637, 0.03867711126804352, 0.03716658055782318, 0.036833833903074265, 0.03713598847389221], 'mean_absolute_percentage_error': [46.477176666259766, 37.25914764404297, 46.78205108642578, 46.955772399902344, 42.14252853393555, 35.59085464477539, 39.987403869628906, 41.3541259765625, 44.7769889831543, 37.273529052734375, 27.208078384399414, 30.384113311767578, 36.26045227050781, 32.612247467041016], 'val_loss': [0.00306033156812191, 0.0017178268171846867, 0.0023728199303150177, 0.0014280861942097545, 0.0023672766983509064, 0.002457541413605213, 0.0025223002303391695, 0.00288312416523695, 0.002408838365226984, 0.001376537373289466, 0.0022842856124043465, 0.0017195286927744746, 0.0017782166833058, 0.0016299767885357141], 'val_mean_absolute_error': [0.04259006679058075, 0.02835647016763687, 0.035745471715927124, 0.024101603776216507, 0.03331451490521431, 0.03672947362065315, 0.035340022295713425, 0.03856886550784111, 0.03552781790494919, 0.02321752905845642, 0.035064391791820526, 0.02879554219543934, 0.030449775978922844, 0.02682732418179512], 'val_root_mean_squared_error': [0.05532026290893555, 0.04144667461514473, 0.04871160164475441, 0.037790026515722275, 0.048654668033123016, 0.04957359656691551, 0.05022250860929489, 0.05369473248720169, 0.04907992109656334, 0.03710171580314636, 0.04779420047998428, 0.041467200964689255, 0.042168907821178436, 0.04037297144532204], 'val_mean_absolute_percentage_error': [43.93463897705078, 33.68893814086914, 40.22046661376953, 27.529584884643555, 29.417316436767578, 31.59775733947754, 36.3018798828125, 28.38997459411621, 56.88619613647461, 24.446937561035156, 43.84345626831055, 23.592464447021484, 26.90427589416504, 25.80252456665039]}\n"
     ]
    }
   ],
   "source": [
    "hk_gru_history_dict = np.load(hk_bgru_train_history_file_path, allow_pickle=True).item()\n",
    "\n",
    "dict_key = \"loss\"\n",
    "print(len(hk_gru_history_dict[\"loss\"]))\n",
    "\n",
    "# hk_bgru_history_dict[\"loss\"] = hk_gru_history_dict[\"loss\"] + hk_gru_history_dict[\"loss\"]\n",
    "hk_bgru_history_dict.update({\n",
    "    dict_key: hk_gru_history_dict[\"loss\"] + hk_gru_history_dict[\"loss\"]\n",
    "})\n",
    "\n",
    "# print(\"updated\")\n",
    "\n",
    "print(len(hk_bgru_history_dict[\"loss\"]))\n",
    "\n",
    "print(hk_bgru_history_dict)\n",
    "\n"
   ]
  }
 ],
 "metadata": {
  "colab": {
   "collapsed_sections": [],
   "name": "3.1. Model Training - BGRU.ipynb",
   "provenance": []
  },
  "kernelspec": {
   "display_name": "Python 3",
   "language": "python",
   "name": "python3"
  },
  "language_info": {
   "codemirror_mode": {
    "name": "ipython",
    "version": 3
   },
   "file_extension": ".py",
   "mimetype": "text/x-python",
   "name": "python",
   "nbconvert_exporter": "python",
   "pygments_lexer": "ipython3",
   "version": "3.9.7"
  }
 },
 "nbformat": 4,
 "nbformat_minor": 1
}