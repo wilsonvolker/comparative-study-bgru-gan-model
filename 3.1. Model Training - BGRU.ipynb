{
 "cells": [
  {
   "cell_type": "markdown",
   "metadata": {
    "collapsed": true,
    "pycharm": {
     "name": "#%% md\n"
    },
    "id": "GHDFK7fp1SK3"
   },
   "source": [
    "# Model Training\n",
    "Train BGRU models for HK and US stock market, repectively"
   ]
  },
  {
   "cell_type": "code",
   "source": [
    "import os\n",
    "import numpy as np\n",
    "import pandas as pd\n",
    "import matplotlib.pyplot as plt\n",
    "%matplotlib inline\n",
    "import tensorflow as tf\n",
    "from tensorflow.keras.models import Sequential, load_model\n",
    "from tensorflow.keras.layers import Input, Dense, Dropout, Bidirectional\n",
    "from tensorflow.keras.layers import GRU\n",
    "from tensorflow.keras.optimizers import Adam\n",
    "from keras.utils.vis_utils import plot_model\n",
    "from keras.metrics import Accuracy, MeanAbsoluteError, RootMeanSquaredError, MeanAbsolutePercentageError\n",
    "from keras.callbacks import ModelCheckpoint, EarlyStopping"
   ],
   "metadata": {
    "pycharm": {
     "name": "#%%\n"
    },
    "id": "MQORqTIe1SK7",
    "executionInfo": {
     "status": "ok",
     "timestamp": 1640423062765,
     "user_tz": -480,
     "elapsed": 255,
     "user": {
      "displayName": "Wilson Lee",
      "photoUrl": "https://lh3.googleusercontent.com/a/default-user=s64",
      "userId": "12240555497150083704"
     }
    }
   },
   "execution_count": 27,
   "outputs": []
  },
  {
   "cell_type": "markdown",
   "source": [
    "### Common variables and functions"
   ],
   "metadata": {
    "collapsed": false,
    "pycharm": {
     "name": "#%% md\n"
    },
    "id": "cnwcBKNd1SK8"
   }
  },
  {
   "cell_type": "code",
   "source": [
    "MODEL_STRUCTURE_PATH = \"./diagrams/model_structures\"\n",
    "PROCESSED_STOCKS_PATH = \"./data/processed\"\n",
    "EVALUATE_STOCKS_PATH = \"./data/processed/stocks_for_evaluate\"\n",
    "\n",
    "# stocks model checkpoint paths\n",
    "HK_MODELS_CHECKPOINT_PATH = \"./model/hk\"\n",
    "US_MODELS_CHECKPOINT_PATH = \"./model/us\"\n",
    "\n",
    "hk_bgru_file_path = \"{}/bgru.h5\".format(HK_MODELS_CHECKPOINT_PATH)\n",
    "us_bgru_file_path = \"{}/bgru.h5\".format(US_MODELS_CHECKPOINT_PATH)\n",
    "\n",
    "TRAIN_EPOCHS = 100\n",
    "\n",
    "def create_dir_if_not_exist(dirname):\n",
    "    if not os.path.exists(dirname):\n",
    "        os.makedirs(dirname, exist_ok=True)"
   ],
   "metadata": {
    "pycharm": {
     "name": "#%%\n"
    },
    "id": "PXJCbw501SK9",
    "executionInfo": {
     "status": "ok",
     "timestamp": 1640423064760,
     "user_tz": -480,
     "elapsed": 275,
     "user": {
      "displayName": "Wilson Lee",
      "photoUrl": "https://lh3.googleusercontent.com/a/default-user=s64",
      "userId": "12240555497150083704"
     }
    }
   },
   "execution_count": 28,
   "outputs": []
  },
  {
   "cell_type": "markdown",
   "source": [
    "### Common metrics (override the one of keras)"
   ],
   "metadata": {
    "collapsed": false,
    "pycharm": {
     "name": "#%% md\n"
    },
    "id": "Fh0tZ2wg1SK-"
   }
  },
  {
   "cell_type": "code",
   "execution_count": 29,
   "outputs": [],
   "source": [
    "def ar(y_true, y_pred): # ref: https://github.com/grudloff/stock_market_GAN/blob/master/TimeSeries_LSTM_Baseline.ipynb\n",
    "    mask = tf.cast(y_pred[1:] > y_true[:-1],tf.float32)\n",
    "    return tf.reduce_mean((y_true[1:]-y_true[:-1])*mask)"
   ],
   "metadata": {
    "pycharm": {
     "name": "#%%\n"
    },
    "id": "nNQpjijo1SK-",
    "executionInfo": {
     "status": "ok",
     "timestamp": 1640423066038,
     "user_tz": -480,
     "elapsed": 3,
     "user": {
      "displayName": "Wilson Lee",
      "photoUrl": "https://lh3.googleusercontent.com/a/default-user=s64",
      "userId": "12240555497150083704"
     }
    }
   }
  },
  {
   "cell_type": "markdown",
   "source": [
    "### Import datasets"
   ],
   "metadata": {
    "collapsed": false,
    "pycharm": {
     "name": "#%% md\n"
    },
    "id": "nJBSBRnF1SK_"
   }
  },
  {
   "cell_type": "code",
   "execution_count": 30,
   "outputs": [],
   "source": [
    "# hk datasets\n",
    "X_train_hk = np.load(\"{}/train_X_hk.npy\".format(PROCESSED_STOCKS_PATH))\n",
    "X_test_hk = np.load(\"{}/test_X_hk.npy\".format(PROCESSED_STOCKS_PATH))\n",
    "y_train_hk = np.load(\"{}/train_y_hk.npy\".format(PROCESSED_STOCKS_PATH))\n",
    "y_test_hk = np.load(\"{}/test_y_hk.npy\".format(PROCESSED_STOCKS_PATH))\n",
    "\n",
    "# us datasets\n",
    "X_train_us = np.load(\"{}/train_X_us.npy\".format(PROCESSED_STOCKS_PATH))\n",
    "X_test_us = np.load(\"{}/test_X_us.npy\".format(PROCESSED_STOCKS_PATH))\n",
    "y_train_us = np.load(\"{}/train_y_us.npy\".format(PROCESSED_STOCKS_PATH))\n",
    "y_test_us = np.load(\"{}/test_y_us.npy\".format(PROCESSED_STOCKS_PATH))"
   ],
   "metadata": {
    "pycharm": {
     "name": "#%%\n"
    },
    "id": "FWNVI-Qo1SLA",
    "executionInfo": {
     "status": "ok",
     "timestamp": 1640423069326,
     "user_tz": -480,
     "elapsed": 1864,
     "user": {
      "displayName": "Wilson Lee",
      "photoUrl": "https://lh3.googleusercontent.com/a/default-user=s64",
      "userId": "12240555497150083704"
     }
    }
   }
  },
  {
   "cell_type": "markdown",
   "source": [
    "### Define models structure\n",
    "##### BGRU models\n",
    "###### Reference:\n",
    "```\n",
    "Salimath, S., Chatterjee, T., Mathai, T., Kamble, P., & Kolhekar, M. (2021, April). Prediction of Stock Price for Indian Stock Market: A Comparative Study Using LSTM and GRU. In International Conference on Advances in Computing and Data Sciences (pp. 292-302). Springer, Cham.\n",
    "Lin, H., Chen, C., Huang, G., & Jafari, A. (2021). Stock price prediction using Generative Adversarial Networks. Journal of Computer Science, (17(3), 188–196. doi:10.3844/jcssp.2021.188.196\n",
    "https://github.com/grudloff/stock_market_GAN\n",
    "```"
   ],
   "metadata": {
    "collapsed": false,
    "pycharm": {
     "name": "#%% md\n"
    },
    "id": "sK7uZlmj1SLB"
   }
  },
  {
   "cell_type": "code",
   "execution_count": 31,
   "outputs": [],
   "source": [
    "def make_bgru_model(input_dim, feature_cnt) -> tf.keras.models.Model:\n",
    "    model = Sequential()\n",
    "\n",
    "    # input layer\n",
    "    model.add(\n",
    "        Input(\n",
    "            shape=(input_dim, feature_cnt)\n",
    "        )\n",
    "    )\n",
    "\n",
    "    # first gru + dropout layer\n",
    "    model.add(\n",
    "        Bidirectional(\n",
    "            GRU(\n",
    "                units=50,\n",
    "                return_sequences=True,\n",
    "                input_shape=(input_dim, feature_cnt),\n",
    "                activation=\"tanh\"\n",
    "                )\n",
    "        )\n",
    "    )\n",
    "    model.add(\n",
    "        Dropout(rate=0.2)\n",
    "    )\n",
    "\n",
    "    # second gru + dropout layer\n",
    "    model.add(\n",
    "        Bidirectional(\n",
    "            GRU(\n",
    "                units=50,\n",
    "                return_sequences=False, # important, convert array from 3d to 2d\n",
    "                input_shape=(input_dim, feature_cnt),\n",
    "                activation=\"tanh\"\n",
    "                )\n",
    "        )\n",
    "    )\n",
    "    model.add(\n",
    "        Dropout(rate=0.2)\n",
    "    )\n",
    "\n",
    "    # output dense layer\n",
    "    model.add(\n",
    "        Dense(units = 1)\n",
    "    )\n",
    "\n",
    "    # compile model and use Adam optimizer\n",
    "    model.compile(\n",
    "        optimizer=Adam(learning_rate=0.0001),\n",
    "        loss=\"mse\",\n",
    "        metrics=[\n",
    "            # Accuracy(),\n",
    "            ar,\n",
    "            MeanAbsoluteError(),\n",
    "            RootMeanSquaredError(), MeanAbsolutePercentageError()\n",
    "        ]\n",
    "    )\n",
    "\n",
    "    print(model.summary())\n",
    "    return model"
   ],
   "metadata": {
    "pycharm": {
     "name": "#%%\n"
    },
    "id": "lgSxMyoq1SLC",
    "executionInfo": {
     "status": "ok",
     "timestamp": 1640423070187,
     "user_tz": -480,
     "elapsed": 3,
     "user": {
      "displayName": "Wilson Lee",
      "photoUrl": "https://lh3.googleusercontent.com/a/default-user=s64",
      "userId": "12240555497150083704"
     }
    }
   }
  },
  {
   "cell_type": "code",
   "execution_count": 32,
   "outputs": [
    {
     "output_type": "stream",
     "name": "stdout",
     "text": [
      "Model: \"sequential_7\"\n",
      "_________________________________________________________________\n",
      " Layer (type)                Output Shape              Param #   \n",
      "=================================================================\n",
      " bidirectional_14 (Bidirecti  (None, 30, 100)          18300     \n",
      " onal)                                                           \n",
      "                                                                 \n",
      " dropout_8 (Dropout)         (None, 30, 100)           0         \n",
      "                                                                 \n",
      " bidirectional_15 (Bidirecti  (None, 100)              45600     \n",
      " onal)                                                           \n",
      "                                                                 \n",
      " dropout_9 (Dropout)         (None, 100)               0         \n",
      "                                                                 \n",
      " dense_10 (Dense)            (None, 1)                 101       \n",
      "                                                                 \n",
      "=================================================================\n",
      "Total params: 64,001\n",
      "Trainable params: 64,001\n",
      "Non-trainable params: 0\n",
      "_________________________________________________________________\n",
      "None\n"
     ]
    },
    {
     "output_type": "execute_result",
     "data": {
      "image/png": "[encoded data removed]",
      "text/plain": [
       "<IPython.core.display.Image object>"
      ]
     },
     "metadata": {},
     "execution_count": 32
    }
   ],
   "source": [
    "# plot model structure\n",
    "create_dir_if_not_exist(MODEL_STRUCTURE_PATH)\n",
    "plot_model(\n",
    "    make_bgru_model(input_dim=X_train_hk.shape[1],\n",
    "                    feature_cnt=X_train_hk.shape[2]\n",
    "                    ),\n",
    "    show_shapes=True,\n",
    "    show_layer_names=True,\n",
    "    to_file=\"{}/BGRU_structure.png\".format(MODEL_STRUCTURE_PATH)\n",
    ")\n"
   ],
   "metadata": {
    "pycharm": {
     "name": "#%%\n"
    },
    "colab": {
     "base_uri": "https://localhost:8080/",
     "height": 1000
    },
    "id": "XIx288r_1SLD",
    "executionInfo": {
     "status": "ok",
     "timestamp": 1640423129448,
     "user_tz": -480,
     "elapsed": 54676,
     "user": {
      "displayName": "Wilson Lee",
      "photoUrl": "https://lh3.googleusercontent.com/a/default-user=s64",
      "userId": "12240555497150083704"
     }
    },
    "outputId": "5d1cb718-b3b8-4bd4-aaee-ebbf7e2b2d49"
   }
  },
  {
   "cell_type": "markdown",
   "source": [
    "### Model training\n",
    "##### Train BGRU model for Hong Kong Stocks"
   ],
   "metadata": {
    "collapsed": false,
    "pycharm": {
     "name": "#%% md\n"
    },
    "id": "w6CCBHiy1SLE"
   }
  },
  {
   "cell_type": "code",
   "execution_count": 33,
   "outputs": [],
   "source": [
    "create_dir_if_not_exist(HK_MODELS_CHECKPOINT_PATH)\n",
    "create_dir_if_not_exist(US_MODELS_CHECKPOINT_PATH)"
   ],
   "metadata": {
    "pycharm": {
     "name": "#%%\n"
    },
    "id": "evmc45Zu1SLE",
    "executionInfo": {
     "status": "ok",
     "timestamp": 1640423133282,
     "user_tz": -480,
     "elapsed": 273,
     "user": {
      "displayName": "Wilson Lee",
      "photoUrl": "https://lh3.googleusercontent.com/a/default-user=s64",
      "userId": "12240555497150083704"
     }
    }
   }
  },
  {
   "cell_type": "code",
   "execution_count": 34,
   "outputs": [
    {
     "output_type": "stream",
     "name": "stdout",
     "text": [
      "No existing model is found\n",
      "Model: \"sequential_8\"\n",
      "_________________________________________________________________\n",
      " Layer (type)                Output Shape              Param #   \n",
      "=================================================================\n",
      " bidirectional_16 (Bidirecti  (None, 30, 100)          18300     \n",
      " onal)                                                           \n",
      "                                                                 \n",
      " dropout_10 (Dropout)        (None, 30, 100)           0         \n",
      "                                                                 \n",
      " bidirectional_17 (Bidirecti  (None, 100)              45600     \n",
      " onal)                                                           \n",
      "                                                                 \n",
      " dropout_11 (Dropout)        (None, 100)               0         \n",
      "                                                                 \n",
      " dense_11 (Dense)            (None, 1)                 101       \n",
      "                                                                 \n",
      "=================================================================\n",
      "Total params: 64,001\n",
      "Trainable params: 64,001\n",
      "Non-trainable params: 0\n",
      "_________________________________________________________________\n",
      "None\n",
      "Epoch 1/100\n",
      "2982/2982 [==============================] - ETA: 0s - loss: 0.0614 - ar: 0.1406 - mean_absolute_error: 0.1893 - root_mean_squared_error: 0.2477 - mean_absolute_percentage_error: 347.3151\n",
      "Epoch 00001: val_loss improved from inf to 0.65611, saving model to ./model/hk/bgru.h5\n",
      "2982/2982 [==============================] - 230s 74ms/step - loss: 0.0614 - ar: 0.1406 - mean_absolute_error: 0.1893 - root_mean_squared_error: 0.2477 - mean_absolute_percentage_error: 347.3151 - val_loss: 0.6561 - val_ar: 1.1986e-04 - val_mean_absolute_error: 0.7145 - val_root_mean_squared_error: 0.8100 - val_mean_absolute_percentage_error: 356.7331\n",
      "Epoch 2/100\n",
      "2982/2982 [==============================] - ETA: 0s - loss: 0.0474 - ar: 0.1476 - mean_absolute_error: 0.1628 - root_mean_squared_error: 0.2178 - mean_absolute_percentage_error: 310.7605\n",
      "Epoch 00002: val_loss improved from 0.65611 to 0.60312, saving model to ./model/hk/bgru.h5\n",
      "2982/2982 [==============================] - 236s 79ms/step - loss: 0.0474 - ar: 0.1476 - mean_absolute_error: 0.1628 - root_mean_squared_error: 0.2178 - mean_absolute_percentage_error: 310.7605 - val_loss: 0.6031 - val_ar: 1.2731e-04 - val_mean_absolute_error: 0.6815 - val_root_mean_squared_error: 0.7766 - val_mean_absolute_percentage_error: 352.6108\n",
      "Epoch 3/100\n",
      "2982/2982 [==============================] - ETA: 0s - loss: 0.0445 - ar: 0.1495 - mean_absolute_error: 0.1570 - root_mean_squared_error: 0.2110 - mean_absolute_percentage_error: 305.1012\n",
      "Epoch 00003: val_loss improved from 0.60312 to 0.58852, saving model to ./model/hk/bgru.h5\n",
      "2982/2982 [==============================] - 202s 68ms/step - loss: 0.0445 - ar: 0.1495 - mean_absolute_error: 0.1570 - root_mean_squared_error: 0.2110 - mean_absolute_percentage_error: 305.1012 - val_loss: 0.5885 - val_ar: 1.3700e-04 - val_mean_absolute_error: 0.6673 - val_root_mean_squared_error: 0.7671 - val_mean_absolute_percentage_error: 340.8255\n",
      "Epoch 4/100\n",
      "2982/2982 [==============================] - ETA: 0s - loss: 0.0427 - ar: 0.1505 - mean_absolute_error: 0.1527 - root_mean_squared_error: 0.2068 - mean_absolute_percentage_error: 294.9715\n",
      "Epoch 00004: val_loss improved from 0.58852 to 0.53072, saving model to ./model/hk/bgru.h5\n",
      "2982/2982 [==============================] - 201s 68ms/step - loss: 0.0427 - ar: 0.1505 - mean_absolute_error: 0.1527 - root_mean_squared_error: 0.2068 - mean_absolute_percentage_error: 294.9715 - val_loss: 0.5307 - val_ar: 1.8373e-04 - val_mean_absolute_error: 0.6251 - val_root_mean_squared_error: 0.7285 - val_mean_absolute_percentage_error: 307.0856\n",
      "Epoch 5/100\n",
      "2982/2982 [==============================] - ETA: 0s - loss: 0.0414 - ar: 0.1507 - mean_absolute_error: 0.1496 - root_mean_squared_error: 0.2035 - mean_absolute_percentage_error: 290.8421\n",
      "Epoch 00005: val_loss did not improve from 0.53072\n",
      "2982/2982 [==============================] - 201s 67ms/step - loss: 0.0414 - ar: 0.1507 - mean_absolute_error: 0.1496 - root_mean_squared_error: 0.2035 - mean_absolute_percentage_error: 290.8421 - val_loss: 0.5470 - val_ar: 2.0548e-04 - val_mean_absolute_error: 0.6322 - val_root_mean_squared_error: 0.7396 - val_mean_absolute_percentage_error: 315.1107\n",
      "Epoch 6/100\n",
      "2982/2982 [==============================] - ETA: 0s - loss: 0.0403 - ar: 0.1507 - mean_absolute_error: 0.1469 - root_mean_squared_error: 0.2007 - mean_absolute_percentage_error: 287.3918\n",
      "Epoch 00006: val_loss did not improve from 0.53072\n",
      "2982/2982 [==============================] - 197s 66ms/step - loss: 0.0403 - ar: 0.1507 - mean_absolute_error: 0.1469 - root_mean_squared_error: 0.2007 - mean_absolute_percentage_error: 287.3918 - val_loss: 0.5378 - val_ar: 1.9583e-04 - val_mean_absolute_error: 0.6282 - val_root_mean_squared_error: 0.7334 - val_mean_absolute_percentage_error: 307.2582\n",
      "Epoch 7/100\n",
      "2981/2982 [============================>.] - ETA: 0s - loss: 0.0391 - ar: 0.1514 - mean_absolute_error: 0.1444 - root_mean_squared_error: 0.1977 - mean_absolute_percentage_error: 280.5084\n",
      "Epoch 00007: val_loss improved from 0.53072 to 0.50469, saving model to ./model/hk/bgru.h5\n",
      "2982/2982 [==============================] - 198s 66ms/step - loss: 0.0391 - ar: 0.1514 - mean_absolute_error: 0.1444 - root_mean_squared_error: 0.1977 - mean_absolute_percentage_error: 280.4858 - val_loss: 0.5047 - val_ar: 2.4978e-04 - val_mean_absolute_error: 0.5956 - val_root_mean_squared_error: 0.7104 - val_mean_absolute_percentage_error: 286.0510\n",
      "Epoch 8/100\n",
      "2982/2982 [==============================] - ETA: 0s - loss: 0.0381 - ar: 0.1525 - mean_absolute_error: 0.1426 - root_mean_squared_error: 0.1952 - mean_absolute_percentage_error: 279.8752\n",
      "Epoch 00008: val_loss improved from 0.50469 to 0.46935, saving model to ./model/hk/bgru.h5\n",
      "2982/2982 [==============================] - 197s 66ms/step - loss: 0.0381 - ar: 0.1525 - mean_absolute_error: 0.1426 - root_mean_squared_error: 0.1952 - mean_absolute_percentage_error: 279.8752 - val_loss: 0.4693 - val_ar: 3.3508e-04 - val_mean_absolute_error: 0.5638 - val_root_mean_squared_error: 0.6851 - val_mean_absolute_percentage_error: 263.1133\n",
      "Epoch 9/100\n",
      "2982/2982 [==============================] - ETA: 0s - loss: 0.0368 - ar: 0.1525 - mean_absolute_error: 0.1400 - root_mean_squared_error: 0.1918 - mean_absolute_percentage_error: 274.2684\n",
      "Epoch 00009: val_loss did not improve from 0.46935\n",
      "2982/2982 [==============================] - 193s 65ms/step - loss: 0.0368 - ar: 0.1525 - mean_absolute_error: 0.1400 - root_mean_squared_error: 0.1918 - mean_absolute_percentage_error: 274.2684 - val_loss: 0.4762 - val_ar: 3.4321e-04 - val_mean_absolute_error: 0.5637 - val_root_mean_squared_error: 0.6901 - val_mean_absolute_percentage_error: 260.0941\n",
      "Epoch 10/100\n",
      "2982/2982 [==============================] - ETA: 0s - loss: 0.0358 - ar: 0.1530 - mean_absolute_error: 0.1379 - root_mean_squared_error: 0.1891 - mean_absolute_percentage_error: 269.7393\n",
      "Epoch 00010: val_loss did not improve from 0.46935\n",
      "2982/2982 [==============================] - 196s 66ms/step - loss: 0.0358 - ar: 0.1530 - mean_absolute_error: 0.1379 - root_mean_squared_error: 0.1891 - mean_absolute_percentage_error: 269.7393 - val_loss: 0.4796 - val_ar: 3.5393e-04 - val_mean_absolute_error: 0.5594 - val_root_mean_squared_error: 0.6925 - val_mean_absolute_percentage_error: 252.9445\n",
      "Epoch 11/100\n",
      "2982/2982 [==============================] - ETA: 0s - loss: 0.0352 - ar: 0.1540 - mean_absolute_error: 0.1368 - root_mean_squared_error: 0.1877 - mean_absolute_percentage_error: 268.7202\n",
      "Epoch 00011: val_loss did not improve from 0.46935\n",
      "2982/2982 [==============================] - 198s 66ms/step - loss: 0.0352 - ar: 0.1540 - mean_absolute_error: 0.1368 - root_mean_squared_error: 0.1877 - mean_absolute_percentage_error: 268.7202 - val_loss: 0.5576 - val_ar: 2.5872e-04 - val_mean_absolute_error: 0.6204 - val_root_mean_squared_error: 0.7467 - val_mean_absolute_percentage_error: 296.2151\n",
      "Epoch 12/100\n",
      "2982/2982 [==============================] - ETA: 0s - loss: 0.0347 - ar: 0.1541 - mean_absolute_error: 0.1360 - root_mean_squared_error: 0.1864 - mean_absolute_percentage_error: 266.5140\n",
      "Epoch 00012: val_loss did not improve from 0.46935\n",
      "2982/2982 [==============================] - 194s 65ms/step - loss: 0.0347 - ar: 0.1541 - mean_absolute_error: 0.1360 - root_mean_squared_error: 0.1864 - mean_absolute_percentage_error: 266.5140 - val_loss: 0.5129 - val_ar: 3.4382e-04 - val_mean_absolute_error: 0.5851 - val_root_mean_squared_error: 0.7162 - val_mean_absolute_percentage_error: 273.5526\n",
      "Epoch 13/100\n",
      "2982/2982 [==============================] - ETA: 0s - loss: 0.0337 - ar: 0.1544 - mean_absolute_error: 0.1340 - root_mean_squared_error: 0.1837 - mean_absolute_percentage_error: 264.1457\n",
      "Epoch 00013: val_loss did not improve from 0.46935\n",
      "2982/2982 [==============================] - 198s 67ms/step - loss: 0.0337 - ar: 0.1544 - mean_absolute_error: 0.1340 - root_mean_squared_error: 0.1837 - mean_absolute_percentage_error: 264.1457 - val_loss: 0.5129 - val_ar: 3.6546e-04 - val_mean_absolute_error: 0.5712 - val_root_mean_squared_error: 0.7162 - val_mean_absolute_percentage_error: 268.9859\n"
     ]
    }
   ],
   "source": [
    "hk_bgru_cp = ModelCheckpoint(\n",
    "    filepath=hk_bgru_file_path,\n",
    "    monitor=\"val_loss\",\n",
    "    save_best_only=True,\n",
    "    verbose=1,\n",
    "    mode=\"auto\"\n",
    ")\n",
    "\n",
    "hk_bgru_es = EarlyStopping(\n",
    "    monitor=\"val_loss\",\n",
    "    patience=5\n",
    ")\n",
    "\n",
    "hk_bgru_model = None\n",
    "# check if we have previously trained model or not, ref: https://stackoverflow.com/a/56425146/9500852\n",
    "if os.path.exists(hk_bgru_file_path):\n",
    "    print(\"Found existing model\")\n",
    "    hk_bgru_model = load_model(hk_bgru_file_path)\n",
    "    score = hk_bgru_model.evaluate()\n",
    "else:\n",
    "    print(\"No existing model is found\")\n",
    "    hk_bgru_model = make_bgru_model(\n",
    "        input_dim=X_train_hk.shape[1],\n",
    "        feature_cnt=X_train_hk.shape[2]\n",
    "    )\n",
    "\n",
    "# start fitting the model\n",
    "hk_bgru_history = hk_bgru_model.fit(\n",
    "    x=X_train_hk,\n",
    "    y=y_train_hk,\n",
    "    validation_data=(X_test_hk, y_test_hk),\n",
    "    epochs=TRAIN_EPOCHS,\n",
    "    callbacks=[\n",
    "        hk_bgru_cp,\n",
    "        hk_bgru_es\n",
    "    ]\n",
    ")\n",
    "\n",
    "# save the model\n",
    "hk_bgru_model.save(hk_bgru_file_path)\n"
   ],
   "metadata": {
    "pycharm": {
     "name": "#%%\n"
    },
    "colab": {
     "base_uri": "https://localhost:8080/"
    },
    "id": "nAFMa-Tb1SLE",
    "executionInfo": {
     "status": "ok",
     "timestamp": 1640425780971,
     "user_tz": -480,
     "elapsed": 64036,
     "user": {
      "displayName": "Wilson Lee",
      "photoUrl": "https://lh3.googleusercontent.com/a/default-user=s64",
      "userId": "12240555497150083704"
     }
    },
    "outputId": "73cc37fb-35e5-4d17-ca5d-a804b9fe2668"
   }
  },
  {
   "cell_type": "markdown",
   "source": [
    "##### Train BGRU model for United States stocks\n"
   ],
   "metadata": {
    "collapsed": false,
    "pycharm": {
     "name": "#%% md\n"
    },
    "id": "N7W6dbbd1SLF"
   }
  },
  {
   "cell_type": "code",
   "execution_count": null,
   "outputs": [],
   "source": [
    ""
   ],
   "metadata": {
    "pycharm": {
     "name": "#%%\n"
    },
    "id": "-Wre7tX41SLF"
   }
  }
 ],
 "metadata": {
  "kernelspec": {
   "display_name": "Python 3",
   "language": "python",
   "name": "python3"
  },
  "language_info": {
   "codemirror_mode": {
    "name": "ipython",
    "version": 2
   },
   "file_extension": ".py",
   "mimetype": "text/x-python",
   "name": "python",
   "nbconvert_exporter": "python",
   "pygments_lexer": "ipython2",
   "version": "2.7.6"
  },
  "colab": {
   "name": "3.1. Model Training - BGRU.ipynb",
   "provenance": []
  }
 },
 "nbformat": 4,
 "nbformat_minor": 0
}