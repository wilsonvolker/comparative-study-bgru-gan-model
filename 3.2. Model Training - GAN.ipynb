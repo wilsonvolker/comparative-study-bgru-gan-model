{
 "cells": [
  {
   "cell_type": "markdown",
   "source": [
    "# Model Training\n",
    "Train GAN models for HK and US stock market, repectively"
   ],
   "metadata": {
    "collapsed": false
   }
  },
  {
   "cell_type": "code",
   "execution_count": 3,
   "outputs": [],
   "source": [
    "import os\n",
    "import numpy as np\n",
    "import pandas as pd\n",
    "import matplotlib.pyplot as plt\n",
    "%matplotlib inline\n",
    "import tensorflow as tf\n",
    "from tensorflow.keras.models import Sequential, load_model\n",
    "from tensorflow.keras.layers import Input, Dense, Dropout\n",
    "from tensorflow.keras.layers import LSTM\n",
    "from tensorflow.keras.optimizers import Adam\n",
    "from keras.utils.vis_utils import plot_model\n",
    "from keras.metrics import Accuracy, MeanSquaredError, MeanAbsoluteError, RootMeanSquaredError, MeanAbsolutePercentageError\n",
    "from keras.callbacks import ModelCheckpoint, EarlyStopping\n"
   ],
   "metadata": {
    "collapsed": false,
    "pycharm": {
     "name": "#%%\n"
    }
   }
  },
  {
   "cell_type": "markdown",
   "source": [
    "### Common variables and functions"
   ],
   "metadata": {
    "collapsed": false,
    "pycharm": {
     "name": "#%% md\n"
    }
   }
  },
  {
   "cell_type": "code",
   "execution_count": 4,
   "outputs": [],
   "source": [
    "MODEL_STRUCTURE_PATH = \"./diagrams/model_structures\"\n",
    "MODEL_TRAIN_HISTORY_DIAGRAMS_PATH = \"./diagrams/model/training\"\n",
    "# PROCESSED_STOCKS_PATH = \"./data/processed\"\n",
    "TRAINING_STOCKS_PATH = \"./data/processed/training_data\"\n",
    "EVALUATE_STOCKS_PATH = \"./data/processed/stocks_for_evaluate\"\n",
    "TRAIN_STOCK_NAMES_PATH = \"./data/processed/stock_names_for_training\"\n",
    "\n",
    "# stocks model checkpoint paths\n",
    "HK_MODELS_CHECKPOINT_PATH = \"./model/hk\"\n",
    "US_MODELS_CHECKPOINT_PATH = \"./model/us\"\n",
    "\n",
    "hk_gan_file_path = \"{}/gan.h5\".format(HK_MODELS_CHECKPOINT_PATH)\n",
    "hk_gan_train_history_file_path = \"{}/gan_history/gan_training_history.npy\".format(HK_MODELS_CHECKPOINT_PATH)\n",
    "\n",
    "us_gan_file_path = \"{}/gan.h5\".format(US_MODELS_CHECKPOINT_PATH)\n",
    "us_gan_train_history_file_path = \"{}/gan_history/gan_training_history.npy\".format(US_MODELS_CHECKPOINT_PATH)\n",
    "\n",
    "TRAIN_EPOCHS = 100\n",
    "time_lag = 30 # days (aka time steps/step size)\n",
    "\n",
    "def create_dir_if_not_exist(dirname):\n",
    "    if not os.path.exists(dirname):\n",
    "        os.makedirs(dirname, exist_ok=True)"
   ],
   "metadata": {
    "collapsed": false,
    "pycharm": {
     "name": "#%%\n"
    }
   }
  },
  {
   "cell_type": "markdown",
   "source": [
    "### Import datasets"
   ],
   "metadata": {
    "collapsed": false
   }
  },
  {
   "cell_type": "code",
   "execution_count": 5,
   "outputs": [],
   "source": [
    "# stock names\n",
    "template_filename_train_x = \"{}/{}_train_X.npy\"\n",
    "template_filename_train_y = \"{}/{}_train_y.npy\"\n",
    "\n",
    "template_filename_test_x = \"{}/{}_test_X.npy\"\n",
    "template_filename_test_y = \"{}/{}_test_y.npy\"\n",
    "\n",
    "fns_hk = np.load(\"{}/hk_train_stock_names.npy\".format(TRAIN_STOCK_NAMES_PATH))\n",
    "fns_us = np.load(\"{}/us_train_stock_names.npy\".format(TRAIN_STOCK_NAMES_PATH))\n",
    "\n",
    "X_train_hk = {}\n",
    "y_train_hk = {}\n",
    "X_test_hk = {}\n",
    "y_test_hk = {}\n",
    "for i in range(len(fns_hk)):\n",
    "    X_train_hk[fns_hk[i]] = np.load(template_filename_train_x.format(\n",
    "        TRAINING_STOCKS_PATH,\n",
    "        fns_hk[i]\n",
    "    ))\n",
    "\n",
    "    y_train_hk[fns_hk[i]] = np.load(template_filename_train_y.format(\n",
    "        TRAINING_STOCKS_PATH,\n",
    "        fns_hk[i]\n",
    "    ))\n",
    "\n",
    "    X_test_hk[fns_hk[i]] = np.load(template_filename_test_x.format(\n",
    "        TRAINING_STOCKS_PATH,\n",
    "        fns_hk[i]\n",
    "    ))\n",
    "\n",
    "    y_test_hk[fns_hk[i]] = np.load(template_filename_test_y.format(\n",
    "        TRAINING_STOCKS_PATH,\n",
    "        fns_hk[i]\n",
    "    ))\n",
    "\n",
    "X_train_us = {}\n",
    "y_train_us = {}\n",
    "X_test_us = {}\n",
    "y_test_us = {}\n",
    "for i in range(len(fns_us)):\n",
    "    X_train_us[fns_us[i]] = np.load(template_filename_train_x.format(\n",
    "        TRAINING_STOCKS_PATH,\n",
    "        fns_us[i]\n",
    "    ))\n",
    "\n",
    "    y_train_us[fns_us[i]] = np.load(template_filename_train_y.format(\n",
    "        TRAINING_STOCKS_PATH,\n",
    "        fns_us[i]\n",
    "    ))\n",
    "\n",
    "    X_test_us[fns_us[i]] = np.load(template_filename_test_x.format(\n",
    "        TRAINING_STOCKS_PATH,\n",
    "        fns_us[i]\n",
    "    ))\n",
    "\n",
    "    y_test_us[fns_us[i]] = np.load(template_filename_test_y.format(\n",
    "        TRAINING_STOCKS_PATH,\n",
    "        fns_us[i]\n",
    "    ))\n",
    "\n",
    "# Check the imports, minus the one stock that used to test generalizability\n",
    "assert len(X_train_hk) == 49\n",
    "assert len(y_train_hk) == 49\n",
    "assert len(X_test_hk) == 49\n",
    "assert len(X_test_hk) == 49\n",
    "\n",
    "assert len(X_train_us) == 49\n",
    "assert len(y_train_us) == 49\n",
    "assert len(X_test_us) == 49\n",
    "assert len(X_test_us) == 49\n",
    "\n"
   ],
   "metadata": {
    "collapsed": false,
    "pycharm": {
     "name": "#%%\n"
    }
   }
  },
  {
   "cell_type": "markdown",
   "source": [
    "### Define models structure\n",
    "##### GAN models\n",
    "###### Reference:\n",
    "```\n",
    "Salimath, S., Chatterjee, T., Mathai, T., Kamble, P., & Kolhekar, M. (2021, April). Prediction of Stock Price for Indian Stock Market: A Comparative Study Using LSTM and GRU. In International Conference on Advances in Computing and Data Sciences (pp. 292-302). Springer, Cham.\n",
    "Lin, H., Chen, C., Huang, G., & Jafari, A. (2021). Stock price prediction using Generative Adversarial Networks. Journal of Computer Science, (17(3), 188–196. doi:10.3844/jcssp.2021.188.196\n",
    "https://github.com/grudloff/stock_market_GAN\n",
    "https://github.com/yiweizhang526/time-series-prediction-with-gan\n",
    "Train with multiple stocks: https://www.kaggle.com/humamfauzi/multiple-stock-prediction-using-single-nn\n",
    "```"
   ],
   "metadata": {
    "collapsed": false
   }
  },
  {
   "cell_type": "markdown",
   "source": [
    "###### GAN - Generator"
   ],
   "metadata": {
    "collapsed": false,
    "pycharm": {
     "name": "#%% md\n"
    }
   }
  },
  {
   "cell_type": "code",
   "execution_count": 6,
   "outputs": [],
   "source": [
    "def make_generator(input_dim, feature_cnt) -> tf.keras.models.Model:\n",
    "    model = Sequential()\n",
    "\n",
    "    # Input layer\n",
    "    model.add(\n",
    "        Input(\n",
    "            shape=(input_dim, feature_cnt)\n",
    "        )\n",
    "    )\n",
    "\n",
    "    # First layer LSTM + dropout layer\n",
    "    model.add(\n",
    "        LSTM(\n",
    "            units=128,\n",
    "            return_sequences=True,\n",
    "            activation=\"tanh\",\n",
    "            input_shape=(input_dim, feature_cnt)\n",
    "        )\n",
    "    )\n",
    "    model.add(\n",
    "        Dropout(rate=0.3)\n",
    "    )\n",
    "\n",
    "    # Second layer LSTM + dropout layer\n",
    "    model.add(\n",
    "        LSTM(\n",
    "            units=128,\n",
    "            return_sequences=False,\n",
    "            activation=\"tanh\",\n",
    "            input_shape=(input_dim, feature_cnt)\n",
    "        )\n",
    "    )\n",
    "    model.add(\n",
    "        Dropout(rate=0.5)\n",
    "    )\n",
    "\n",
    "    # Output dense layer with relu\n",
    "    model.add(\n",
    "        Dense(\n",
    "            units=1,\n",
    "            activation=\"relu\",\n",
    "        )\n",
    "    )\n",
    "\n",
    "    # compile model and use Adam optimizer\n",
    "    model.compile(\n",
    "        optimizer=Adam(learning_rate=0.0001),\n",
    "        loss=None,\n",
    "        metrics=[\n",
    "            MeanSquaredError(),\n",
    "            MeanAbsoluteError(),\n",
    "            RootMeanSquaredError(),\n",
    "            MeanAbsolutePercentageError()\n",
    "        ]\n",
    "    )\n",
    "\n",
    "    print(model.summary())\n",
    "    return model\n"
   ],
   "metadata": {
    "collapsed": false,
    "pycharm": {
     "name": "#%%\n"
    }
   }
  },
  {
   "cell_type": "markdown",
   "source": [
    "###### GAN - Discriminator"
   ],
   "metadata": {
    "collapsed": false,
    "pycharm": {
     "name": "#%% md\n"
    }
   }
  },
  {
   "cell_type": "code",
   "execution_count": 6,
   "outputs": [],
   "source": [
    "def make_discriminator(input_dim, feature_cnt) -> tf.keras.models.Model:\n",
    "    model = Sequential()\n",
    "    model.add(\n",
    "        Input(\n",
    "            shape=(time_lag + 1, 1) # https://github.com/yiweizhang526/time-series-prediction-with-gan/blob/d09e5eecca8e85beeea88bf331d35cfc7614a223/keras_code/keras_GAN.py#L82\n",
    "        )\n",
    "    )\n",
    "    model.add(\n",
    "\n",
    "    )"
   ],
   "metadata": {
    "collapsed": false,
    "pycharm": {
     "name": "#%%\n"
    }
   }
  },
  {
   "cell_type": "code",
   "execution_count": 7,
   "outputs": [
    {
     "name": "stdout",
     "output_type": "stream",
     "text": [
      "Model: \"sequential\"\n",
      "_________________________________________________________________\n",
      "Layer (type)                 Output Shape              Param #   \n",
      "=================================================================\n",
      "lstm (LSTM)                  (None, 30, 128)           70656     \n",
      "_________________________________________________________________\n",
      "dropout (Dropout)            (None, 30, 128)           0         \n",
      "_________________________________________________________________\n",
      "lstm_1 (LSTM)                (None, 128)               131584    \n",
      "_________________________________________________________________\n",
      "dropout_1 (Dropout)          (None, 128)               0         \n",
      "_________________________________________________________________\n",
      "dense (Dense)                (None, 1)                 129       \n",
      "=================================================================\n",
      "Total params: 202,369\n",
      "Trainable params: 202,369\n",
      "Non-trainable params: 0\n",
      "_________________________________________________________________\n",
      "None\n"
     ]
    },
    {
     "data": {
      "image/png": "[encoded data removed]",
      "text/plain": "<IPython.core.display.Image object>"
     },
     "execution_count": 7,
     "metadata": {},
     "output_type": "execute_result"
    }
   ],
   "source": [
    "# plot model structure (Generator)\n",
    "create_dir_if_not_exist(MODEL_STRUCTURE_PATH)\n",
    "plot_model(\n",
    "    make_generator(input_dim=X_train_hk[fns_hk[0]].shape[1],\n",
    "                    feature_cnt=X_train_hk[fns_hk[0]].shape[2]\n",
    "                    ),\n",
    "    show_shapes=True,\n",
    "    show_layer_names=True,\n",
    "    to_file=\"{}/GAN_generator_structure.png\".format(MODEL_STRUCTURE_PATH)\n",
    ")"
   ],
   "metadata": {
    "collapsed": false,
    "pycharm": {
     "name": "#%%\n"
    }
   }
  },
  {
   "cell_type": "code",
   "execution_count": null,
   "outputs": [],
   "source": [
    "# plot model structure (Discriminator)\n",
    "create_dir_if_not_exist(MODEL_STRUCTURE_PATH)\n",
    "plot_model(\n",
    "    make_discriminator(input_dim=X_train_hk[fns_hk[0]].shape[1],\n",
    "                    feature_cnt=X_train_hk[fns_hk[0]].shape[2]\n",
    "                    ),\n",
    "    show_shapes=True,\n",
    "    show_layer_names=True,\n",
    "    to_file=\"{}/GAN_generator_structure.png\".format(MODEL_STRUCTURE_PATH)\n",
    ")"
   ],
   "metadata": {
    "collapsed": false,
    "pycharm": {
     "name": "#%%\n"
    }
   }
  },
  {
   "cell_type": "markdown",
   "source": [
    "### Model training\n",
    "##### Train BGRU model for Hong Kong Stocks"
   ],
   "metadata": {
    "collapsed": false
   }
  },
  {
   "cell_type": "code",
   "execution_count": 7,
   "outputs": [],
   "source": [],
   "metadata": {
    "collapsed": false,
    "pycharm": {
     "name": "#%%\n"
    }
   }
  },
  {
   "cell_type": "markdown",
   "source": [
    "##### Train BGRU model for United States stocks"
   ],
   "metadata": {
    "collapsed": false
   }
  },
  {
   "cell_type": "code",
   "execution_count": 7,
   "outputs": [],
   "source": [],
   "metadata": {
    "collapsed": false,
    "pycharm": {
     "name": "#%%\n"
    }
   }
  }
 ],
 "metadata": {
  "kernelspec": {
   "display_name": "Python 3",
   "language": "python",
   "name": "python3"
  },
  "language_info": {
   "codemirror_mode": {
    "name": "ipython",
    "version": 2
   },
   "file_extension": ".py",
   "mimetype": "text/x-python",
   "name": "python",
   "nbconvert_exporter": "python",
   "pygments_lexer": "ipython2",
   "version": "2.7.6"
  }
 },
 "nbformat": 4,
 "nbformat_minor": 0
}