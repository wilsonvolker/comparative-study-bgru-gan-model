{
 "cells": [
  {
   "cell_type": "markdown",
   "source": [
    "#### Setup for Google Colab (Optional)"
   ],
   "metadata": {
    "collapsed": false,
    "id": "OaJWXC2r0cV_"
   }
  },
  {
   "cell_type": "code",
   "execution_count": 14,
   "outputs": [
    {
     "ename": "ModuleNotFoundError",
     "evalue": "No module named 'google.colab'",
     "output_type": "error",
     "traceback": [
      "\u001B[0;31m---------------------------------------------------------------------------\u001B[0m",
      "\u001B[0;31mModuleNotFoundError\u001B[0m                       Traceback (most recent call last)",
      "\u001B[0;32m<ipython-input-14-b80391d2b2cf>\u001B[0m in \u001B[0;36m<module>\u001B[0;34m\u001B[0m\n\u001B[0;32m----> 1\u001B[0;31m \u001B[0;32mfrom\u001B[0m \u001B[0mgoogle\u001B[0m\u001B[0;34m.\u001B[0m\u001B[0mcolab\u001B[0m \u001B[0;32mimport\u001B[0m \u001B[0mdrive\u001B[0m\u001B[0;34m\u001B[0m\u001B[0;34m\u001B[0m\u001B[0m\n\u001B[0m\u001B[1;32m      2\u001B[0m \u001B[0mdrive\u001B[0m\u001B[0;34m.\u001B[0m\u001B[0mmount\u001B[0m\u001B[0;34m(\u001B[0m\u001B[0;34m'/content/drive'\u001B[0m\u001B[0;34m)\u001B[0m\u001B[0;34m\u001B[0m\u001B[0;34m\u001B[0m\u001B[0m\n\u001B[1;32m      3\u001B[0m \u001B[0;34m\u001B[0m\u001B[0m\n",
      "\u001B[0;31mModuleNotFoundError\u001B[0m: No module named 'google.colab'"
     ]
    }
   ],
   "source": [
    "from google.colab import drive\n",
    "drive.mount('/content/drive')"
   ],
   "metadata": {
    "pycharm": {
     "name": "#%%\n"
    },
    "colab": {
     "base_uri": "https://localhost:8080/"
    },
    "id": "d27INgcA0cWA",
    "executionInfo": {
     "status": "ok",
     "timestamp": 1640716601612,
     "user_tz": -480,
     "elapsed": 2695,
     "user": {
      "displayName": "Wilson Lee",
      "photoUrl": "https://lh3.googleusercontent.com/a/default-user=s64",
      "userId": "12240555497150083704"
     }
    },
    "outputId": "9565e41f-e449-449c-f827-76472d75199a"
   }
  },
  {
   "cell_type": "markdown",
   "source": [
    "##### UPDATE IT IF NEEDED"
   ],
   "metadata": {
    "collapsed": false,
    "id": "fQaXDuII0cWB"
   }
  },
  {
   "cell_type": "code",
   "execution_count": null,
   "outputs": [],
   "source": [
    "cd 'drive/MyDrive/Colab Notebooks/comparative-study-bgru-gan-model'"
   ],
   "metadata": {
    "pycharm": {
     "name": "#%%\n"
    },
    "colab": {
     "base_uri": "https://localhost:8080/"
    },
    "id": "kRKbF2U00cWB",
    "executionInfo": {
     "status": "ok",
     "timestamp": 1640716601613,
     "user_tz": -480,
     "elapsed": 10,
     "user": {
      "displayName": "Wilson Lee",
      "photoUrl": "https://lh3.googleusercontent.com/a/default-user=s64",
      "userId": "12240555497150083704"
     }
    },
    "outputId": "e649a51e-632b-4de7-afa6-bb10935b6ed3"
   }
  },
  {
   "cell_type": "code",
   "execution_count": null,
   "outputs": [],
   "source": [
    "ls"
   ],
   "metadata": {
    "pycharm": {
     "name": "#%%\n"
    },
    "colab": {
     "base_uri": "https://localhost:8080/"
    },
    "id": "U-hMC62U0cWB",
    "executionInfo": {
     "status": "ok",
     "timestamp": 1640716601613,
     "user_tz": -480,
     "elapsed": 8,
     "user": {
      "displayName": "Wilson Lee",
      "photoUrl": "https://lh3.googleusercontent.com/a/default-user=s64",
      "userId": "12240555497150083704"
     }
    },
    "outputId": "dde7acea-702a-41bf-b8b6-8751a9a60653"
   }
  },
  {
   "cell_type": "markdown",
   "source": [
    "# Model Training\n",
    "Train GAN models for HK and US stock market, repectively"
   ],
   "metadata": {
    "collapsed": false,
    "id": "IX0N-Z9i0cWC"
   }
  },
  {
   "cell_type": "code",
   "execution_count": 1,
   "outputs": [],
   "source": [
    "import time\n",
    "import os\n",
    "import numpy as np\n",
    "import csv\n",
    "import pandas as pd\n",
    "import matplotlib.pyplot as plt\n",
    "%matplotlib inline\n",
    "import tensorflow as tf\n",
    "from tensorflow.keras.models import Sequential, load_model\n",
    "from tensorflow.keras.layers import Input, Dense, Dropout, BatchNormalization\n",
    "from tensorflow.keras.layers import LSTM, Conv1D, LeakyReLU, Flatten\n",
    "from tensorflow.keras.optimizers import Adam, SGD\n",
    "from keras.utils.vis_utils import plot_model\n",
    "from keras.metrics import Accuracy, MeanSquaredError, MeanAbsoluteError, RootMeanSquaredError, MeanAbsolutePercentageError\n",
    "from keras.losses import binary_crossentropy\n",
    "from keras.callbacks import ModelCheckpoint, EarlyStopping\n"
   ],
   "metadata": {
    "pycharm": {
     "name": "#%%\n"
    },
    "id": "NHo1VIti0cWC",
    "executionInfo": {
     "status": "ok",
     "timestamp": 1640716601613,
     "user_tz": -480,
     "elapsed": 3,
     "user": {
      "displayName": "Wilson Lee",
      "photoUrl": "https://lh3.googleusercontent.com/a/default-user=s64",
      "userId": "12240555497150083704"
     }
    }
   }
  },
  {
   "cell_type": "markdown",
   "source": [
    "### Common variables and functions"
   ],
   "metadata": {
    "collapsed": false,
    "pycharm": {
     "name": "#%% md\n"
    },
    "id": "Mo-n8kUt0cWC"
   }
  },
  {
   "cell_type": "code",
   "execution_count": 2,
   "outputs": [],
   "source": [
    "MODEL_STRUCTURE_PATH = \"./diagrams/model_structures\"\n",
    "MODEL_TRAIN_HISTORY_DIAGRAMS_PATH = \"./diagrams/model/training\"\n",
    "PROCESSED_STOCKS_PATH = \"./data/processed/training_data\"\n",
    "# TRAINING_STOCKS_PATH = \"./data/processed/training_data\"\n",
    "EVALUATE_STOCKS_PATH = \"./data/processed/stocks_for_evaluate\"\n",
    "TRAIN_STOCK_NAMES_PATH = \"./data/processed/stock_names_for_training\"\n",
    "\n",
    "# stocks model checkpoint paths\n",
    "HK_MODELS_CHECKPOINT_PATH = \"./model/hk\"\n",
    "US_MODELS_CHECKPOINT_PATH = \"./model/us\"\n",
    "\n",
    "hk_gan_file_path = \"{}/gan.h5\".format(HK_MODELS_CHECKPOINT_PATH)\n",
    "hk_gan_train_history_file_path = \"{}/gan_training_history.npy\".format(HK_MODELS_CHECKPOINT_PATH)\n",
    "hk_gan_training_checkpoint_file_path = \"{}/gan_ckpts\".format(HK_MODELS_CHECKPOINT_PATH)\n",
    "\n",
    "us_gan_file_path = \"{}/gan.h5\".format(US_MODELS_CHECKPOINT_PATH)\n",
    "us_gan_train_history_file_path = \"{}/gan_training_history.npy\".format(US_MODELS_CHECKPOINT_PATH)\n",
    "us_gan_training_checkpoint_file_path = \"{}/gan_ckpts\".format(US_MODELS_CHECKPOINT_PATH)\n",
    "\n",
    "# BATCH_SIZE = 128 # from Lin et.al (2021)\n",
    "BATCH_SIZE = 1024 # increase the batch size to minimize the training time\n",
    "# TRAIN_EPOCHS = 100\n",
    "TRAIN_EPOCHS = 25 # decrease the epochs to minimise the training time\n",
    "time_lag = 30 # days (aka time steps/step size)\n",
    "CLOSE_PRICE_COLUMN_INDEX = 3 # from Data Processing.ipynb\n",
    "\n",
    "def create_dir_if_not_exist(dirname):\n",
    "    if not os.path.exists(dirname):\n",
    "        os.makedirs(dirname, exist_ok=True)"
   ],
   "metadata": {
    "pycharm": {
     "name": "#%%\n"
    },
    "id": "zA-eX3cb0cWC",
    "executionInfo": {
     "status": "ok",
     "timestamp": 1640716601613,
     "user_tz": -480,
     "elapsed": 3,
     "user": {
      "displayName": "Wilson Lee",
      "photoUrl": "https://lh3.googleusercontent.com/a/default-user=s64",
      "userId": "12240555497150083704"
     }
    }
   }
  },
  {
   "cell_type": "markdown",
   "source": [
    "### Import datasets"
   ],
   "metadata": {
    "collapsed": false,
    "id": "bl_f4U8v0cWC"
   }
  },
  {
   "cell_type": "code",
   "execution_count": 3,
   "outputs": [],
   "source": [
    "# # stock names\n",
    "# template_filename_train_x = \"{}/{}_train_X.npy\"\n",
    "# template_filename_train_y = \"{}/{}_train_y.npy\"\n",
    "#\n",
    "# template_filename_test_x = \"{}/{}_test_X.npy\"\n",
    "# template_filename_test_y = \"{}/{}_test_y.npy\"\n",
    "#\n",
    "# fns_hk = np.load(\"{}/hk_train_stock_names.npy\".format(TRAIN_STOCK_NAMES_PATH))\n",
    "# fns_us = np.load(\"{}/us_train_stock_names.npy\".format(TRAIN_STOCK_NAMES_PATH))\n",
    "#\n",
    "# X_train_hk = {}\n",
    "# y_train_hk = {}\n",
    "# X_test_hk = {}\n",
    "# y_test_hk = {}\n",
    "# for i in range(len(fns_hk)):\n",
    "#     X_train_hk[fns_hk[i]] = np.load(template_filename_train_x.format(\n",
    "#         TRAINING_STOCKS_PATH,\n",
    "#         fns_hk[i]\n",
    "#     ))\n",
    "#\n",
    "#     y_train_hk[fns_hk[i]] = np.load(template_filename_train_y.format(\n",
    "#         TRAINING_STOCKS_PATH,\n",
    "#         fns_hk[i]\n",
    "#     ))\n",
    "#\n",
    "#     X_test_hk[fns_hk[i]] = np.load(template_filename_test_x.format(\n",
    "#         TRAINING_STOCKS_PATH,\n",
    "#         fns_hk[i]\n",
    "#     ))\n",
    "#\n",
    "#     y_test_hk[fns_hk[i]] = np.load(template_filename_test_y.format(\n",
    "#         TRAINING_STOCKS_PATH,\n",
    "#         fns_hk[i]\n",
    "#     ))\n",
    "#\n",
    "# X_train_us = {}\n",
    "# y_train_us = {}\n",
    "# X_test_us = {}\n",
    "# y_test_us = {}\n",
    "# for i in range(len(fns_us)):\n",
    "#     X_train_us[fns_us[i]] = np.load(template_filename_train_x.format(\n",
    "#         TRAINING_STOCKS_PATH,\n",
    "#         fns_us[i]\n",
    "#     ))\n",
    "#\n",
    "#     y_train_us[fns_us[i]] = np.load(template_filename_train_y.format(\n",
    "#         TRAINING_STOCKS_PATH,\n",
    "#         fns_us[i]\n",
    "#     ))\n",
    "#\n",
    "#     X_test_us[fns_us[i]] = np.load(template_filename_test_x.format(\n",
    "#         TRAINING_STOCKS_PATH,\n",
    "#         fns_us[i]\n",
    "#     ))\n",
    "#\n",
    "#     y_test_us[fns_us[i]] = np.load(template_filename_test_y.format(\n",
    "#         TRAINING_STOCKS_PATH,\n",
    "#         fns_us[i]\n",
    "#     ))\n",
    "#\n",
    "# # Check the imports, minus the one stock that used to test generalizability\n",
    "# assert len(X_train_hk) == 49\n",
    "# assert len(y_train_hk) == 49\n",
    "# assert len(X_test_hk) == 49\n",
    "# assert len(X_test_hk) == 49\n",
    "#\n",
    "# assert len(X_train_us) == 49\n",
    "# assert len(y_train_us) == 49\n",
    "# assert len(X_test_us) == 49\n",
    "# assert len(X_test_us) == 49\n",
    "\n",
    "# hk datasets\n",
    "X_train_hk = np.load(\"{}/train_X_hk.npy\".format(PROCESSED_STOCKS_PATH))\n",
    "X_test_hk = np.load(\"{}/test_X_hk.npy\".format(PROCESSED_STOCKS_PATH))\n",
    "y_train_hk = np.load(\"{}/train_y_hk.npy\".format(PROCESSED_STOCKS_PATH))\n",
    "y_test_hk = np.load(\"{}/test_y_hk.npy\".format(PROCESSED_STOCKS_PATH))\n",
    "y_train_gan_hk = np.load(\"{}/train_y_gan_hk.npy\".format(PROCESSED_STOCKS_PATH))\n",
    "y_test_gan_hk = np.load(\"{}/test_y_gan_hk.npy\".format(PROCESSED_STOCKS_PATH))\n",
    "\n",
    "# us datasets\n",
    "X_train_us = np.load(\"{}/train_X_us.npy\".format(PROCESSED_STOCKS_PATH))\n",
    "X_test_us = np.load(\"{}/test_X_us.npy\".format(PROCESSED_STOCKS_PATH))\n",
    "y_train_us = np.load(\"{}/train_y_us.npy\".format(PROCESSED_STOCKS_PATH))\n",
    "y_test_us = np.load(\"{}/test_y_us.npy\".format(PROCESSED_STOCKS_PATH))\n",
    "y_train_gan_us = np.load(\"{}/train_y_gan_us.npy\".format(PROCESSED_STOCKS_PATH))\n",
    "y_test_gan_us = np.load(\"{}/test_y_gan_us.npy\".format(PROCESSED_STOCKS_PATH))\n",
    "\n",
    "# Check the imports\n",
    "assert X_train_hk is not None\n",
    "assert X_test_hk is not None\n",
    "assert y_train_hk is not None\n",
    "assert y_test_hk is not None\n",
    "assert y_train_gan_hk is not None\n",
    "assert y_test_gan_hk is not None\n",
    "\n",
    "assert X_train_us is not None\n",
    "assert X_test_us is not None\n",
    "assert y_train_us is not None\n",
    "assert y_test_us is not None\n",
    "assert y_train_gan_us is not None\n",
    "assert y_test_gan_us is not None"
   ],
   "metadata": {
    "pycharm": {
     "name": "#%%\n"
    },
    "id": "2dDGkYd60cWC",
    "executionInfo": {
     "status": "ok",
     "timestamp": 1640716603034,
     "user_tz": -480,
     "elapsed": 1424,
     "user": {
      "displayName": "Wilson Lee",
      "photoUrl": "https://lh3.googleusercontent.com/a/default-user=s64",
      "userId": "12240555497150083704"
     }
    }
   }
  },
  {
   "cell_type": "markdown",
   "source": [
    "### Define models structure\n",
    "##### GAN models\n",
    "###### Reference:\n",
    "```\n",
    "Zhou, X., Pan, Z., Hu, G., Tang, S., & Zhao, C. (2018). Stock market prediction on high-frequency data using generative adversarial nets. Mathematical Problems in Engineering, 2018.\n",
    "Salimath, S., Chatterjee, T., Mathai, T., Kamble, P., & Kolhekar, M. (2021, April). Prediction of Stock Price for Indian Stock Market: A Comparative Study Using LSTM and GRU. In International Conference on Advances in Computing and Data Sciences (pp. 292-302). Springer, Cham.\n",
    "Lin, H., Chen, C., Huang, G., & Jafari, A. (2021). Stock price prediction using Generative Adversarial Networks. Journal of Computer Science, (17(3), 188–196. doi:10.3844/jcssp.2021.188.196\n",
    "https://github.com/grudloff/stock_market_GAN\n",
    "https://github.com/yiweizhang526/time-series-prediction-with-gan\n",
    "Train with multiple stocks: https://www.kaggle.com/humamfauzi/multiple-stock-prediction-using-single-nn\n",
    "Tensorflow doc: https://www.tensorflow.org/tutorials/generative/dcgan\n",
    "```"
   ],
   "metadata": {
    "collapsed": false,
    "id": "h59y3w7q0cWD"
   }
  },
  {
   "cell_type": "markdown",
   "source": [
    "###### GAN - Generator"
   ],
   "metadata": {
    "collapsed": false,
    "pycharm": {
     "name": "#%% md\n"
    },
    "id": "NfDq_AGj0cWD"
   }
  },
  {
   "cell_type": "code",
   "execution_count": 4,
   "outputs": [],
   "source": [
    "def make_generator(input_dim, feature_cnt) -> tf.keras.models.Model:\n",
    "    # model = Sequential()\n",
    "    #\n",
    "    # # Input layer\n",
    "    # model.add(\n",
    "    #     Input(\n",
    "    #         shape=(input_dim, feature_cnt)\n",
    "    #     )\n",
    "    # )\n",
    "    #\n",
    "    # # First layer LSTM + dropout layer\n",
    "    # model.add(\n",
    "    #     LSTM(\n",
    "    #         units=128,\n",
    "    #         return_sequences=True,\n",
    "    #         activation=\"tanh\",\n",
    "    #         input_shape=(input_dim, feature_cnt)\n",
    "    #     )\n",
    "    # )\n",
    "    # model.add(\n",
    "    #     Dropout(rate=0.3)\n",
    "    # )\n",
    "    #\n",
    "    # # Second layer LSTM + dropout layer\n",
    "    # model.add(\n",
    "    #     LSTM(\n",
    "    #         units=128,\n",
    "    #         return_sequences=False,\n",
    "    #         activation=\"tanh\",\n",
    "    #         input_shape=(input_dim, feature_cnt)\n",
    "    #     )\n",
    "    # )\n",
    "    # model.add(\n",
    "    #     Dropout(rate=0.5)\n",
    "    # )\n",
    "    #\n",
    "    # # Output dense layer with relu\n",
    "    # model.add(\n",
    "    #     Dense(\n",
    "    #         units=1,\n",
    "    #         activation=\"relu\",\n",
    "    #     )\n",
    "    # )\n",
    "    #\n",
    "    # # compile model and use Adam optimizer\n",
    "    # model.compile(\n",
    "    #     optimizer=Adam(learning_rate=0.0001),\n",
    "    #     loss=None,\n",
    "    #     metrics=[\n",
    "    #         MeanSquaredError(),\n",
    "    #         MeanAbsoluteError(),\n",
    "    #         RootMeanSquaredError(),\n",
    "    #         MeanAbsolutePercentageError()\n",
    "    #     ]\n",
    "    # )\n",
    "    #\n",
    "    # print(model.summary())\n",
    "    # return model\n",
    "\n",
    "    model = Sequential()\n",
    "    model.add(LSTM(units=1024, return_sequences = True, input_shape=(input_dim, feature_cnt),\n",
    "                  recurrent_dropout=0.2))\n",
    "    model.add(LSTM(units=512, return_sequences = True, recurrent_dropout=0.2)) # 256, return_sequences = True\n",
    "    model.add(LSTM(units=256, recurrent_dropout=0.2)) #, recurrent_dropout=0.1\n",
    "    # , recurrent_dropout = 0.2\n",
    "    model.add(Dense(128))\n",
    "    # model.add(Dense(128))\n",
    "    model.add(Dense(64))\n",
    "    #model.add(Dense(16))\n",
    "    model.add(Dense(units=1))\n",
    "    return model\n"
   ],
   "metadata": {
    "pycharm": {
     "name": "#%%\n"
    },
    "id": "xiO5hTI_0cWD",
    "executionInfo": {
     "status": "ok",
     "timestamp": 1640716603034,
     "user_tz": -480,
     "elapsed": 5,
     "user": {
      "displayName": "Wilson Lee",
      "photoUrl": "https://lh3.googleusercontent.com/a/default-user=s64",
      "userId": "12240555497150083704"
     }
    }
   }
  },
  {
   "cell_type": "markdown",
   "source": [
    "###### GAN - Discriminator"
   ],
   "metadata": {
    "collapsed": false,
    "pycharm": {
     "name": "#%% md\n"
    },
    "id": "IVrI-T9H0cWE"
   }
  },
  {
   "cell_type": "code",
   "execution_count": 5,
   "outputs": [],
   "source": [
    "def make_discriminator(feature_cnt) -> tf.keras.models.Model:\n",
    "    model = Sequential()\n",
    "\n",
    "    model.add(\n",
    "        Input(\n",
    "            shape=(time_lag + 1, 1) # https://github.com/yiweizhang526/time-series-prediction-with-gan/blob/d09e5eecca8e85beeea88bf331d35cfc7614a223/keras_code/keras_GAN.py#L82\n",
    "            # shape=((time_lag + 1), feature_cnt)\n",
    "        )\n",
    "    )\n",
    "\n",
    "    # 1st cnn\n",
    "    model.add(\n",
    "        Conv1D(32,\n",
    "               input_shape=(time_lag + 1, 1),\n",
    "               # input_shape=((time_lag + 1), feature_cnt),\n",
    "               kernel_size=3,\n",
    "               strides=2,\n",
    "               padding=\"same\",\n",
    "               activation=LeakyReLU(alpha=0.01)\n",
    "        )\n",
    "    )\n",
    "\n",
    "    # 2nd cnn + bn\n",
    "    model.add(\n",
    "        Conv1D(64, kernel_size=5, strides=2, padding=\"same\", activation=LeakyReLU(alpha=0.01))\n",
    "    )\n",
    "    model.add(\n",
    "        BatchNormalization()\n",
    "    )\n",
    "\n",
    "    # 3rd cnn + bn\n",
    "    model.add(\n",
    "        Conv1D(128, kernel_size=5, strides=2, padding=\"same\", activation=LeakyReLU(alpha=0.01))\n",
    "    )\n",
    "    model.add(\n",
    "        BatchNormalization()\n",
    "    )\n",
    "\n",
    "    model.add(\n",
    "        Flatten()\n",
    "    )\n",
    "\n",
    "    model.add(\n",
    "        Dense(128, activation=LeakyReLU(), use_bias=False)\n",
    "    )\n",
    "\n",
    "    model.add(\n",
    "        # Dense(2, activation=\"sigmoid\")\n",
    "        Dense(1, activation=\"sigmoid\")\n",
    "    )\n",
    "\n",
    "    print(model.summary())\n",
    "\n",
    "    return model"
   ],
   "metadata": {
    "pycharm": {
     "name": "#%%\n"
    },
    "id": "feuLp8zG0cWE",
    "executionInfo": {
     "status": "ok",
     "timestamp": 1640716603034,
     "user_tz": -480,
     "elapsed": 4,
     "user": {
      "displayName": "Wilson Lee",
      "photoUrl": "https://lh3.googleusercontent.com/a/default-user=s64",
      "userId": "12240555497150083704"
     }
    }
   }
  },
  {
   "cell_type": "code",
   "execution_count": 6,
   "outputs": [
    {
     "name": "stdout",
     "output_type": "stream",
     "text": [
      "WARNING:tensorflow:Layer lstm will not use cuDNN kernels since it doesn't meet the criteria. It will use a generic GPU kernel as fallback when running on GPU.\n",
      "WARNING:tensorflow:Layer lstm_1 will not use cuDNN kernels since it doesn't meet the criteria. It will use a generic GPU kernel as fallback when running on GPU.\n",
      "WARNING:tensorflow:Layer lstm_2 will not use cuDNN kernels since it doesn't meet the criteria. It will use a generic GPU kernel as fallback when running on GPU.\n"
     ]
    },
    {
     "data": {
      "image/png": "[encoded data removed]",
      "text/plain": "<IPython.core.display.Image object>"
     },
     "execution_count": 6,
     "metadata": {},
     "output_type": "execute_result"
    }
   ],
   "source": [
    "# plot model structure (Generator)\n",
    "create_dir_if_not_exist(MODEL_STRUCTURE_PATH)\n",
    "plot_model(\n",
    "    # make_generator(input_dim=X_train_hk[fns_hk[0]].shape[1],\n",
    "    #                 feature_cnt=X_train_hk[fns_hk[0]].shape[2]\n",
    "    #                 ),\n",
    "    make_generator(input_dim=X_train_hk.shape[1],\n",
    "                    feature_cnt=X_train_hk.shape[2]\n",
    "                    ),\n",
    "    show_shapes=True,\n",
    "    show_layer_names=True,\n",
    "    to_file=\"{}/GAN_generator_structure.png\".format(MODEL_STRUCTURE_PATH)\n",
    ")"
   ],
   "metadata": {
    "pycharm": {
     "name": "#%%\n"
    },
    "colab": {
     "base_uri": "https://localhost:8080/",
     "height": 754
    },
    "id": "7UOSYphQ0cWE",
    "executionInfo": {
     "status": "ok",
     "timestamp": 1640716605975,
     "user_tz": -480,
     "elapsed": 2945,
     "user": {
      "displayName": "Wilson Lee",
      "photoUrl": "https://lh3.googleusercontent.com/a/default-user=s64",
      "userId": "12240555497150083704"
     }
    },
    "outputId": "7bd4f7c8-cab5-4546-abb1-7a3fbdff0043"
   }
  },
  {
   "cell_type": "code",
   "execution_count": 7,
   "outputs": [
    {
     "name": "stdout",
     "output_type": "stream",
     "text": [
      "Model: \"sequential_1\"\n",
      "_________________________________________________________________\n",
      "Layer (type)                 Output Shape              Param #   \n",
      "=================================================================\n",
      "conv1d (Conv1D)              (None, 16, 32)            128       \n",
      "_________________________________________________________________\n",
      "conv1d_1 (Conv1D)            (None, 8, 64)             10304     \n",
      "_________________________________________________________________\n",
      "batch_normalization (BatchNo (None, 8, 64)             256       \n",
      "_________________________________________________________________\n",
      "conv1d_2 (Conv1D)            (None, 4, 128)            41088     \n",
      "_________________________________________________________________\n",
      "batch_normalization_1 (Batch (None, 4, 128)            512       \n",
      "_________________________________________________________________\n",
      "flatten (Flatten)            (None, 512)               0         \n",
      "_________________________________________________________________\n",
      "dense_3 (Dense)              (None, 128)               65536     \n",
      "_________________________________________________________________\n",
      "dense_4 (Dense)              (None, 1)                 129       \n",
      "=================================================================\n",
      "Total params: 117,953\n",
      "Trainable params: 117,569\n",
      "Non-trainable params: 384\n",
      "_________________________________________________________________\n",
      "None\n"
     ]
    },
    {
     "data": {
      "image/png": "[encoded data removed]",
      "text/plain": "<IPython.core.display.Image object>"
     },
     "execution_count": 7,
     "metadata": {},
     "output_type": "execute_result"
    }
   ],
   "source": [
    "# plot model structure (Discriminator)\n",
    "create_dir_if_not_exist(MODEL_STRUCTURE_PATH)\n",
    "plot_model(\n",
    "    make_discriminator(feature_cnt=X_train_hk.shape[2]),\n",
    "    show_shapes=True,\n",
    "    show_layer_names=True,\n",
    "    to_file=\"{}/GAN_generator_structure.png\".format(MODEL_STRUCTURE_PATH)\n",
    ")"
   ],
   "metadata": {
    "pycharm": {
     "name": "#%%\n"
    },
    "colab": {
     "base_uri": "https://localhost:8080/",
     "height": 1000
    },
    "id": "myxMs9Lc0cWE",
    "executionInfo": {
     "status": "ok",
     "timestamp": 1640716605975,
     "user_tz": -480,
     "elapsed": 6,
     "user": {
      "displayName": "Wilson Lee",
      "photoUrl": "https://lh3.googleusercontent.com/a/default-user=s64",
      "userId": "12240555497150083704"
     }
    },
    "outputId": "187a1c66-b38d-46fb-c78b-6b83a296fcc1"
   }
  },
  {
   "cell_type": "markdown",
   "source": [
    "### Model training"
   ],
   "metadata": {
    "collapsed": false,
    "id": "7Anq1VwA0cWE"
   }
  },
  {
   "cell_type": "code",
   "execution_count": 8,
   "outputs": [],
   "source": [
    "create_dir_if_not_exist(HK_MODELS_CHECKPOINT_PATH)\n",
    "create_dir_if_not_exist(US_MODELS_CHECKPOINT_PATH)\n",
    "create_dir_if_not_exist(hk_gan_training_checkpoint_file_path)\n",
    "create_dir_if_not_exist(us_gan_training_checkpoint_file_path)"
   ],
   "metadata": {
    "pycharm": {
     "name": "#%%\n"
    },
    "id": "ZykMtKks0cWE",
    "executionInfo": {
     "status": "ok",
     "timestamp": 1640716605975,
     "user_tz": -480,
     "elapsed": 4,
     "user": {
      "displayName": "Wilson Lee",
      "photoUrl": "https://lh3.googleusercontent.com/a/default-user=s64",
      "userId": "12240555497150083704"
     }
    }
   }
  },
  {
   "cell_type": "code",
   "execution_count": 9,
   "outputs": [],
   "source": [
    "# ref:\n",
    "# Lin, H., Chen, C., Huang, G., & Jafari, A. (2021). Stock price prediction using Generative Adversarial Networks. Journal of Computer Science, (17(3), 188–196. doi:10.3844/jcssp.2021.188.196\n",
    "# github: https://github.com/hungchun-lin/Stock-price-prediction-using-GAN\n",
    "# Tensorflow doc:\n",
    "# https://www.tensorflow.org/tutorials/generative/dcgan\n",
    "class GAN:\n",
    "    def __init__(self,\n",
    "                 generator: tf.keras.models.Model,\n",
    "                 discriminator: tf.keras.models.Model\n",
    "                 ):\n",
    "        self.generator: tf.keras.models.Model = generator\n",
    "        self.discriminator: tf.keras.models.Model = discriminator\n",
    "        self.cross_entropy = tf.keras.losses.BinaryCrossentropy(from_logits=True)\n",
    "        self.generator_optimizer = Adam(0.00016)\n",
    "        # self.generator_optimizer = SGD(0.0004) # from Lin et.al (2016)\n",
    "        self.discriminator_optimizer = Adam(0.00016) \n",
    "        # self.discriminator_optimizer = SGD(0.02) # from Lin et.al (2016)\n",
    "        self.checkpoint = tf.train.Checkpoint(\n",
    "            generator_optimizer=self.generator_optimizer,\n",
    "            discriminator_optimizer=self.discriminator_optimizer,\n",
    "            generator=self.generator,\n",
    "            discriminator=self.discriminator,\n",
    "        )\n",
    "\n",
    "    def generator_loss(self, d_output_fake):\n",
    "        # use tf.ones_like(...) to decrease the forecast error loss in generator\n",
    "        # g_loss = binary_crossentropy(\n",
    "        #     tf.ones_like(d_output_fake),\n",
    "        #     d_output_fake,\n",
    "        #     from_logits=True\n",
    "        # )\n",
    "        g_loss = self.cross_entropy(\n",
    "            tf.ones_like(d_output_fake),\n",
    "            d_output_fake,\n",
    "        )\n",
    "\n",
    "        return g_loss\n",
    "\n",
    "    def discriminator_loss(self, d_output_real, d_output_fake):\n",
    "        # \"Classifying Real Y into class 1 and Fake Y into class 0\",\n",
    "        #   said Zhou et.al. (2018). Stock market prediction on high-frequency data using generative adversarial nets.\n",
    "        # real_loss = binary_crossentropy(\n",
    "        #     tf.ones_like(d_output_real), # to confuse the discriminator\n",
    "        #     d_output_real,\n",
    "        #     from_logits=True\n",
    "        # )\n",
    "        # fake_loss = binary_crossentropy(\n",
    "        #     tf.zeros_like(d_output_fake), # to confuse the discriminator\n",
    "        #     d_output_fake,\n",
    "        #     from_logits=True\n",
    "        # )\n",
    "        real_loss = self.cross_entropy(\n",
    "            tf.ones_like(d_output_real), # to confuse the discriminator\n",
    "            d_output_real,\n",
    "        )\n",
    "        fake_loss = self.cross_entropy(\n",
    "            tf.zeros_like(d_output_fake), # to confuse the discriminator\n",
    "            d_output_fake,\n",
    "        )\n",
    "        d_loss = real_loss + fake_loss\n",
    "        return d_loss\n",
    "\n",
    "    @tf.function # compile the method\n",
    "    def train_step(self, real_x, real_y, real_y_gan):\n",
    "        with tf.GradientTape() as gen_tape, tf.GradientTape() as disc_tape:\n",
    "            # get generated y values\n",
    "            generated_y = self.generator(real_x, training=True)\n",
    "\n",
    "            # reshape the data\n",
    "            real_y_reshaped = tf.reshape(real_y, [real_y.shape[0], real_y.shape[1], 1])\n",
    "            generated_y_reshaped = tf.reshape(generated_y, [generated_y.shape[0], generated_y.shape[1], 1])\n",
    "\n",
    "            # concat the y values data into: y_t-30, y_t-29, y_t-28, ..., y_t-1, ^y_t or y_t\n",
    "            #  where teh y_t-n is from the real data, and the y_t is generated/obtained from LSTM/training data, respectively\n",
    "            d_data_real = tf.concat([real_y_reshaped, real_y_gan], axis=1)\n",
    "            d_data_fake = tf.concat([tf.cast(generated_y_reshaped, tf.float64), real_y_gan], axis=1)\n",
    "\n",
    "            # tf.print(\"d_data_real: {}\".format(d_data_real))\n",
    "\n",
    "            # feed the data into the discriminator, in sequence: 1. real, 2. fake\n",
    "            d_output_real = self.discriminator(d_data_real, training=True)\n",
    "            d_output_fake = self.discriminator(d_data_fake, training=True)\n",
    "\n",
    "            # calc the loss of respective models\n",
    "            g_loss = self.generator_loss(d_output_fake)\n",
    "            d_loss = self.discriminator_loss(d_output_real, d_output_fake)\n",
    "\n",
    "        gradients_of_generator = gen_tape.gradient(g_loss, self.generator.trainable_variables)\n",
    "        gradients_of_discriminator = disc_tape.gradient(d_loss, self.discriminator.trainable_variables)\n",
    "\n",
    "        self.generator_optimizer.apply_gradients(\n",
    "            zip(\n",
    "                gradients_of_generator,\n",
    "                self.generator.trainable_variables\n",
    "            )\n",
    "        )\n",
    "\n",
    "        self.discriminator_optimizer.apply_gradients(\n",
    "            zip(\n",
    "                gradients_of_discriminator,\n",
    "                self.discriminator.trainable_variables\n",
    "            )\n",
    "        )\n",
    "\n",
    "        # tf.print('d_loss: {} - g_loss: {}'.format(d_loss, g_loss))\n",
    "        return real_y, generated_y, {'d_loss': d_loss, 'g_loss': g_loss}\n",
    "\n",
    "    def train(self, real_x, real_y, real_y_gan, model_save_path, checkpoint_save_path):\n",
    "        train_history = {}\n",
    "        train_history[\"d_loss\"] = []\n",
    "        train_history[\"g_loss\"] = []\n",
    "        train_history[\"epoch\"] = []\n",
    "\n",
    "        real_price = []\n",
    "        predicted_price = []\n",
    "\n",
    "        train_dataset = tf.data.Dataset.from_tensor_slices((real_x, real_y, real_y_gan))\n",
    "        train_dataset = train_dataset.batch(BATCH_SIZE)\n",
    "\n",
    "        # restore checkpoints\n",
    "        try:\n",
    "            self.checkpoint.restore(\n",
    "                tf.train.latest_checkpoint(checkpoint_save_path)\n",
    "            )\n",
    "            print(\"Checkpoint found and restored, from {}.\".format(checkpoint_save_path))\n",
    "        except tf.errors.NotFoundError:\n",
    "            print(\"Checkpoint not found, training from stretch.\")\n",
    "\n",
    "        for epoch in range(TRAIN_EPOCHS):\n",
    "            print(\"\\nStart of Epoch {}\".format(epoch + 1))\n",
    "            start_time = time.time()\n",
    "\n",
    "            for step, (x_batch_train, y_batch_train, y_gan_batch_train) in enumerate(train_dataset):\n",
    "\n",
    "                # do train\n",
    "                tmp_real_price, tmp_fake_price, tmp_loss = self.train_step(\n",
    "                    # real_x = real_x,\n",
    "                    # real_y = real_y,\n",
    "                    # real_y_gan = real_y_gan,\n",
    "                    real_x = x_batch_train,\n",
    "                    real_y = y_batch_train,\n",
    "                    real_y_gan = y_gan_batch_train\n",
    "                )\n",
    "\n",
    "                # save to history lists\n",
    "                train_history[\"d_loss\"].append(tmp_loss[\"d_loss\"].numpy()) # use .numpy() to convert from Tensor to numpy nd-array\n",
    "                train_history[\"g_loss\"].append(tmp_loss[\"g_loss\"].numpy())\n",
    "                train_history[\"epoch\"].append(epoch)\n",
    "\n",
    "                # real_price.append(tmp_real_price.numpy())\n",
    "                # predicted_price.append(tmp_fake_price.numpy())\n",
    "\n",
    "                real_price = [] # clear the last price\n",
    "                real_price.append(tmp_real_price.numpy())\n",
    "\n",
    "                predicted_price = []\n",
    "                predicted_price.append(tmp_fake_price.numpy())\n",
    "\n",
    "                if step % 15 == 0:\n",
    "                    print(\"\\nTraining loss (for one batch) at step {}:\".format(\n",
    "                        step,\n",
    "                    ))\n",
    "                    print(\"Discriminator loss: {} - Generator loss: {} -\".format(\n",
    "                        tmp_loss[\"d_loss\"].numpy(),\n",
    "                        tmp_loss[\"g_loss\"].numpy()\n",
    "                    ))\n",
    "                    print(\"Seen so far: {} samples\".format((step + 1) * BATCH_SIZE))\n",
    "\n",
    "                    # Save model per 15 steps\n",
    "                    tf.keras.models.save_model(self.generator, model_save_path)\n",
    "                    self.checkpoint.save(file_prefix=checkpoint_save_path + \"/ckpt-\")\n",
    "                    print(\"Generator model saved.\")\n",
    "\n",
    "            # # Save model per 15 epochs\n",
    "            # if (epoch + 1) % 15 == 0:\n",
    "            #     tf.keras.models.save_model(self.generator, model_save_path)\n",
    "            #     self.checkpoint.save(file_prefix=checkpoint_save_path + \"/ckpt-\")\n",
    "            #     print(\"Generator model saved.\")\n",
    "\n",
    "            end_time = time.time()\n",
    "\n",
    "            print(\"\\nFinished Epoch: {} - {}s\".format(epoch+1, end_time - start_time))\n",
    "            # print(\"Discriminator loss: {} - Generator loss: {} -\".format(\n",
    "            #     tmp_loss[\"d_loss\"].numpy(),\n",
    "            #     tmp_loss[\"g_loss\"].numpy()\n",
    "            # ))\n",
    "            \n",
    "        # Reshape the predicted & real results\n",
    "        predicted_price = np.array(predicted_price)\n",
    "        predicted_price = predicted_price.reshape(\n",
    "            predicted_price.shape[1],\n",
    "            predicted_price.shape[2]\n",
    "        )\n",
    "\n",
    "        real_price = np.array(real_price)\n",
    "        real_price = real_price.reshape(\n",
    "            real_price.shape[1],\n",
    "            real_price.shape[2]\n",
    "        )\n",
    "\n",
    "        return predicted_price, real_price, train_history, self.generator"
   ],
   "metadata": {
    "pycharm": {
     "name": "#%%\n"
    },
    "id": "8ggOQNO30cWE",
    "executionInfo": {
     "status": "ok",
     "timestamp": 1640716605975,
     "user_tz": -480,
     "elapsed": 4,
     "user": {
      "displayName": "Wilson Lee",
      "photoUrl": "https://lh3.googleusercontent.com/a/default-user=s64",
      "userId": "12240555497150083704"
     }
    }
   }
  },
  {
   "cell_type": "markdown",
   "source": [
    "##### Train BGRU model for Hong Kong Stocks"
   ],
   "metadata": {
    "collapsed": false,
    "id": "hwsRJjj50cWF"
   }
  },
  {
   "cell_type": "code",
   "execution_count": 10,
   "outputs": [
    {
     "name": "stdout",
     "output_type": "stream",
     "text": [
      "WARNING:tensorflow:Layer lstm_3 will not use cuDNN kernels since it doesn't meet the criteria. It will use a generic GPU kernel as fallback when running on GPU.\n",
      "WARNING:tensorflow:Layer lstm_4 will not use cuDNN kernels since it doesn't meet the criteria. It will use a generic GPU kernel as fallback when running on GPU.\n",
      "WARNING:tensorflow:Layer lstm_5 will not use cuDNN kernels since it doesn't meet the criteria. It will use a generic GPU kernel as fallback when running on GPU.\n",
      "Model: \"sequential_3\"\n",
      "_________________________________________________________________\n",
      "Layer (type)                 Output Shape              Param #   \n",
      "=================================================================\n",
      "conv1d_3 (Conv1D)            (None, 16, 32)            128       \n",
      "_________________________________________________________________\n",
      "conv1d_4 (Conv1D)            (None, 8, 64)             10304     \n",
      "_________________________________________________________________\n",
      "batch_normalization_2 (Batch (None, 8, 64)             256       \n",
      "_________________________________________________________________\n",
      "conv1d_5 (Conv1D)            (None, 4, 128)            41088     \n",
      "_________________________________________________________________\n",
      "batch_normalization_3 (Batch (None, 4, 128)            512       \n",
      "_________________________________________________________________\n",
      "flatten_1 (Flatten)          (None, 512)               0         \n",
      "_________________________________________________________________\n",
      "dense_8 (Dense)              (None, 128)               65536     \n",
      "_________________________________________________________________\n",
      "dense_9 (Dense)              (None, 1)                 129       \n",
      "=================================================================\n",
      "Total params: 117,953\n",
      "Trainable params: 117,569\n",
      "Non-trainable params: 384\n",
      "_________________________________________________________________\n",
      "None\n",
      "\n",
      "Start of Epoch 1\n"
     ]
    },
    {
     "name": "stderr",
     "output_type": "stream",
     "text": [
      "/Users/wilson/miniforge3/envs/tfenv/lib/python3.9/site-packages/keras/backend.py:4993: UserWarning: \"`binary_crossentropy` received `from_logits=True`, but the `output` argument was produced by a sigmoid or softmax activation and thus does not represent logits. Was this intended?\"\n",
      "  warnings.warn(\n"
     ]
    },
    {
     "name": "stdout",
     "output_type": "stream",
     "text": [
      "Training loss (for one batch) at step 0:\n",
      "Discriminator loss: 1.6919946670532227 - Generator loss: 1.6403881311416626 -\n",
      "Seen so far: 128 samples\n",
      "Training loss (for one batch) at step 128:\n",
      "Discriminator loss: 1.51033353805542 - Generator loss: 0.7996682524681091 -\n",
      "Seen so far: 16512 samples\n",
      "Training loss (for one batch) at step 256:\n",
      "Discriminator loss: 1.2484509944915771 - Generator loss: 0.7203161716461182 -\n",
      "Seen so far: 32896 samples\n",
      "Training loss (for one batch) at step 384:\n",
      "Discriminator loss: 1.4382870197296143 - Generator loss: 0.765015184879303 -\n",
      "Seen so far: 49280 samples\n"
     ]
    },
    {
     "ename": "KeyboardInterrupt",
     "evalue": "",
     "output_type": "error",
     "traceback": [
      "\u001B[0;31m---------------------------------------------------------------------------\u001B[0m",
      "\u001B[0;31mKeyboardInterrupt\u001B[0m                         Traceback (most recent call last)",
      "\u001B[0;32m<ipython-input-10-be9a1785dead>\u001B[0m in \u001B[0;36m<module>\u001B[0;34m\u001B[0m\n\u001B[1;32m     10\u001B[0m \u001B[0;34m\u001B[0m\u001B[0m\n\u001B[1;32m     11\u001B[0m \u001B[0mhk_gan\u001B[0m \u001B[0;34m=\u001B[0m \u001B[0mGAN\u001B[0m\u001B[0;34m(\u001B[0m\u001B[0mgenerator\u001B[0m\u001B[0;34m,\u001B[0m \u001B[0mdiscriminator\u001B[0m\u001B[0;34m)\u001B[0m\u001B[0;34m\u001B[0m\u001B[0;34m\u001B[0m\u001B[0m\n\u001B[0;32m---> 12\u001B[0;31m hk_gan_predicted_y, hk_gan_real_y, hk_gan_history, hk_gan_model = hk_gan.train(\n\u001B[0m\u001B[1;32m     13\u001B[0m     \u001B[0mreal_x\u001B[0m\u001B[0;34m=\u001B[0m\u001B[0mX_train_hk\u001B[0m\u001B[0;34m,\u001B[0m\u001B[0;34m\u001B[0m\u001B[0;34m\u001B[0m\u001B[0m\n\u001B[1;32m     14\u001B[0m     \u001B[0mreal_y\u001B[0m\u001B[0;34m=\u001B[0m\u001B[0my_train_hk\u001B[0m\u001B[0;34m,\u001B[0m\u001B[0;34m\u001B[0m\u001B[0;34m\u001B[0m\u001B[0m\n",
      "\u001B[0;32m<ipython-input-9-6f8ed222b78e>\u001B[0m in \u001B[0;36mtrain\u001B[0;34m(self, real_x, real_y, real_y_gan, model_save_path, checkpoint_save_path)\u001B[0m\n\u001B[1;32m    125\u001B[0m \u001B[0;34m\u001B[0m\u001B[0m\n\u001B[1;32m    126\u001B[0m                 \u001B[0;31m# do train\u001B[0m\u001B[0;34m\u001B[0m\u001B[0;34m\u001B[0m\u001B[0m\n\u001B[0;32m--> 127\u001B[0;31m                 tmp_real_price, tmp_fake_price, tmp_loss = self.train_step(\n\u001B[0m\u001B[1;32m    128\u001B[0m                     \u001B[0;31m# real_x = real_x,\u001B[0m\u001B[0;34m\u001B[0m\u001B[0;34m\u001B[0m\u001B[0m\n\u001B[1;32m    129\u001B[0m                     \u001B[0;31m# real_y = real_y,\u001B[0m\u001B[0;34m\u001B[0m\u001B[0;34m\u001B[0m\u001B[0m\n",
      "\u001B[0;32m~/miniforge3/envs/tfenv/lib/python3.9/site-packages/tensorflow/python/eager/def_function.py\u001B[0m in \u001B[0;36m__call__\u001B[0;34m(self, *args, **kwds)\u001B[0m\n\u001B[1;32m    883\u001B[0m \u001B[0;34m\u001B[0m\u001B[0m\n\u001B[1;32m    884\u001B[0m       \u001B[0;32mwith\u001B[0m \u001B[0mOptionalXlaContext\u001B[0m\u001B[0;34m(\u001B[0m\u001B[0mself\u001B[0m\u001B[0;34m.\u001B[0m\u001B[0m_jit_compile\u001B[0m\u001B[0;34m)\u001B[0m\u001B[0;34m:\u001B[0m\u001B[0;34m\u001B[0m\u001B[0;34m\u001B[0m\u001B[0m\n\u001B[0;32m--> 885\u001B[0;31m         \u001B[0mresult\u001B[0m \u001B[0;34m=\u001B[0m \u001B[0mself\u001B[0m\u001B[0;34m.\u001B[0m\u001B[0m_call\u001B[0m\u001B[0;34m(\u001B[0m\u001B[0;34m*\u001B[0m\u001B[0margs\u001B[0m\u001B[0;34m,\u001B[0m \u001B[0;34m**\u001B[0m\u001B[0mkwds\u001B[0m\u001B[0;34m)\u001B[0m\u001B[0;34m\u001B[0m\u001B[0;34m\u001B[0m\u001B[0m\n\u001B[0m\u001B[1;32m    886\u001B[0m \u001B[0;34m\u001B[0m\u001B[0m\n\u001B[1;32m    887\u001B[0m       \u001B[0mnew_tracing_count\u001B[0m \u001B[0;34m=\u001B[0m \u001B[0mself\u001B[0m\u001B[0;34m.\u001B[0m\u001B[0mexperimental_get_tracing_count\u001B[0m\u001B[0;34m(\u001B[0m\u001B[0;34m)\u001B[0m\u001B[0;34m\u001B[0m\u001B[0;34m\u001B[0m\u001B[0m\n",
      "\u001B[0;32m~/miniforge3/envs/tfenv/lib/python3.9/site-packages/tensorflow/python/eager/def_function.py\u001B[0m in \u001B[0;36m_call\u001B[0;34m(self, *args, **kwds)\u001B[0m\n\u001B[1;32m    915\u001B[0m       \u001B[0;31m# In this case we have created variables on the first call, so we run the\u001B[0m\u001B[0;34m\u001B[0m\u001B[0;34m\u001B[0m\u001B[0m\n\u001B[1;32m    916\u001B[0m       \u001B[0;31m# defunned version which is guaranteed to never create variables.\u001B[0m\u001B[0;34m\u001B[0m\u001B[0;34m\u001B[0m\u001B[0m\n\u001B[0;32m--> 917\u001B[0;31m       \u001B[0;32mreturn\u001B[0m \u001B[0mself\u001B[0m\u001B[0;34m.\u001B[0m\u001B[0m_stateless_fn\u001B[0m\u001B[0;34m(\u001B[0m\u001B[0;34m*\u001B[0m\u001B[0margs\u001B[0m\u001B[0;34m,\u001B[0m \u001B[0;34m**\u001B[0m\u001B[0mkwds\u001B[0m\u001B[0;34m)\u001B[0m  \u001B[0;31m# pylint: disable=not-callable\u001B[0m\u001B[0;34m\u001B[0m\u001B[0;34m\u001B[0m\u001B[0m\n\u001B[0m\u001B[1;32m    918\u001B[0m     \u001B[0;32melif\u001B[0m \u001B[0mself\u001B[0m\u001B[0;34m.\u001B[0m\u001B[0m_stateful_fn\u001B[0m \u001B[0;32mis\u001B[0m \u001B[0;32mnot\u001B[0m \u001B[0;32mNone\u001B[0m\u001B[0;34m:\u001B[0m\u001B[0;34m\u001B[0m\u001B[0;34m\u001B[0m\u001B[0m\n\u001B[1;32m    919\u001B[0m       \u001B[0;31m# Release the lock early so that multiple threads can perform the call\u001B[0m\u001B[0;34m\u001B[0m\u001B[0;34m\u001B[0m\u001B[0m\n",
      "\u001B[0;32m~/miniforge3/envs/tfenv/lib/python3.9/site-packages/tensorflow/python/eager/function.py\u001B[0m in \u001B[0;36m__call__\u001B[0;34m(self, *args, **kwargs)\u001B[0m\n\u001B[1;32m   3037\u001B[0m       (graph_function,\n\u001B[1;32m   3038\u001B[0m        filtered_flat_args) = self._maybe_define_function(args, kwargs)\n\u001B[0;32m-> 3039\u001B[0;31m     return graph_function._call_flat(\n\u001B[0m\u001B[1;32m   3040\u001B[0m         filtered_flat_args, captured_inputs=graph_function.captured_inputs)  # pylint: disable=protected-access\n\u001B[1;32m   3041\u001B[0m \u001B[0;34m\u001B[0m\u001B[0m\n",
      "\u001B[0;32m~/miniforge3/envs/tfenv/lib/python3.9/site-packages/tensorflow/python/eager/function.py\u001B[0m in \u001B[0;36m_call_flat\u001B[0;34m(self, args, captured_inputs, cancellation_manager)\u001B[0m\n\u001B[1;32m   1961\u001B[0m         and executing_eagerly):\n\u001B[1;32m   1962\u001B[0m       \u001B[0;31m# No tape is watching; skip to running the function.\u001B[0m\u001B[0;34m\u001B[0m\u001B[0;34m\u001B[0m\u001B[0m\n\u001B[0;32m-> 1963\u001B[0;31m       return self._build_call_outputs(self._inference_function.call(\n\u001B[0m\u001B[1;32m   1964\u001B[0m           ctx, args, cancellation_manager=cancellation_manager))\n\u001B[1;32m   1965\u001B[0m     forward_backward = self._select_forward_and_backward_functions(\n",
      "\u001B[0;32m~/miniforge3/envs/tfenv/lib/python3.9/site-packages/tensorflow/python/eager/function.py\u001B[0m in \u001B[0;36mcall\u001B[0;34m(self, ctx, args, cancellation_manager)\u001B[0m\n\u001B[1;32m    589\u001B[0m       \u001B[0;32mwith\u001B[0m \u001B[0m_InterpolateFunctionError\u001B[0m\u001B[0;34m(\u001B[0m\u001B[0mself\u001B[0m\u001B[0;34m)\u001B[0m\u001B[0;34m:\u001B[0m\u001B[0;34m\u001B[0m\u001B[0;34m\u001B[0m\u001B[0m\n\u001B[1;32m    590\u001B[0m         \u001B[0;32mif\u001B[0m \u001B[0mcancellation_manager\u001B[0m \u001B[0;32mis\u001B[0m \u001B[0;32mNone\u001B[0m\u001B[0;34m:\u001B[0m\u001B[0;34m\u001B[0m\u001B[0;34m\u001B[0m\u001B[0m\n\u001B[0;32m--> 591\u001B[0;31m           outputs = execute.execute(\n\u001B[0m\u001B[1;32m    592\u001B[0m               \u001B[0mstr\u001B[0m\u001B[0;34m(\u001B[0m\u001B[0mself\u001B[0m\u001B[0;34m.\u001B[0m\u001B[0msignature\u001B[0m\u001B[0;34m.\u001B[0m\u001B[0mname\u001B[0m\u001B[0;34m)\u001B[0m\u001B[0;34m,\u001B[0m\u001B[0;34m\u001B[0m\u001B[0;34m\u001B[0m\u001B[0m\n\u001B[1;32m    593\u001B[0m               \u001B[0mnum_outputs\u001B[0m\u001B[0;34m=\u001B[0m\u001B[0mself\u001B[0m\u001B[0;34m.\u001B[0m\u001B[0m_num_outputs\u001B[0m\u001B[0;34m,\u001B[0m\u001B[0;34m\u001B[0m\u001B[0;34m\u001B[0m\u001B[0m\n",
      "\u001B[0;32m~/miniforge3/envs/tfenv/lib/python3.9/site-packages/tensorflow/python/eager/execute.py\u001B[0m in \u001B[0;36mquick_execute\u001B[0;34m(op_name, num_outputs, inputs, attrs, ctx, name)\u001B[0m\n\u001B[1;32m     57\u001B[0m   \u001B[0;32mtry\u001B[0m\u001B[0;34m:\u001B[0m\u001B[0;34m\u001B[0m\u001B[0;34m\u001B[0m\u001B[0m\n\u001B[1;32m     58\u001B[0m     \u001B[0mctx\u001B[0m\u001B[0;34m.\u001B[0m\u001B[0mensure_initialized\u001B[0m\u001B[0;34m(\u001B[0m\u001B[0;34m)\u001B[0m\u001B[0;34m\u001B[0m\u001B[0;34m\u001B[0m\u001B[0m\n\u001B[0;32m---> 59\u001B[0;31m     tensors = pywrap_tfe.TFE_Py_Execute(ctx._handle, device_name, op_name,\n\u001B[0m\u001B[1;32m     60\u001B[0m                                         inputs, attrs, num_outputs)\n\u001B[1;32m     61\u001B[0m   \u001B[0;32mexcept\u001B[0m \u001B[0mcore\u001B[0m\u001B[0;34m.\u001B[0m\u001B[0m_NotOkStatusException\u001B[0m \u001B[0;32mas\u001B[0m \u001B[0me\u001B[0m\u001B[0;34m:\u001B[0m\u001B[0;34m\u001B[0m\u001B[0;34m\u001B[0m\u001B[0m\n",
      "\u001B[0;31mKeyboardInterrupt\u001B[0m: "
     ]
    }
   ],
   "source": [
    "# define HK model's generator and discriminator\n",
    "generator = make_generator(\n",
    "    input_dim=X_train_hk.shape[1],\n",
    "    feature_cnt=X_train_hk.shape[2]\n",
    ")\n",
    "\n",
    "discriminator = make_discriminator(\n",
    "    feature_cnt=X_train_hk.shape[2]\n",
    ")\n",
    "\n",
    "hk_gan = GAN(generator, discriminator)\n",
    "hk_gan_predicted_y, hk_gan_real_y, hk_gan_history, hk_gan_model = hk_gan.train(\n",
    "    real_x=X_train_hk,\n",
    "    real_y=y_train_hk,\n",
    "    real_y_gan=y_train_gan_hk,\n",
    "    model_save_path=hk_gan_file_path,\n",
    "    checkpoint_save_path=hk_gan_training_checkpoint_file_path,\n",
    ")\n",
    "\n",
    "if hk_gan_model is not None:\n",
    "    hk_gan_model.save(hk_gan_file_path)\n",
    "    print(\"Model Saved\")\n",
    "\n",
    "if hk_gan_history is not None:\n",
    "    np.save(hk_gan_train_history_file_path, hk_gan_history)\n",
    "    # np.save(hk_bgru_train_history_file_path, hk_bgru_history)\n",
    "    print(\"History Saved\")"
   ],
   "metadata": {
    "pycharm": {
     "name": "#%%\n"
    },
    "colab": {
     "base_uri": "https://localhost:8080/",
     "height": 1000
    },
    "id": "Cae8r6nz0cWF",
    "executionInfo": {
     "status": "error",
     "timestamp": 1640716618596,
     "user_tz": -480,
     "elapsed": 12624,
     "user": {
      "displayName": "Wilson Lee",
      "photoUrl": "https://lh3.googleusercontent.com/a/default-user=s64",
      "userId": "12240555497150083704"
     }
    },
    "outputId": "18797011-1089-4fdd-ba9d-b5bedc75b0f3"
   }
  },
  {
   "cell_type": "markdown",
   "source": [
    "##### Train BGRU model for United States stocks"
   ],
   "metadata": {
    "collapsed": false,
    "id": "bXIKbsZQ0cWF"
   }
  },
  {
   "cell_type": "code",
   "execution_count": null,
   "outputs": [],
   "source": [
    "# define US model's generator and discriminator\n",
    "generator = make_generator(\n",
    "    input_dim=X_train_us.shape[1],\n",
    "    feature_cnt=X_train_us.shape[2]\n",
    ")\n",
    "\n",
    "discriminator = make_discriminator(\n",
    "    feature_cnt=X_train_us.shape[2]\n",
    ")\n",
    "\n",
    "us_gan = GAN(generator, discriminator)\n",
    "us_gan_predicted_y, us_gan_real_y, us_gan_history, us_gan_model = us_gan.train(\n",
    "    real_x=X_train_us,\n",
    "    real_y=y_train_us,\n",
    "    real_y_gan=y_train_gan_us,\n",
    "    model_save_path=us_gan_file_path,\n",
    "    checkpoint_save_path=us_gan_training_checkpoint_file_path,\n",
    ")\n",
    "\n",
    "if us_gan_model is not None:\n",
    "    us_gan_model.save(us_gan_file_path)\n",
    "    print(\"Model Saved\")\n",
    "\n",
    "if us_gan_history is not None:\n",
    "    np.save(us_gan_train_history_file_path, us_gan_history)\n",
    "    print(\"History Saved\")"
   ],
   "metadata": {
    "pycharm": {
     "name": "#%%\n"
    },
    "id": "c3t_b3sR0cWF",
    "executionInfo": {
     "status": "aborted",
     "timestamp": 1640716618594,
     "user_tz": -480,
     "elapsed": 12,
     "user": {
      "displayName": "Wilson Lee",
      "photoUrl": "https://lh3.googleusercontent.com/a/default-user=s64",
      "userId": "12240555497150083704"
     }
    }
   }
  },
  {
   "cell_type": "markdown",
   "source": [
    "### plot training history"
   ],
   "metadata": {
    "collapsed": false,
    "pycharm": {
     "name": "#%% md\n"
    },
    "id": "uNP_lkfj0cWF"
   }
  },
  {
   "cell_type": "code",
   "execution_count": null,
   "outputs": [],
   "source": [
    "def plot_history(history_dict, title):\n",
    "    \"\"\"\n",
    "    Plot the training history\n",
    "    :param history_dict: dict, the training history, should be a dict (from keras' history.history)\n",
    "    :param title: str, plot title, example: \"HK BGRU Model - {}\", the program will replace the {} with the relevant metric name\n",
    "    :return:\n",
    "    \"\"\"\n",
    "    # metrics = [\"loss\",\n",
    "    #        \"mean_absolute_error\",\n",
    "    #        \"root_mean_squared_error\",\n",
    "    #        # \"mean_absolute_percentage_error\" # disable plot of MAPE as the normalized data consists of 0 or nearly 0, the MAPE is unreasonably high, will recalculate in evaluation stage\n",
    "    #        # \"val_loss\",\n",
    "    #        # \"val_mean_absolute_error\",\n",
    "    #        # \"val_root_mean_squared_error\",\n",
    "    #        # \"val_mean_absolute_percentage_error\"\n",
    "    #        ]\n",
    "\n",
    "    # for metric in metrics:\n",
    "    plt.figure(figsize=(14, 5), dpi=500, facecolor=\"white\")\n",
    "    # metrics.replace(\"_\", \"\").title()\n",
    "\n",
    "    # parse as float\n",
    "    history_dict[\"d_loss\"] = list(map(float, history_dict[\"d_loss\"]))\n",
    "    history_dict[\"g_loss\"] = list(map(float, history_dict[\"g_loss\"]))\n",
    "\n",
    "    plt.plot(history_dict[\"d_loss\"], label=\"D_loss\")\n",
    "    plt.plot(history_dict[\"g_loss\"], label=\"G_loss\")\n",
    "    plt.xlabel(\"Epochs\")\n",
    "    plt.ylabel('Loss (Binary cross-entropy)')\n",
    "    plt.title(title.format(\"Loss (Binary cross-entropy)\"))\n",
    "    plt.legend()\n",
    "    create_dir_if_not_exist(MODEL_TRAIN_HISTORY_DIAGRAMS_PATH)\n",
    "    # plt.savefig('{}/{}.png'.format(MODEL_TRAIN_HISTORY_DIAGRAMS_PATH, plt.gca().get_title()))\n",
    "    plt.show()"
   ],
   "metadata": {
    "pycharm": {
     "name": "#%%\n"
    },
    "id": "Mnj6D1LB0cWF",
    "executionInfo": {
     "status": "aborted",
     "timestamp": 1640716618595,
     "user_tz": -480,
     "elapsed": 13,
     "user": {
      "displayName": "Wilson Lee",
      "photoUrl": "https://lh3.googleusercontent.com/a/default-user=s64",
      "userId": "12240555497150083704"
     }
    }
   }
  },
  {
   "cell_type": "code",
   "execution_count": null,
   "outputs": [],
   "source": [
    "def read_his_file(filepath, is_csv = False) -> dict:\n",
    "    result = None\n",
    "    if is_csv:\n",
    "        # read from csv and convert to dict\n",
    "        reader = csv.DictReader(open(filepath))\n",
    "\n",
    "        result = {}\n",
    "        for row in reader:\n",
    "            for column, value in row.items():  # consider .iteritems() for Python 2\n",
    "                result.setdefault(column, []).append(value)\n",
    "\n",
    "    else:\n",
    "        result = np.load(filepath, allow_pickle=True).item()\n",
    "\n",
    "    return result"
   ],
   "metadata": {
    "pycharm": {
     "name": "#%%\n"
    },
    "id": "A1pSGT-T0cWF",
    "executionInfo": {
     "status": "aborted",
     "timestamp": 1640716618595,
     "user_tz": -480,
     "elapsed": 13,
     "user": {
      "displayName": "Wilson Lee",
      "photoUrl": "https://lh3.googleusercontent.com/a/default-user=s64",
      "userId": "12240555497150083704"
     }
    }
   }
  },
  {
   "cell_type": "code",
   "execution_count": null,
   "outputs": [],
   "source": [
    "hk_gan_history_dict = read_his_file(hk_gan_train_history_file_path)\n",
    "\n",
    "plot_history(hk_gan_history_dict, \"GAN Model for HK Stock Price Predictions - {}\")\n"
   ],
   "metadata": {
    "pycharm": {
     "name": "#%%\n"
    },
    "id": "hVY9-egD0cWF",
    "executionInfo": {
     "status": "aborted",
     "timestamp": 1640716618596,
     "user_tz": -480,
     "elapsed": 13,
     "user": {
      "displayName": "Wilson Lee",
      "photoUrl": "https://lh3.googleusercontent.com/a/default-user=s64",
      "userId": "12240555497150083704"
     }
    }
   }
  }
 ],
 "metadata": {
  "kernelspec": {
   "display_name": "Python 3",
   "language": "python",
   "name": "python3"
  },
  "language_info": {
   "codemirror_mode": {
    "name": "ipython",
    "version": 2
   },
   "file_extension": ".py",
   "mimetype": "text/x-python",
   "name": "python",
   "nbconvert_exporter": "python",
   "pygments_lexer": "ipython2",
   "version": "2.7.6"
  },
  "colab": {
   "name": "3.2. Model Training - GAN.ipynb",
   "provenance": [],
   "collapsed_sections": []
  }
 },
 "nbformat": 4,
 "nbformat_minor": 0
}